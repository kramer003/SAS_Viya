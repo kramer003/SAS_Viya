{
 "cells": [
  {
   "cell_type": "markdown",
   "metadata": {},
   "source": [
    "# Data Mining Workflow - Autoutuning\n",
    "## with SAS VIYA"
   ]
  },
  {
   "cell_type": "code",
   "execution_count": 1,
   "metadata": {
    "collapsed": false,
    "slideshow": {
     "slide_type": "subslide"
    }
   },
   "outputs": [
    {
     "name": "stdout",
     "output_type": "stream",
     "text": [
      "NOTE: Added action set 'cardinality'.\n",
      "NOTE: Added action set 'sampling'.\n",
      "NOTE: Added action set 'fedSQL'.\n",
      "NOTE: Added action set 'decisionTree'.\n",
      "NOTE: Added action set 'neuralNet'.\n",
      "NOTE: Added action set 'svm'.\n",
      "NOTE: Added action set 'astore'.\n",
      "NOTE: Added action set 'autotune'.\n",
      "NOTE: 'DMlib' is now the active caslib.\n",
      "NOTE: Cloud Analytic Services added the caslib 'DMlib'.\n",
      "NOTE: Cloud Analytic Services made the file hmeq.sas7bdat available as table HMEQ in caslib DMlib.\n"
     ]
    }
   ],
   "source": [
    "# Import necessary packages and modules\n",
    "from swat import *\n",
    "import pandas as pd\n",
    "from matplotlib import pyplot as plt\n",
    "import collections\n",
    "%matplotlib inline\n",
    "\n",
    "# Define directory and data file name\n",
    "indata_dir = '/opt/sasinside/DemoData'\n",
    "indata     = 'hmeq'\n",
    "\n",
    "## Server, port, username, password\n",
    "cashost='sasserver.demo.sas.com'\n",
    "casport=5570\n",
    "casauth='~/.authinfo'\n",
    "\n",
    "# Server, port, username, password\n",
    "s = CAS(cashost, casport, authinfo=casauth, caslib=\"casuser\")\n",
    "\n",
    "# Load actionsets for analysis (for data prep, modeling, assessing)\n",
    "actionsets = ['cardinality', 'sampling', 'fedSQL', 'decisionTree', 'neuralNet', 'svm', 'astore', 'autotune']\n",
    "[s.builtins.loadactionset(i) for i in actionsets]\n",
    "\n",
    "# Create a CAS library called DMLib pointing to the defined directory\n",
    "## Note, need to specify the srctype is path, otherwise it defaults to HDFS\n",
    "DMLib = s.table.addCaslib('DMlib', datasource = 'path', path = indata_dir)\n",
    "\n",
    "# Push the relevant table In-Memory\n",
    "## Note, this is a server side data load, not being loaded from the client\n",
    "inMem = s.table.loadTable(indata + '.sas7bdat', casOut = indata)"
   ]
  },
  {
   "cell_type": "markdown",
   "metadata": {
    "slideshow": {
     "slide_type": "slide"
    }
   },
   "source": [
    "# Data Exploration and Preparation"
   ]
  },
  {
   "cell_type": "markdown",
   "metadata": {},
   "source": [
    "## Investigate the data - CAS"
   ]
  },
  {
   "cell_type": "code",
   "execution_count": 2,
   "metadata": {
    "collapsed": false
   },
   "outputs": [
    {
     "data": {
      "text/html": [
       "<div>\n",
       "<table border=\"1\" class=\"dataframe\"><caption>Selected Rows from Table HMEQ</caption>\n",
       "  <thead>\n",
       "    <tr style=\"text-align: right;\">\n",
       "      <th title=\"\"></th>\n",
       "      <th title=\"BAD\">BAD</th>\n",
       "      <th title=\"LOAN\">LOAN</th>\n",
       "      <th title=\"MORTDUE\">MORTDUE</th>\n",
       "      <th title=\"VALUE\">VALUE</th>\n",
       "      <th title=\"REASON\">REASON</th>\n",
       "      <th title=\"JOB\">JOB</th>\n",
       "      <th title=\"YOJ\">YOJ</th>\n",
       "      <th title=\"DEROG\">DEROG</th>\n",
       "      <th title=\"DELINQ\">DELINQ</th>\n",
       "      <th title=\"CLAGE\">CLAGE</th>\n",
       "      <th title=\"NINQ\">NINQ</th>\n",
       "      <th title=\"CLNO\">CLNO</th>\n",
       "      <th title=\"DEBTINC\">DEBTINC</th>\n",
       "    </tr>\n",
       "  </thead>\n",
       "  <tbody>\n",
       "    <tr>\n",
       "      <th>0</th>\n",
       "      <td>1.0</td>\n",
       "      <td>1100.0</td>\n",
       "      <td>25860.0</td>\n",
       "      <td>39025.0</td>\n",
       "      <td>HomeImp</td>\n",
       "      <td>Other</td>\n",
       "      <td>10.5</td>\n",
       "      <td>0.0</td>\n",
       "      <td>0.0</td>\n",
       "      <td>94.366667</td>\n",
       "      <td>1.0</td>\n",
       "      <td>9.0</td>\n",
       "      <td>NaN</td>\n",
       "    </tr>\n",
       "    <tr>\n",
       "      <th>1</th>\n",
       "      <td>1.0</td>\n",
       "      <td>1300.0</td>\n",
       "      <td>70053.0</td>\n",
       "      <td>68400.0</td>\n",
       "      <td>HomeImp</td>\n",
       "      <td>Other</td>\n",
       "      <td>7.0</td>\n",
       "      <td>0.0</td>\n",
       "      <td>2.0</td>\n",
       "      <td>121.833333</td>\n",
       "      <td>0.0</td>\n",
       "      <td>14.0</td>\n",
       "      <td>NaN</td>\n",
       "    </tr>\n",
       "    <tr>\n",
       "      <th>2</th>\n",
       "      <td>1.0</td>\n",
       "      <td>1500.0</td>\n",
       "      <td>13500.0</td>\n",
       "      <td>16700.0</td>\n",
       "      <td>HomeImp</td>\n",
       "      <td>Other</td>\n",
       "      <td>4.0</td>\n",
       "      <td>0.0</td>\n",
       "      <td>0.0</td>\n",
       "      <td>149.466667</td>\n",
       "      <td>1.0</td>\n",
       "      <td>10.0</td>\n",
       "      <td>NaN</td>\n",
       "    </tr>\n",
       "    <tr>\n",
       "      <th>3</th>\n",
       "      <td>1.0</td>\n",
       "      <td>1500.0</td>\n",
       "      <td>NaN</td>\n",
       "      <td>NaN</td>\n",
       "      <td></td>\n",
       "      <td></td>\n",
       "      <td>NaN</td>\n",
       "      <td>NaN</td>\n",
       "      <td>NaN</td>\n",
       "      <td>NaN</td>\n",
       "      <td>NaN</td>\n",
       "      <td>NaN</td>\n",
       "      <td>NaN</td>\n",
       "    </tr>\n",
       "    <tr>\n",
       "      <th>4</th>\n",
       "      <td>0.0</td>\n",
       "      <td>1700.0</td>\n",
       "      <td>97800.0</td>\n",
       "      <td>112000.0</td>\n",
       "      <td>HomeImp</td>\n",
       "      <td>Office</td>\n",
       "      <td>3.0</td>\n",
       "      <td>0.0</td>\n",
       "      <td>0.0</td>\n",
       "      <td>93.333333</td>\n",
       "      <td>0.0</td>\n",
       "      <td>14.0</td>\n",
       "      <td>NaN</td>\n",
       "    </tr>\n",
       "    <tr>\n",
       "      <th>5</th>\n",
       "      <td>1.0</td>\n",
       "      <td>1700.0</td>\n",
       "      <td>30548.0</td>\n",
       "      <td>40320.0</td>\n",
       "      <td>HomeImp</td>\n",
       "      <td>Other</td>\n",
       "      <td>9.0</td>\n",
       "      <td>0.0</td>\n",
       "      <td>0.0</td>\n",
       "      <td>101.466002</td>\n",
       "      <td>1.0</td>\n",
       "      <td>8.0</td>\n",
       "      <td>37.113614</td>\n",
       "    </tr>\n",
       "    <tr>\n",
       "      <th>6</th>\n",
       "      <td>1.0</td>\n",
       "      <td>1800.0</td>\n",
       "      <td>48649.0</td>\n",
       "      <td>57037.0</td>\n",
       "      <td>HomeImp</td>\n",
       "      <td>Other</td>\n",
       "      <td>5.0</td>\n",
       "      <td>3.0</td>\n",
       "      <td>2.0</td>\n",
       "      <td>77.100000</td>\n",
       "      <td>1.0</td>\n",
       "      <td>17.0</td>\n",
       "      <td>NaN</td>\n",
       "    </tr>\n",
       "    <tr>\n",
       "      <th>7</th>\n",
       "      <td>1.0</td>\n",
       "      <td>1800.0</td>\n",
       "      <td>28502.0</td>\n",
       "      <td>43034.0</td>\n",
       "      <td>HomeImp</td>\n",
       "      <td>Other</td>\n",
       "      <td>11.0</td>\n",
       "      <td>0.0</td>\n",
       "      <td>0.0</td>\n",
       "      <td>88.766030</td>\n",
       "      <td>0.0</td>\n",
       "      <td>8.0</td>\n",
       "      <td>36.884894</td>\n",
       "    </tr>\n",
       "    <tr>\n",
       "      <th>8</th>\n",
       "      <td>1.0</td>\n",
       "      <td>2000.0</td>\n",
       "      <td>32700.0</td>\n",
       "      <td>46740.0</td>\n",
       "      <td>HomeImp</td>\n",
       "      <td>Other</td>\n",
       "      <td>3.0</td>\n",
       "      <td>0.0</td>\n",
       "      <td>2.0</td>\n",
       "      <td>216.933333</td>\n",
       "      <td>1.0</td>\n",
       "      <td>12.0</td>\n",
       "      <td>NaN</td>\n",
       "    </tr>\n",
       "    <tr>\n",
       "      <th>9</th>\n",
       "      <td>1.0</td>\n",
       "      <td>2000.0</td>\n",
       "      <td>NaN</td>\n",
       "      <td>62250.0</td>\n",
       "      <td>HomeImp</td>\n",
       "      <td>Sales</td>\n",
       "      <td>16.0</td>\n",
       "      <td>0.0</td>\n",
       "      <td>0.0</td>\n",
       "      <td>115.800000</td>\n",
       "      <td>0.0</td>\n",
       "      <td>13.0</td>\n",
       "      <td>NaN</td>\n",
       "    </tr>\n",
       "  </tbody>\n",
       "</table>\n",
       "</div>"
      ],
      "text/plain": [
       "Selected Rows from Table HMEQ\n",
       "\n",
       "   BAD    LOAN  MORTDUE     VALUE   REASON     JOB   YOJ  DEROG  DELINQ  \\\n",
       "0  1.0  1100.0  25860.0   39025.0  HomeImp   Other  10.5    0.0     0.0   \n",
       "1  1.0  1300.0  70053.0   68400.0  HomeImp   Other   7.0    0.0     2.0   \n",
       "2  1.0  1500.0  13500.0   16700.0  HomeImp   Other   4.0    0.0     0.0   \n",
       "3  1.0  1500.0      NaN       NaN                    NaN    NaN     NaN   \n",
       "4  0.0  1700.0  97800.0  112000.0  HomeImp  Office   3.0    0.0     0.0   \n",
       "5  1.0  1700.0  30548.0   40320.0  HomeImp   Other   9.0    0.0     0.0   \n",
       "6  1.0  1800.0  48649.0   57037.0  HomeImp   Other   5.0    3.0     2.0   \n",
       "7  1.0  1800.0  28502.0   43034.0  HomeImp   Other  11.0    0.0     0.0   \n",
       "8  1.0  2000.0  32700.0   46740.0  HomeImp   Other   3.0    0.0     2.0   \n",
       "9  1.0  2000.0      NaN   62250.0  HomeImp   Sales  16.0    0.0     0.0   \n",
       "\n",
       "        CLAGE  NINQ  CLNO    DEBTINC  \n",
       "0   94.366667   1.0   9.0        NaN  \n",
       "1  121.833333   0.0  14.0        NaN  \n",
       "2  149.466667   1.0  10.0        NaN  \n",
       "3         NaN   NaN   NaN        NaN  \n",
       "4   93.333333   0.0  14.0        NaN  \n",
       "5  101.466002   1.0   8.0  37.113614  \n",
       "6   77.100000   1.0  17.0        NaN  \n",
       "7   88.766030   0.0   8.0  36.884894  \n",
       "8  216.933333   1.0  12.0        NaN  \n",
       "9  115.800000   0.0  13.0        NaN  "
      ]
     },
     "execution_count": 2,
     "metadata": {},
     "output_type": "execute_result"
    }
   ],
   "source": [
    "# Print out the first 10 rows of the dataset\n",
    "s.CASTable(indata).head(10)"
   ]
  },
  {
   "cell_type": "code",
   "execution_count": 3,
   "metadata": {
    "collapsed": false
   },
   "outputs": [
    {
     "name": "stdout",
     "output_type": "stream",
     "text": [
      "NOTE: Writing cardinality.\n",
      "NOTE: status = 0.\n",
      "NOTE: The Cloud Analytic Services server processed the request in 0.000404148 seconds.\n",
      "\n",
      "                                     Summary Statistics                                    \n"
     ]
    },
    {
     "data": {
      "text/html": [
       "<div>\n",
       "<table border=\"1\" class=\"dataframe\">\n",
       "  <thead>\n",
       "    <tr style=\"text-align: right;\">\n",
       "      <th title=\"\"></th>\n",
       "      <th title=\"_VARNAME_\">_VARNAME_</th>\n",
       "      <th title=\"_TYPE_\">_TYPE_</th>\n",
       "      <th title=\"_PCTMISS_\">_PCTMISS_</th>\n",
       "      <th title=\"_MIN_\">_MIN_</th>\n",
       "      <th title=\"_MAX_\">_MAX_</th>\n",
       "      <th title=\"_MEAN_\">_MEAN_</th>\n",
       "      <th title=\"_STDDEV_\">_STDDEV_</th>\n",
       "      <th title=\"_SKEWNESS_\">_SKEWNESS_</th>\n",
       "      <th title=\"_KURTOSIS_\">_KURTOSIS_</th>\n",
       "    </tr>\n",
       "  </thead>\n",
       "  <tbody>\n",
       "    <tr>\n",
       "      <th>0</th>\n",
       "      <td>BAD</td>\n",
       "      <td>N</td>\n",
       "      <td>0.00</td>\n",
       "      <td>0.00</td>\n",
       "      <td>1.00</td>\n",
       "      <td>0.20</td>\n",
       "      <td>0.40</td>\n",
       "      <td>1.50</td>\n",
       "      <td>0.26</td>\n",
       "    </tr>\n",
       "    <tr>\n",
       "      <th>1</th>\n",
       "      <td>LOAN</td>\n",
       "      <td>N</td>\n",
       "      <td>0.00</td>\n",
       "      <td>1100.00</td>\n",
       "      <td>89900.00</td>\n",
       "      <td>18607.97</td>\n",
       "      <td>11207.48</td>\n",
       "      <td>2.02</td>\n",
       "      <td>6.93</td>\n",
       "    </tr>\n",
       "    <tr>\n",
       "      <th>2</th>\n",
       "      <td>MORTDUE</td>\n",
       "      <td>N</td>\n",
       "      <td>8.69</td>\n",
       "      <td>2063.00</td>\n",
       "      <td>399550.00</td>\n",
       "      <td>73760.82</td>\n",
       "      <td>44457.61</td>\n",
       "      <td>1.81</td>\n",
       "      <td>6.48</td>\n",
       "    </tr>\n",
       "    <tr>\n",
       "      <th>3</th>\n",
       "      <td>VALUE</td>\n",
       "      <td>N</td>\n",
       "      <td>1.88</td>\n",
       "      <td>8000.00</td>\n",
       "      <td>855909.00</td>\n",
       "      <td>101776.05</td>\n",
       "      <td>57385.78</td>\n",
       "      <td>3.05</td>\n",
       "      <td>24.36</td>\n",
       "    </tr>\n",
       "    <tr>\n",
       "      <th>4</th>\n",
       "      <td>REASON</td>\n",
       "      <td>C</td>\n",
       "      <td>4.23</td>\n",
       "      <td>NaN</td>\n",
       "      <td>NaN</td>\n",
       "      <td>NaN</td>\n",
       "      <td>NaN</td>\n",
       "      <td>NaN</td>\n",
       "      <td>NaN</td>\n",
       "    </tr>\n",
       "    <tr>\n",
       "      <th>5</th>\n",
       "      <td>JOB</td>\n",
       "      <td>C</td>\n",
       "      <td>4.68</td>\n",
       "      <td>NaN</td>\n",
       "      <td>NaN</td>\n",
       "      <td>NaN</td>\n",
       "      <td>NaN</td>\n",
       "      <td>NaN</td>\n",
       "      <td>NaN</td>\n",
       "    </tr>\n",
       "    <tr>\n",
       "      <th>6</th>\n",
       "      <td>YOJ</td>\n",
       "      <td>N</td>\n",
       "      <td>8.64</td>\n",
       "      <td>0.00</td>\n",
       "      <td>41.00</td>\n",
       "      <td>8.92</td>\n",
       "      <td>7.57</td>\n",
       "      <td>0.99</td>\n",
       "      <td>0.37</td>\n",
       "    </tr>\n",
       "    <tr>\n",
       "      <th>7</th>\n",
       "      <td>DEROG</td>\n",
       "      <td>N</td>\n",
       "      <td>11.88</td>\n",
       "      <td>0.00</td>\n",
       "      <td>10.00</td>\n",
       "      <td>0.25</td>\n",
       "      <td>0.85</td>\n",
       "      <td>5.32</td>\n",
       "      <td>36.87</td>\n",
       "    </tr>\n",
       "    <tr>\n",
       "      <th>8</th>\n",
       "      <td>DELINQ</td>\n",
       "      <td>N</td>\n",
       "      <td>9.73</td>\n",
       "      <td>0.00</td>\n",
       "      <td>15.00</td>\n",
       "      <td>0.45</td>\n",
       "      <td>1.13</td>\n",
       "      <td>4.02</td>\n",
       "      <td>23.57</td>\n",
       "    </tr>\n",
       "    <tr>\n",
       "      <th>9</th>\n",
       "      <td>CLAGE</td>\n",
       "      <td>N</td>\n",
       "      <td>5.17</td>\n",
       "      <td>0.00</td>\n",
       "      <td>1168.23</td>\n",
       "      <td>179.77</td>\n",
       "      <td>85.81</td>\n",
       "      <td>1.34</td>\n",
       "      <td>7.60</td>\n",
       "    </tr>\n",
       "    <tr>\n",
       "      <th>10</th>\n",
       "      <td>NINQ</td>\n",
       "      <td>N</td>\n",
       "      <td>8.56</td>\n",
       "      <td>0.00</td>\n",
       "      <td>17.00</td>\n",
       "      <td>1.19</td>\n",
       "      <td>1.73</td>\n",
       "      <td>2.62</td>\n",
       "      <td>9.79</td>\n",
       "    </tr>\n",
       "    <tr>\n",
       "      <th>11</th>\n",
       "      <td>CLNO</td>\n",
       "      <td>N</td>\n",
       "      <td>3.72</td>\n",
       "      <td>0.00</td>\n",
       "      <td>71.00</td>\n",
       "      <td>21.30</td>\n",
       "      <td>10.14</td>\n",
       "      <td>0.78</td>\n",
       "      <td>1.16</td>\n",
       "    </tr>\n",
       "    <tr>\n",
       "      <th>12</th>\n",
       "      <td>DEBTINC</td>\n",
       "      <td>N</td>\n",
       "      <td>21.26</td>\n",
       "      <td>0.52</td>\n",
       "      <td>203.31</td>\n",
       "      <td>33.78</td>\n",
       "      <td>8.60</td>\n",
       "      <td>2.85</td>\n",
       "      <td>50.50</td>\n",
       "    </tr>\n",
       "  </tbody>\n",
       "</table>\n",
       "</div>"
      ],
      "text/plain": [
       "   _VARNAME_ _TYPE_  _PCTMISS_    _MIN_      _MAX_     _MEAN_  _STDDEV_  \\\n",
       "0        BAD      N       0.00     0.00       1.00       0.20      0.40   \n",
       "1       LOAN      N       0.00  1100.00   89900.00   18607.97  11207.48   \n",
       "2    MORTDUE      N       8.69  2063.00  399550.00   73760.82  44457.61   \n",
       "3      VALUE      N       1.88  8000.00  855909.00  101776.05  57385.78   \n",
       "4     REASON      C       4.23      NaN        NaN        NaN       NaN   \n",
       "5        JOB      C       4.68      NaN        NaN        NaN       NaN   \n",
       "6        YOJ      N       8.64     0.00      41.00       8.92      7.57   \n",
       "7      DEROG      N      11.88     0.00      10.00       0.25      0.85   \n",
       "8     DELINQ      N       9.73     0.00      15.00       0.45      1.13   \n",
       "9      CLAGE      N       5.17     0.00    1168.23     179.77     85.81   \n",
       "10      NINQ      N       8.56     0.00      17.00       1.19      1.73   \n",
       "11      CLNO      N       3.72     0.00      71.00      21.30     10.14   \n",
       "12   DEBTINC      N      21.26     0.52     203.31      33.78      8.60   \n",
       "\n",
       "    _SKEWNESS_  _KURTOSIS_  \n",
       "0         1.50        0.26  \n",
       "1         2.02        6.93  \n",
       "2         1.81        6.48  \n",
       "3         3.05       24.36  \n",
       "4          NaN         NaN  \n",
       "5          NaN         NaN  \n",
       "6         0.99        0.37  \n",
       "7         5.32       36.87  \n",
       "8         4.02       23.57  \n",
       "9         1.34        7.60  \n",
       "10        2.62        9.79  \n",
       "11        0.78        1.16  \n",
       "12        2.85       50.50  "
      ]
     },
     "execution_count": 3,
     "metadata": {},
     "output_type": "execute_result"
    }
   ],
   "source": [
    "# Create table of summary statistics in SAS\n",
    "s.CASTable(indata).cardinality.summarize(cardinality = dict(name = 'data_card', replace = True))\n",
    "df_data_card = s.CASTable('data_card').to_frame() # bring the data locally\n",
    "\n",
    "# Modify SAS output table using Python to present summary statistics\n",
    "df_data_card['_PCTMISS_'] = (df_data_card['_NMISS_']/df_data_card['_NOBS_'])*100\n",
    "print('\\n', 'Summary Statistics'.center(90, ' '))\n",
    "df_data_card[['_VARNAME_','_TYPE_','_PCTMISS_','_MIN_','_MAX_','_MEAN_','_STDDEV_','_SKEWNESS_','_KURTOSIS_']].round(2)"
   ]
  },
  {
   "cell_type": "markdown",
   "metadata": {
    "slideshow": {
     "slide_type": "slide"
    }
   },
   "source": [
    "## Perform Imputation on Missing Values - CAS"
   ]
  },
  {
   "cell_type": "code",
   "execution_count": 4,
   "metadata": {
    "collapsed": false,
    "scrolled": true
   },
   "outputs": [
    {
     "data": {
      "text/html": [
       "<div>\n",
       "<table border=\"1\" class=\"dataframe\"><caption>Selected Rows from Table HMEQ</caption>\n",
       "  <thead>\n",
       "    <tr style=\"text-align: right;\">\n",
       "      <th title=\"\"></th>\n",
       "      <th title=\"BAD\">BAD</th>\n",
       "      <th title=\"LOAN\">LOAN</th>\n",
       "      <th title=\"MORTDUE\">MORTDUE</th>\n",
       "      <th title=\"VALUE\">VALUE</th>\n",
       "      <th title=\"REASON\">REASON</th>\n",
       "      <th title=\"JOB\">JOB</th>\n",
       "      <th title=\"YOJ\">YOJ</th>\n",
       "      <th title=\"DEROG\">DEROG</th>\n",
       "      <th title=\"DELINQ\">DELINQ</th>\n",
       "      <th title=\"CLAGE\">CLAGE</th>\n",
       "      <th title=\"...\">...</th>\n",
       "      <th title=\"IMP_DEBTINC\">IMP_DEBTINC</th>\n",
       "      <th title=\"IMP_DELINQ\">IMP_DELINQ</th>\n",
       "      <th title=\"IMP_DEROG\">IMP_DEROG</th>\n",
       "      <th title=\"IMP_LOAN\">IMP_LOAN</th>\n",
       "      <th title=\"IMP_MORTDUE\">IMP_MORTDUE</th>\n",
       "      <th title=\"IMP_NINQ\">IMP_NINQ</th>\n",
       "      <th title=\"IMP_VALUE\">IMP_VALUE</th>\n",
       "      <th title=\"IMP_YOJ\">IMP_YOJ</th>\n",
       "      <th title=\"IMP_JOB\">IMP_JOB</th>\n",
       "      <th title=\"IMP_REASON\">IMP_REASON</th>\n",
       "    </tr>\n",
       "  </thead>\n",
       "  <tbody>\n",
       "    <tr>\n",
       "      <th>0</th>\n",
       "      <td>1.0</td>\n",
       "      <td>1100.0</td>\n",
       "      <td>25860.0</td>\n",
       "      <td>39025.0</td>\n",
       "      <td>HomeImp</td>\n",
       "      <td>Other</td>\n",
       "      <td>10.5</td>\n",
       "      <td>0.0</td>\n",
       "      <td>0.0</td>\n",
       "      <td>94.366667</td>\n",
       "      <td>...</td>\n",
       "      <td>34.818262</td>\n",
       "      <td>0.0</td>\n",
       "      <td>0.0</td>\n",
       "      <td>1100.0</td>\n",
       "      <td>25860.0</td>\n",
       "      <td>1.0</td>\n",
       "      <td>39025.0</td>\n",
       "      <td>10.5</td>\n",
       "      <td>Other</td>\n",
       "      <td>HomeImp</td>\n",
       "    </tr>\n",
       "    <tr>\n",
       "      <th>1</th>\n",
       "      <td>1.0</td>\n",
       "      <td>1300.0</td>\n",
       "      <td>70053.0</td>\n",
       "      <td>68400.0</td>\n",
       "      <td>HomeImp</td>\n",
       "      <td>Other</td>\n",
       "      <td>7.0</td>\n",
       "      <td>0.0</td>\n",
       "      <td>2.0</td>\n",
       "      <td>121.833333</td>\n",
       "      <td>...</td>\n",
       "      <td>34.818262</td>\n",
       "      <td>2.0</td>\n",
       "      <td>0.0</td>\n",
       "      <td>1300.0</td>\n",
       "      <td>70053.0</td>\n",
       "      <td>0.0</td>\n",
       "      <td>68400.0</td>\n",
       "      <td>7.0</td>\n",
       "      <td>Other</td>\n",
       "      <td>HomeImp</td>\n",
       "    </tr>\n",
       "    <tr>\n",
       "      <th>2</th>\n",
       "      <td>1.0</td>\n",
       "      <td>1500.0</td>\n",
       "      <td>13500.0</td>\n",
       "      <td>16700.0</td>\n",
       "      <td>HomeImp</td>\n",
       "      <td>Other</td>\n",
       "      <td>4.0</td>\n",
       "      <td>0.0</td>\n",
       "      <td>0.0</td>\n",
       "      <td>149.466667</td>\n",
       "      <td>...</td>\n",
       "      <td>34.818262</td>\n",
       "      <td>0.0</td>\n",
       "      <td>0.0</td>\n",
       "      <td>1500.0</td>\n",
       "      <td>13500.0</td>\n",
       "      <td>1.0</td>\n",
       "      <td>16700.0</td>\n",
       "      <td>4.0</td>\n",
       "      <td>Other</td>\n",
       "      <td>HomeImp</td>\n",
       "    </tr>\n",
       "    <tr>\n",
       "      <th>3</th>\n",
       "      <td>1.0</td>\n",
       "      <td>1500.0</td>\n",
       "      <td>NaN</td>\n",
       "      <td>NaN</td>\n",
       "      <td></td>\n",
       "      <td></td>\n",
       "      <td>NaN</td>\n",
       "      <td>NaN</td>\n",
       "      <td>NaN</td>\n",
       "      <td>NaN</td>\n",
       "      <td>...</td>\n",
       "      <td>34.818262</td>\n",
       "      <td>0.0</td>\n",
       "      <td>0.0</td>\n",
       "      <td>1500.0</td>\n",
       "      <td>65019.0</td>\n",
       "      <td>1.0</td>\n",
       "      <td>89235.5</td>\n",
       "      <td>7.0</td>\n",
       "      <td>Other</td>\n",
       "      <td>DebtCon</td>\n",
       "    </tr>\n",
       "    <tr>\n",
       "      <th>4</th>\n",
       "      <td>0.0</td>\n",
       "      <td>1700.0</td>\n",
       "      <td>97800.0</td>\n",
       "      <td>112000.0</td>\n",
       "      <td>HomeImp</td>\n",
       "      <td>Office</td>\n",
       "      <td>3.0</td>\n",
       "      <td>0.0</td>\n",
       "      <td>0.0</td>\n",
       "      <td>93.333333</td>\n",
       "      <td>...</td>\n",
       "      <td>34.818262</td>\n",
       "      <td>0.0</td>\n",
       "      <td>0.0</td>\n",
       "      <td>1700.0</td>\n",
       "      <td>97800.0</td>\n",
       "      <td>0.0</td>\n",
       "      <td>112000.0</td>\n",
       "      <td>3.0</td>\n",
       "      <td>Office</td>\n",
       "      <td>HomeImp</td>\n",
       "    </tr>\n",
       "  </tbody>\n",
       "</table>\n",
       "<p>5 rows × 25 columns</p>\n",
       "</div>"
      ],
      "text/plain": [
       "Selected Rows from Table HMEQ\n",
       "\n",
       "   BAD    LOAN  MORTDUE     VALUE   REASON     JOB   YOJ  DEROG  DELINQ  \\\n",
       "0  1.0  1100.0  25860.0   39025.0  HomeImp   Other  10.5    0.0     0.0   \n",
       "1  1.0  1300.0  70053.0   68400.0  HomeImp   Other   7.0    0.0     2.0   \n",
       "2  1.0  1500.0  13500.0   16700.0  HomeImp   Other   4.0    0.0     0.0   \n",
       "3  1.0  1500.0      NaN       NaN                    NaN    NaN     NaN   \n",
       "4  0.0  1700.0  97800.0  112000.0  HomeImp  Office   3.0    0.0     0.0   \n",
       "\n",
       "        CLAGE     ...      IMP_DEBTINC  IMP_DELINQ  IMP_DEROG  IMP_LOAN  \\\n",
       "0   94.366667     ...        34.818262         0.0        0.0    1100.0   \n",
       "1  121.833333     ...        34.818262         2.0        0.0    1300.0   \n",
       "2  149.466667     ...        34.818262         0.0        0.0    1500.0   \n",
       "3         NaN     ...        34.818262         0.0        0.0    1500.0   \n",
       "4   93.333333     ...        34.818262         0.0        0.0    1700.0   \n",
       "\n",
       "   IMP_MORTDUE  IMP_NINQ  IMP_VALUE  IMP_YOJ  IMP_JOB  IMP_REASON  \n",
       "0      25860.0       1.0    39025.0     10.5    Other     HomeImp  \n",
       "1      70053.0       0.0    68400.0      7.0    Other     HomeImp  \n",
       "2      13500.0       1.0    16700.0      4.0    Other     HomeImp  \n",
       "3      65019.0       1.0    89235.5      7.0    Other     DebtCon  \n",
       "4      97800.0       0.0   112000.0      3.0   Office     HomeImp  \n",
       "\n",
       "[5 rows x 25 columns]"
      ]
     },
     "execution_count": 4,
     "metadata": {},
     "output_type": "execute_result"
    }
   ],
   "source": [
    "# Impute missing values\n",
    "s.dataPreprocess.impute(\n",
    "    table             = indata,\n",
    "    outVarsNamePrefix = 'IMP',\n",
    "    methodContinuous  = 'MEDIAN',\n",
    "    methodNominal     = 'MODE',\n",
    "    inputs            = list(df_data_card['_VARNAME_'])[1:],\n",
    "    copyAllVars       = True,\n",
    "    casOut            = dict(name = indata, replace = True)\n",
    ")\n",
    "\n",
    "# Print the first five rows with imputations\n",
    "s.CASTable(indata).head()"
   ]
  },
  {
   "cell_type": "markdown",
   "metadata": {
    "slideshow": {
     "slide_type": "slide"
    }
   },
   "source": [
    "## Partition Data into Training and Validation Sets - CAS"
   ]
  },
  {
   "cell_type": "code",
   "execution_count": 5,
   "metadata": {
    "collapsed": false
   },
   "outputs": [
    {
     "data": {
      "text/html": [
       "<div class=\"cas-results-key\"><b>&#167; outputSize</b></div>\n",
       "<div class=\"cas-results-body\">\n",
       "<div>{'outputNObs': 5960.0, 'outputNVars': 26}</div>\n",
       "</div>\n",
       "<div class=\"cas-results-key\"><hr/><b>&#167; STRAFreq</b></div>\n",
       "<div class=\"cas-results-body\">\n",
       "<div>\n",
       "<table border=\"1\" class=\"dataframe\"><caption>Frequencies</caption>\n",
       "  <thead>\n",
       "    <tr style=\"text-align: right;\">\n",
       "      <th title=\"\"></th>\n",
       "      <th title=\"Index\">ByGrpID</th>\n",
       "      <th title=\"BAD\">BAD</th>\n",
       "      <th title=\"Number of Obs\">NObs</th>\n",
       "      <th title=\"Number of Samples\">NSamp</th>\n",
       "    </tr>\n",
       "  </thead>\n",
       "  <tbody>\n",
       "    <tr>\n",
       "      <th>0</th>\n",
       "      <td>0</td>\n",
       "      <td>0</td>\n",
       "      <td>4771</td>\n",
       "      <td>3340</td>\n",
       "    </tr>\n",
       "    <tr>\n",
       "      <th>1</th>\n",
       "      <td>1</td>\n",
       "      <td>1</td>\n",
       "      <td>1189</td>\n",
       "      <td>832</td>\n",
       "    </tr>\n",
       "  </tbody>\n",
       "</table>\n",
       "</div>\n",
       "</div>\n",
       "<div class=\"cas-results-key\"><hr/><b>&#167; OutputCasTables</b></div>\n",
       "<div class=\"cas-results-body\">\n",
       "<div>\n",
       "<table border=\"1\" class=\"dataframe\">\n",
       "  <thead>\n",
       "    <tr style=\"text-align: right;\">\n",
       "      <th title=\"\"></th>\n",
       "      <th title=\"CAS Library\">casLib</th>\n",
       "      <th title=\"Name\">Name</th>\n",
       "      <th title=\"Label\">Label</th>\n",
       "      <th title=\"Number of Rows\">Rows</th>\n",
       "      <th title=\"Number of Columns\">Columns</th>\n",
       "      <th title=\"Table\">casTable</th>\n",
       "    </tr>\n",
       "  </thead>\n",
       "  <tbody>\n",
       "    <tr>\n",
       "      <th>0</th>\n",
       "      <td>DMlib</td>\n",
       "      <td>hmeq</td>\n",
       "      <td></td>\n",
       "      <td>5960</td>\n",
       "      <td>26</td>\n",
       "      <td>CASTable('hmeq', caslib='DMlib')</td>\n",
       "    </tr>\n",
       "  </tbody>\n",
       "</table>\n",
       "</div>\n",
       "</div>\n",
       "<div class=\"cas-output-area\"></div>\n",
       "<p class=\"cas-results-performance\"><small><span class=\"cas-elapsed\">elapsed 0.0202s</span> &#183; <span class=\"cas-user\">user 0.018s</span> &#183; <span class=\"cas-sys\">sys 0.003s</span> &#183; <span class=\"cas-memory\">mem 5.92MB</span></small></p>"
      ],
      "text/plain": [
       "[outputSize]\n",
       "\n",
       " {'outputNObs': 5960.0, 'outputNVars': 26}\n",
       "\n",
       "[STRAFreq]\n",
       "\n",
       " Frequencies\n",
       " \n",
       "    ByGrpID           BAD  NObs  NSamp\n",
       " 0        0             0  4771   3340\n",
       " 1        1             1  1189    832\n",
       "\n",
       "[OutputCasTables]\n",
       "\n",
       "   casLib  Name Label  Rows  Columns                          casTable\n",
       " 0  DMlib  hmeq        5960       26  CASTable('hmeq', caslib='DMlib')\n",
       "\n",
       "+ Elapsed: 0.0202s, user: 0.018s, sys: 0.003s, mem: 5.92mb"
      ]
     },
     "execution_count": 5,
     "metadata": {},
     "output_type": "execute_result"
    }
   ],
   "source": [
    "%%capture\n",
    "# Create a 70/30 stratified split\n",
    "s.sampling.stratified(\n",
    "    table   = dict(name = indata, groupBy = df_data_card['_VARNAME_'][0]),\n",
    "    samppct = 70,\n",
    "    partind = True,\n",
    "    seed    = 12345,\n",
    "    output  = dict(casOut = dict(name = indata, replace = True), copyVars = 'ALL')\n",
    ")\n"
   ]
  },
  {
   "cell_type": "markdown",
   "metadata": {},
   "source": [
    "# Build Models"
   ]
  },
  {
   "cell_type": "markdown",
   "metadata": {},
   "source": [
    "## Set Modeling Shortcuts - Python"
   ]
  },
  {
   "cell_type": "markdown",
   "metadata": {},
   "source": [
    "### Models to be performed"
   ]
  },
  {
   "cell_type": "code",
   "execution_count": 6,
   "metadata": {
    "collapsed": true
   },
   "outputs": [],
   "source": [
    "# Models to be performed\n",
    "models = collections.OrderedDict()\n",
    "models['dt']  = 'Decision Tree'\n",
    "models['gbt'] = 'Gradient Boosting'\n",
    "models['nn']  = 'Neural Network'\n",
    "models['svm'] = 'Support Vector Machine'"
   ]
  },
  {
   "cell_type": "markdown",
   "metadata": {},
   "source": [
    "### Set variable shortcuts"
   ]
  },
  {
   "cell_type": "code",
   "execution_count": 7,
   "metadata": {
    "collapsed": true
   },
   "outputs": [],
   "source": [
    "# Set variables for later use by models\n",
    "## For models that can handle missing values\n",
    "target              = df_data_card['_VARNAME_'][0]\n",
    "class_inputs        = list(df_data_card.query('_TYPE_ == \"C\"')['_VARNAME_'])\n",
    "interval_inputs     = list(df_data_card.query('_TYPE_ == \"N\"')['_VARNAME_'])[1:]\n",
    "class_vars          = [target] + class_inputs\n",
    "all_inputs          = interval_inputs + class_inputs\n",
    "\n",
    "## For models that can't handle missing values\n",
    "imp_class_inputs    = ['IMP_' + s for s in class_inputs]\n",
    "imp_interval_inputs = ['IMP_' + s for s in interval_inputs]\n",
    "imp_class_vars      = [target] + imp_class_inputs\n",
    "imp_all_inputs      = imp_interval_inputs + imp_class_inputs"
   ]
  },
  {
   "cell_type": "markdown",
   "metadata": {},
   "source": [
    "### Set modeling argument shortcuts"
   ]
  },
  {
   "cell_type": "code",
   "execution_count": 8,
   "metadata": {
    "collapsed": false
   },
   "outputs": [],
   "source": [
    "def autotune_kwds(model):\n",
    "    training_options = dict(table    = dict(name=indata, where = '_PartInd_ = 1'),\n",
    "                            inputs   = all_inputs,\n",
    "                            nominals = class_vars,\n",
    "                            target   = target,\n",
    "                            casout   = dict(name= model + 'opt', replace=True))\n",
    "                            \n",
    "    return training_options\n",
    "\n",
    "def autotune_kwds_i(model):\n",
    "    training_options = dict(table    = dict(name=indata, where = '_PartInd_ = 1'),\n",
    "                            inputs   = imp_all_inputs,\n",
    "                            nominals = imp_class_vars,\n",
    "                            target   = target,\n",
    "                            casout   = dict(name= model + 'opt', replace=True))\n",
    "                            \n",
    "    return training_options"
   ]
  },
  {
   "cell_type": "markdown",
   "metadata": {},
   "source": [
    "## Decision Tree - CAS"
   ]
  },
  {
   "cell_type": "code",
   "execution_count": 9,
   "metadata": {
    "collapsed": false,
    "scrolled": true
   },
   "outputs": [
    {
     "name": "stdout",
     "output_type": "stream",
     "text": [
      "NOTE: Autotune is started for 'Decision Tree' model.\n",
      "NOTE: Autotune option MAXEVALS=50.\n",
      "NOTE: Autotune option MAXTIME=60 (sec.).\n",
      "NOTE: Autotune objective is 'Misclassification Error Percentage'.\n",
      "NOTE: The SEED for autotune is 462586787.\n",
      "         Iteration       Evals     Best Objective        Time\n",
      "                 0           1             11.801        0.05\n",
      "                 1          10             11.242        4.80\n",
      "                 2          18             11.242        5.71\n",
      "                 3          26             10.794        6.80\n",
      "                 4          35             10.794        7.77\n",
      "                 5          43             10.794       10.81\n",
      "NOTE: Autotune time is 10.87 seconds.\n",
      "ModelInfo Decision Tree for HMEQ\n",
      "\n",
      "                           Descr       Value\n",
      "0           Number of Tree Nodes   177.00000\n",
      "1         Max Number of Branches     2.00000\n",
      "2               Number of Levels    10.00000\n",
      "3               Number of Leaves    89.00000\n",
      "4                 Number of Bins   128.00000\n",
      "5         Minimum Size of Leaves     5.00000\n",
      "6         Maximum Size of Leaves  1448.00000\n",
      "7            Number of Variables    12.00000\n",
      "8   Confidence Level for Pruning     0.25000\n",
      "9    Number of Observations Used  4172.00000\n",
      "10   Misclassification Error (%)     8.10163\n",
      "OutputCasTables   casLib   Name  Rows  Columns                           casTable\n",
      "0  DMlib  dtopt   177       37  CASTable('dtopt', caslib='DMlib')\n",
      "ScoreInfo                          Descr         Value\n",
      "0  Number of Observations Read          1788\n",
      "1  Number of Observations Used          1788\n",
      "2  Misclassification Error (%)  10.794183445\n",
      "TunerInfo Tuner Info\n",
      "\n",
      "                        Parameter                               Value\n",
      "0                      Model Type                       Decision Tree\n",
      "1        Tuner Objective Function  Misclassification Error Percentage\n",
      "2             Maximum Evaluations                                  50\n",
      "3                 Population Size                                  10\n",
      "4              Maximum Iterations                                   5\n",
      "5  Maximum Tuning Time in Seconds                                  60\n",
      "6                 Validation Type              User Defined Partition\n",
      "7                       Log Level                                   2\n",
      "8                            Seed                           462586787\n",
      "TunerResults Tuner Results\n",
      "\n",
      "    Evaluation  MAXLEVEL  NBINS       CRIT  MisclassErr\n",
      "0            0        11     20  GAINRATIO    11.800895\n",
      "1           24        10    128  CHISQUARE    10.794183\n",
      "2           20         9     98       GINI    10.850112\n",
      "3           43        10     83       GINI    10.850112\n",
      "4           37        10    125  CHISQUARE    10.961969\n",
      "5           42        10    158  CHISQUARE    10.961969\n",
      "6           39        10     95       GINI    11.073826\n",
      "7           21        10    144  CHISQUARE    11.129754\n",
      "8           38        10    170       GAIN    11.129754\n",
      "9            5         9    136  CHISQUARE    11.241611\n",
      "10          13         9     20       GAIN    11.241611\n",
      "BestConfiguration Best Configuration\n",
      "\n",
      "                            Parameter      Value\n",
      "0                          Evaluation         24\n",
      "1                 Maximum Tree Levels         10\n",
      "2                        Maximum Bins        128\n",
      "3                           Criterion  CHISQUARE\n",
      "4  Misclassification Error Percentage      10.79\n",
      "TunerSummary Tuner Summary\n",
      "\n",
      "                                          Parameter      Value\n",
      "0             Initial Configuration Objective Value  11.800895\n",
      "1                Best Configuration Objective Value  10.794183\n",
      "2               Worst Configuration Objective Value  17.561521\n",
      "3  Initial Configuration Evaluation Time in Seconds   0.048689\n",
      "4     Best Configuration Evaluation Time in Seconds   0.174803\n",
      "5                 Number of Improved Configurations   4.000000\n",
      "6                Number of Evaluated Configurations  43.000000\n",
      "7                      Total Tuning Time in Seconds  10.870037\n",
      "TunerTiming Tuner Task Timing\n",
      "\n",
      "                          Task   Time_sec  Time_percent\n",
      "0               Model Training  10.566479     97.207389\n",
      "1                Model Scoring   0.236728      2.177807\n",
      "2  Total Objective Evaluations  10.804382     99.396002\n",
      "3                        Tuner   0.065655      0.603998\n",
      "4                   Total Time  10.870037    100.000000\n"
     ]
    }
   ],
   "source": [
    "s.invoke(\n",
    "    'autotune.tuneDecisionTree', \n",
    "     trainOptions = autotune_kwds('dt'), \n",
    "     tunerOptions = dict(maxTime=60, userDefinedPartition = True),\n",
    "     scoreOptions = dict(table = dict(name = indata, where = '_PartInd_ = 0'))\n",
    ")\n",
    "\n",
    "for response in s:\n",
    "    for k, v in response:\n",
    "        print(k, v)"
   ]
  },
  {
   "cell_type": "markdown",
   "metadata": {
    "slideshow": {
     "slide_type": "slide"
    }
   },
   "source": [
    "## Gradient Boosting - CAS"
   ]
  },
  {
   "cell_type": "code",
   "execution_count": 10,
   "metadata": {
    "collapsed": false,
    "scrolled": true
   },
   "outputs": [
    {
     "name": "stdout",
     "output_type": "stream",
     "text": [
      "NOTE: Autotune is started for 'Gradient Boosting Tree' model.\n",
      "NOTE: Autotune option MAXEVALS=50.\n",
      "NOTE: Autotune option MAXTIME=60 (sec.).\n",
      "NOTE: Autotune objective is 'Misclassification Error Percentage'.\n",
      "NOTE: The SEED for autotune is 462585670.\n",
      "         Iteration       Evals     Best Objective        Time\n",
      "                 0           1             9.0604        1.43\n",
      "                 1          10              8.557       12.31\n",
      "                 2          19             7.2707       21.62\n",
      "                 3          28             7.2707       34.13\n",
      "                 4          37             7.2707       45.01\n",
      "                 5          46             7.2707       55.03\n",
      "NOTE: Autotune time is 55.04 seconds.\n",
      "ModelInfo Gradient Boosting Tree for HMEQ\n",
      "\n",
      "                               Descr         Value\n",
      "0                    Number of Trees  6.100000e+01\n",
      "1                       Distribution  2.000000e+00\n",
      "2                      Learning Rate  5.954568e-01\n",
      "3                   Subsampling Rate  1.000000e+00\n",
      "4   Number of Selected Variables (M)  4.000000e+00\n",
      "5                     Number of Bins  2.000000e+01\n",
      "6                Number of Variables  1.200000e+01\n",
      "7           Max Number of Tree Nodes  6.300000e+01\n",
      "8           Min Number of Tree Nodes  1.900000e+01\n",
      "9             Max Number of Branches  2.000000e+00\n",
      "10            Min Number of Branches  2.000000e+00\n",
      "11              Max Number of Levels  6.000000e+00\n",
      "12              Min Number of Levels  6.000000e+00\n",
      "13              Max Number of Leaves  3.200000e+01\n",
      "14              Min Number of Leaves  1.000000e+01\n",
      "15            Maximum Size of Leaves  3.828000e+03\n",
      "16            Minimum Size of Leaves  5.000000e+00\n",
      "17                Random Number Seed  4.625857e+08\n",
      "OutputCasTables   casLib    Name  Rows  Columns                            casTable\n",
      "0  DMlib  gbtopt  2831       31  CASTable('gbtopt', caslib='DMlib')\n",
      "ScoreInfo                          Descr         Value\n",
      "0  Number of Observations Read          1788\n",
      "1  Number of Observations Used          1788\n",
      "2  Misclassification Error (%)  7.2706935123\n",
      "ErrorMetricInfo     TreeID  Trees  NLeaves       MCR   LogLoss       ASE      RASE     MAXAE\n",
      "0      0.0    1.0     25.0  0.150447  0.395942  0.119807  0.346131  0.887357\n",
      "1      1.0    2.0     55.0  0.139821  0.335034  0.099801  0.315913  0.928880\n",
      "2      2.0    3.0     84.0  0.124161  0.305458  0.089792  0.299654  0.951636\n",
      "3      3.0    4.0    106.0  0.110738  0.290126  0.085402  0.292236  0.968100\n",
      "4      4.0    5.0    123.0  0.112416  0.281921  0.083352  0.288707  0.971292\n",
      "5      5.0    6.0    146.0  0.104027  0.275664  0.081485  0.285456  0.976989\n",
      "6      6.0    7.0    173.0  0.105705  0.267919  0.079205  0.281434  0.979048\n",
      "7      7.0    8.0    203.0  0.100112  0.260573  0.077285  0.278002  0.984974\n",
      "8      8.0    9.0    216.0  0.098993  0.256774  0.076313  0.276247  0.984190\n",
      "9      9.0   10.0    239.0  0.098434  0.251803  0.074821  0.273535  0.985062\n",
      "10    10.0   11.0    261.0  0.098434  0.248045  0.073647  0.271379  0.985345\n",
      "11    11.0   12.0    282.0  0.097875  0.241725  0.071873  0.268092  0.985903\n",
      "12    12.0   13.0    296.0  0.097315  0.242190  0.071774  0.267907  0.986002\n",
      "13    13.0   14.0    311.0  0.093400  0.241604  0.071605  0.267590  0.987629\n",
      "14    14.0   15.0    334.0  0.096197  0.239888  0.071205  0.266844  0.988105\n",
      "15    15.0   16.0    362.0  0.094519  0.238444  0.070580  0.265669  0.991691\n",
      "16    16.0   17.0    377.0  0.093400  0.237146  0.070133  0.264827  0.994278\n",
      "17    17.0   18.0    402.0  0.088367  0.232442  0.068553  0.261827  0.994926\n",
      "18    18.0   19.0    415.0  0.087808  0.231790  0.068332  0.261403  0.994910\n",
      "19    19.0   20.0    436.0  0.085570  0.228407  0.067094  0.259024  0.995696\n",
      "20    20.0   21.0    467.0  0.086130  0.224390  0.065986  0.256877  0.991614\n",
      "21    21.0   22.0    481.0  0.086689  0.223609  0.065813  0.256540  0.991494\n",
      "22    22.0   23.0    495.0  0.087808  0.223015  0.065663  0.256248  0.991570\n",
      "23    23.0   24.0    505.0  0.087808  0.221249  0.065181  0.255305  0.994448\n",
      "24    24.0   25.0    520.0  0.086130  0.220443  0.064943  0.254840  0.989899\n",
      "25    25.0   26.0    537.0  0.085570  0.219251  0.064690  0.254341  0.990804\n",
      "26    26.0   27.0    564.0  0.082774  0.214866  0.063554  0.252100  0.991094\n",
      "27    27.0   28.0    579.0  0.081655  0.214342  0.063335  0.251664  0.991063\n",
      "28    28.0   29.0    601.0  0.083333  0.211220  0.062435  0.249870  0.989292\n",
      "29    29.0   30.0    633.0  0.080537  0.210352  0.062051  0.249100  0.990236\n",
      "..     ...    ...      ...       ...       ...       ...       ...       ...\n",
      "31    31.0   32.0    685.0  0.081096  0.209383  0.061227  0.247442  0.993578\n",
      "32    32.0   33.0    713.0  0.078300  0.206763  0.060656  0.246285  0.995637\n",
      "33    33.0   34.0    738.0  0.077181  0.207378  0.060597  0.246165  0.996030\n",
      "34    34.0   35.0    765.0  0.077740  0.204278  0.059710  0.244356  0.995171\n",
      "35    35.0   36.0    785.0  0.075503  0.203386  0.059508  0.243943  0.994482\n",
      "36    36.0   37.0    810.0  0.076063  0.202144  0.059104  0.243113  0.994501\n",
      "37    37.0   38.0    835.0  0.076063  0.201311  0.058933  0.242761  0.996132\n",
      "38    38.0   39.0    857.0  0.075503  0.200378  0.058415  0.241692  0.996072\n",
      "39    39.0   40.0    885.0  0.073826  0.199105  0.057993  0.240817  0.996058\n",
      "40    40.0   41.0    912.0  0.075503  0.197273  0.057684  0.240176  0.996305\n",
      "41    41.0   42.0    934.0  0.072707  0.198043  0.057703  0.240215  0.997191\n",
      "42    42.0   43.0    962.0  0.077740  0.198245  0.058112  0.241064  0.996711\n",
      "43    43.0   44.0    979.0  0.077740  0.198303  0.058075  0.240988  0.996729\n",
      "44    44.0   45.0   1009.0  0.078300  0.196295  0.057305  0.239385  0.996705\n",
      "45    45.0   46.0   1041.0  0.076622  0.195599  0.056831  0.238393  0.997242\n",
      "46    46.0   47.0   1064.0  0.077740  0.194715  0.056534  0.237769  0.997318\n",
      "47    47.0   48.0   1094.0  0.079978  0.194349  0.056421  0.237530  0.997918\n",
      "48    48.0   49.0   1118.0  0.078300  0.193613  0.056306  0.237288  0.997734\n",
      "49    49.0   50.0   1142.0  0.077740  0.192916  0.055929  0.236492  0.997683\n",
      "50    50.0   51.0   1169.0  0.077740  0.192506  0.055748  0.236109  0.997870\n",
      "51    51.0   52.0   1200.0  0.077181  0.191096  0.055352  0.235271  0.997794\n",
      "52    52.0   53.0   1230.0  0.079418  0.192288  0.055864  0.236356  0.997080\n",
      "53    53.0   54.0   1262.0  0.078300  0.191986  0.055660  0.235923  0.997031\n",
      "54    54.0   55.0   1283.0  0.078300  0.190785  0.055189  0.234924  0.997001\n",
      "55    55.0   56.0   1309.0  0.076063  0.190758  0.055137  0.234813  0.997784\n",
      "56    56.0   57.0   1337.0  0.077181  0.189984  0.054997  0.234514  0.998364\n",
      "57    57.0   58.0   1366.0  0.077181  0.188198  0.054549  0.233558  0.998243\n",
      "58    58.0   59.0   1388.0  0.075503  0.189184  0.054844  0.234188  0.998318\n",
      "59    59.0   60.0   1418.0  0.074944  0.187980  0.054478  0.233405  0.998266\n",
      "60    60.0   61.0   1446.0  0.072707  0.188128  0.054399  0.233236  0.998222\n",
      "\n",
      "[61 rows x 8 columns]\n",
      "TunerInfo Tuner Info\n",
      "\n",
      "                        Parameter                               Value\n",
      "0                      Model Type              Gradient Boosting Tree\n",
      "1        Tuner Objective Function  Misclassification Error Percentage\n",
      "2             Maximum Evaluations                                  50\n",
      "3                 Population Size                                  10\n",
      "4              Maximum Iterations                                   5\n",
      "5  Maximum Tuning Time in Seconds                                  60\n",
      "6                 Validation Type              User Defined Partition\n",
      "7                       Log Level                                   2\n",
      "8                            Seed                           462585670\n",
      "TunerResults Tuner Results\n",
      "\n",
      "    Evaluation  NTREE  M  LEARNINGRATE  SUBSAMPLERATE     LASSO     RIDGE  \\\n",
      "0            0    100  1      0.100000       0.500000  0.000000  0.000000   \n",
      "1           11     61  4      0.595457       1.000000  0.000000  0.751613   \n",
      "2           38     50  5      0.726228       0.792756  0.024416  0.932764   \n",
      "3           21     82  2      0.344608       0.743400  0.065208  0.404122   \n",
      "4           41     66  4      0.646387       0.685796  0.000000  1.125880   \n",
      "5           22     91  2      0.231358       0.627555  0.094647  0.247242   \n",
      "6           46    100  3      0.250284       0.676475  1.079193  0.987673   \n",
      "7           40     96  3      0.324208       0.650536  1.359058  1.278254   \n",
      "8           44     95  2      0.500219       0.807826  1.815574  1.527330   \n",
      "9           33     59  4      0.626596       0.766871  0.084916  0.794748   \n",
      "10          39     88  2      0.273990       0.805684  0.036347  0.306299   \n",
      "\n",
      "    MisclassErr  \n",
      "0      9.060403  \n",
      "1      7.270694  \n",
      "2      7.326622  \n",
      "3      7.494407  \n",
      "4      7.494407  \n",
      "5      7.606264  \n",
      "6      7.662192  \n",
      "7      7.774049  \n",
      "8      7.997763  \n",
      "9      8.053691  \n",
      "10     8.109620  \n",
      "BestConfiguration Best Configuration\n",
      "\n",
      "                            Parameter       Value\n",
      "0                          Evaluation          11\n",
      "1                     Number of Trees          61\n",
      "2          Number of Variables to Try           4\n",
      "3                       Learning Rate  0.59545685\n",
      "4                       Sampling Rate           1\n",
      "5                               Lasso           0\n",
      "6                               Ridge  0.75161279\n",
      "7  Misclassification Error Percentage        7.27\n",
      "TunerSummary Tuner Summary\n",
      "\n",
      "                                          Parameter      Value\n",
      "0             Initial Configuration Objective Value   9.060403\n",
      "1                Best Configuration Objective Value   7.270694\n",
      "2               Worst Configuration Objective Value  12.416107\n",
      "3  Initial Configuration Evaluation Time in Seconds   1.427506\n",
      "4     Best Configuration Evaluation Time in Seconds   0.887920\n",
      "5                 Number of Improved Configurations   2.000000\n",
      "6                Number of Evaluated Configurations  46.000000\n",
      "7                      Total Tuning Time in Seconds  55.037853\n",
      "TunerTiming Tuner Task Timing\n",
      "\n",
      "                          Task   Time_sec  Time_percent\n",
      "0               Model Training  46.752551     84.946176\n",
      "1                Model Scoring   8.278223     15.040963\n",
      "2  Total Objective Evaluations  55.032370     99.990038\n",
      "3                        Tuner   0.005483      0.009962\n",
      "4                   Total Time  55.037853    100.000000\n"
     ]
    }
   ],
   "source": [
    "s.invoke(\n",
    "    'autotune.tuneGradientBoostTree', \n",
    "     trainOptions=autotune_kwds('gbt'), \n",
    "     tunerOptions=dict(maxTime=60, userDefinedPartition = True),\n",
    "     scoreOptions = dict(table = dict(name = indata, where = '_PartInd_ = 0')),\n",
    "     tuningParameters=[dict(namePath='m', initValue=1)]\n",
    ")\n",
    "\n",
    "for response in s:\n",
    "    for k, v in response:\n",
    "        print(k, v)"
   ]
  },
  {
   "cell_type": "markdown",
   "metadata": {
    "slideshow": {
     "slide_type": "slide"
    }
   },
   "source": [
    "## Neural Network - CAS"
   ]
  },
  {
   "cell_type": "code",
   "execution_count": 11,
   "metadata": {
    "collapsed": false,
    "scrolled": true
   },
   "outputs": [
    {
     "name": "stdout",
     "output_type": "stream",
     "text": [
      "NOTE: Autotune is started for 'Neural Net' model.\n",
      "NOTE: Autotune option MAXEVALS=50.\n",
      "NOTE: Autotune option MAXTIME=60 (sec.).\n",
      "NOTE: Autotune objective is 'Misclassification Error Percentage'.\n",
      "NOTE: The SEED for autotune is 462580067.\n",
      "         Iteration       Evals     Best Objective        Time\n",
      "                 0           1             16.387        0.08\n",
      "                 1          10             15.772        4.04\n",
      "                 2          19             14.709        9.48\n",
      "                 3          28             14.709       11.51\n",
      "                 4          37             14.597       15.34\n",
      "                 5          46             14.597       18.23\n",
      "NOTE: Autotune time is 18.24 seconds.\n",
      "OptIterHistory    Progress  Objective      Loss\n",
      "0       1.0   3.992488  3.992487\n",
      "1       2.0   1.820943  1.820941\n",
      "2       3.0   1.659068  1.659066\n",
      "3       4.0   1.577613  1.577611\n",
      "4       5.0   1.554180  1.554178\n",
      "5       6.0   1.533945  1.533944\n",
      "6       7.0   1.506889  1.506887\n",
      "7       8.0   1.477311  1.477309\n",
      "8       9.0   1.451614  1.451612\n",
      "9      10.0   1.426372  1.426370\n",
      "ConvergenceStatus                                            Reason\n",
      "0  The optimization exited on maximum iterations.\n",
      "ModelInfo Neural Net Model Info for HMEQ\n",
      "\n",
      "                          Descr         Value\n",
      "0                         Model    Neural Net\n",
      "1   Number of Observations Used          4172\n",
      "2   Number of Observations Read          4172\n",
      "3      Target/Response Variable           BAD\n",
      "4               Number of Nodes            56\n",
      "5         Number of Input Nodes            18\n",
      "6        Number of Output Nodes             2\n",
      "7        Number of Hidden Nodes            36\n",
      "8       Number of Hidden Layers             1\n",
      "9   Number of Weight Parameters           684\n",
      "10    Number of Bias Parameters            38\n",
      "11                 Architecture           MLP\n",
      "12        Number of Neural Nets             1\n",
      "13              Objective Value  1.4263716174\n",
      "OutputCasTables   casLib   Name  Rows  Columns                           casTable\n",
      "0  DMlib  nnopt   686       15  CASTable('nnopt', caslib='DMlib')\n",
      "ScoreInfo                          Descr         Value\n",
      "0  Number of Observations Read          1788\n",
      "1  Number of Observations Used          1788\n",
      "2  Misclassification Error (%)  14.597315436\n",
      "TunerInfo Tuner Info\n",
      "\n",
      "                        Parameter                               Value\n",
      "0                      Model Type                          Neural Net\n",
      "1        Tuner Objective Function  Misclassification Error Percentage\n",
      "2             Maximum Evaluations                                  50\n",
      "3                 Population Size                                  10\n",
      "4              Maximum Iterations                                   5\n",
      "5  Maximum Tuning Time in Seconds                                  60\n",
      "6                 Validation Type              User Defined Partition\n",
      "7                       Log Level                                   2\n",
      "8                            Seed                           462580067\n",
      "TunerResults Tuner Results\n",
      "\n",
      "    Evaluation  NHIDDEN  NUNITS1  NUNITS2     REGL1         REGL2  MisclassErr\n",
      "0            0        0        0        0  0.000000  0.000000e+00    16.387025\n",
      "1           29        1       36        0  0.000000  2.193696e-07    14.597315\n",
      "2           15        1       17        0  0.000958  1.107267e-04    14.709172\n",
      "3           36        1       17        0  0.001014  1.034735e-04    14.709172\n",
      "4           38        1       17        0  0.001042  1.002515e-04    14.709172\n",
      "5           43        1       27        0  0.000000  9.784084e-09    14.821029\n",
      "6           44        1       21        0  0.000159  2.826858e-05    14.932886\n",
      "7           46        1       19        0  0.001932  5.825759e-05    15.156600\n",
      "8           30        1       21        0  0.003496  3.431734e-05    15.268456\n",
      "9           23        1        6        0  0.008587  3.263049e-05    15.324385\n",
      "10          41        1       36        0  0.000001  4.222600e-08    15.380313\n",
      "BestConfiguration Best Configuration\n",
      "\n",
      "                            Parameter      Value\n",
      "0                          Evaluation         29\n",
      "1                       Hidden Layers          1\n",
      "2           Neurons in Hidden Layer 1         36\n",
      "3           Neurons in Hidden Layer 2          0\n",
      "4                   L1 Regularization          0\n",
      "5                   L2 Regularization  2.1937E-7\n",
      "6  Misclassification Error Percentage      14.60\n",
      "TunerSummary Tuner Summary\n",
      "\n",
      "                                          Parameter      Value\n",
      "0             Initial Configuration Objective Value  16.387025\n",
      "1                Best Configuration Objective Value  14.597315\n",
      "2               Worst Configuration Objective Value  80.033557\n",
      "3  Initial Configuration Evaluation Time in Seconds   0.078925\n",
      "4     Best Configuration Evaluation Time in Seconds   0.488147\n",
      "5                 Number of Improved Configurations   6.000000\n",
      "6                Number of Evaluated Configurations  46.000000\n",
      "7                      Total Tuning Time in Seconds  18.235187\n",
      "TunerTiming Tuner Task Timing\n",
      "\n",
      "                          Task   Time_sec  Time_percent\n",
      "0               Model Training  17.867661     97.984520\n",
      "1                Model Scoring   0.357329      1.959558\n",
      "2  Total Objective Evaluations  18.228281     99.962129\n",
      "3                        Tuner   0.006906      0.037871\n",
      "4                   Total Time  18.235187    100.000000\n"
     ]
    }
   ],
   "source": [
    "s.invoke('autotune.tuneNeuralNet', \n",
    "          trainOptions=autotune_kwds_i('nn'), \n",
    "          tunerOptions=dict(maxTime=60, userDefinedPartition = True),\n",
    "          scoreOptions = dict(table = dict(name = indata, where = '_PartInd_ = 0'))\n",
    ")\n",
    "\n",
    "for response in s:\n",
    "    for k, v in response:\n",
    "        print(k, v)"
   ]
  },
  {
   "cell_type": "markdown",
   "metadata": {
    "slideshow": {
     "slide_type": "slide"
    }
   },
   "source": [
    "## Support Vector Machine - CAS"
   ]
  },
  {
   "cell_type": "code",
   "execution_count": 12,
   "metadata": {
    "collapsed": false
   },
   "outputs": [],
   "source": [
    "#s.invoke('autotune.tuneSVM', trainOptions=autotune_kwds('svm'), \n",
    "                            #tunerOptions=dict(maxTime=60, validationPartitionFraction=0.3))\n",
    "#for response in s:\n",
    " #   for k, v in response:\n",
    "#      print(k, v)"
   ]
  },
  {
   "cell_type": "markdown",
   "metadata": {
    "slideshow": {
     "slide_type": "slide"
    }
   },
   "source": [
    "# Model Comparison"
   ]
  },
  {
   "cell_type": "markdown",
   "metadata": {},
   "source": [
    "## Score the Models on Validation Data - CAS/Python"
   ]
  },
  {
   "cell_type": "code",
   "execution_count": 13,
   "metadata": {
    "collapsed": false
   },
   "outputs": [],
   "source": [
    "%%capture\n",
    "def score_model(model):\n",
    "    score = dict(\n",
    "        table      = indata,\n",
    "        modelTable = model + 'opt',\n",
    "        copyVars   = [target, '_partind_'],\n",
    "        casOut     = dict(name = '_scored_' + model, replace = True)\n",
    "    )\n",
    "    return score\n",
    "\n",
    "### Decision Tree\n",
    "s.decisionTree.dtreeScore(**score_model('dt'))\n",
    "\n",
    "### Gradient Boosting\n",
    "s.decisionTree.gbtreeScore(**score_model('gbt'))\n",
    "\n",
    "### Neural Network\n",
    "s.neuralNet.annScore(**score_model('nn'))\n",
    "\n",
    "### Support Vector Machine\n",
    "#s.CASTable(indata).astore.score(rstore  = 'svm_model', out = dict(name = '_scored_svm', replace = True))\n",
    "\n",
    "### Create standardized prediction column\n",
    "for i in range(len(models)-1):\n",
    "    s.dataStep.runCode('''\n",
    "        data _scored_''' + list(models)[i] + '''; \n",
    "            set _scored_''' + list(models)[i] + '''; \n",
    "            if _''' + list(models)[i] + '''_predname_ = 1\n",
    "                then p_''' + target + '''1 = _''' + list(models)[i] + '''_predp_; \n",
    "                else p_''' + target + '''1 = 1 - _''' + list(models)[i] + '''_predp_;\n",
    "        run;\n",
    "    ''')"
   ]
  },
  {
   "cell_type": "markdown",
   "metadata": {
    "slideshow": {
     "slide_type": "slide"
    }
   },
   "source": [
    "## Assess the Performance - CAS/Python"
   ]
  },
  {
   "cell_type": "code",
   "execution_count": 14,
   "metadata": {
    "collapsed": false
   },
   "outputs": [
    {
     "name": "stdout",
     "output_type": "stream",
     "text": [
      "\n",
      "        Confusion Matrix Information       \n"
     ]
    },
    {
     "data": {
      "text/html": [
       "<div>\n",
       "<table border=\"1\" class=\"dataframe\">\n",
       "  <thead>\n",
       "    <tr style=\"text-align: right;\">\n",
       "      <th title=\"\"></th>\n",
       "      <th title=\"Model\">Model</th>\n",
       "      <th title=\"TP\">TP</th>\n",
       "      <th title=\"FP\">FP</th>\n",
       "      <th title=\"FN\">FN</th>\n",
       "      <th title=\"TN\">TN</th>\n",
       "    </tr>\n",
       "  </thead>\n",
       "  <tbody>\n",
       "    <tr>\n",
       "      <th>0</th>\n",
       "      <td>Decision Tree</td>\n",
       "      <td>230.0</td>\n",
       "      <td>65.0</td>\n",
       "      <td>127.0</td>\n",
       "      <td>1366.0</td>\n",
       "    </tr>\n",
       "    <tr>\n",
       "      <th>1</th>\n",
       "      <td>Gradient Boosting</td>\n",
       "      <td>266.0</td>\n",
       "      <td>39.0</td>\n",
       "      <td>91.0</td>\n",
       "      <td>1392.0</td>\n",
       "    </tr>\n",
       "    <tr>\n",
       "      <th>2</th>\n",
       "      <td>Neural Network</td>\n",
       "      <td>137.0</td>\n",
       "      <td>41.0</td>\n",
       "      <td>220.0</td>\n",
       "      <td>1390.0</td>\n",
       "    </tr>\n",
       "  </tbody>\n",
       "</table>\n",
       "</div>"
      ],
      "text/plain": [
       "               Model     TP    FP     FN      TN\n",
       "0      Decision Tree  230.0  65.0  127.0  1366.0\n",
       "1  Gradient Boosting  266.0  39.0   91.0  1392.0\n",
       "2     Neural Network  137.0  41.0  220.0  1390.0"
      ]
     },
     "execution_count": 14,
     "metadata": {},
     "output_type": "execute_result"
    }
   ],
   "source": [
    "# Model assessment function\n",
    "def assess_model(model):\n",
    "    assess = s.percentile.assess(\n",
    "        table    = dict(name = '_scored_' + model, where = '_partind_ = 0'),\n",
    "        inputs   = 'p_' + target + '1',      \n",
    "        response = target,\n",
    "        event    = '1',   \n",
    "    )\n",
    "    return assess\n",
    "\n",
    "# Loop through the models and append to the roc_df dataframe\n",
    "roc_df  = pd.DataFrame()\n",
    "for i in range(len(models)-1):\n",
    "    tmp = assess_model(list(models)[i])\n",
    "    tmp.ROCInfo['Model']  = list(models.values())[i]\n",
    "    roc_df  = pd.concat([roc_df,  tmp.ROCInfo])\n",
    "\n",
    "# Display stacked confusion matrix using Python\n",
    "print('\\n', 'Confusion Matrix Information'.center(42, ' '))\n",
    "roc_df[round(roc_df['CutOff'], 2) == 0.5][['Model', 'TP', 'FP', 'FN', 'TN']].reset_index(drop = True)"
   ]
  },
  {
   "cell_type": "markdown",
   "metadata": {
    "slideshow": {
     "slide_type": "slide"
    }
   },
   "source": [
    "## Compare Misclassification Rates - Python"
   ]
  },
  {
   "cell_type": "code",
   "execution_count": 20,
   "metadata": {
    "collapsed": false
   },
   "outputs": [
    {
     "name": "stdout",
     "output_type": "stream",
     "text": [
      "\n",
      "   Misclassification Rate Comparison  \n"
     ]
    },
    {
     "data": {
      "text/html": [
       "<div>\n",
       "<table border=\"1\" class=\"dataframe\">\n",
       "  <thead>\n",
       "    <tr style=\"text-align: right;\">\n",
       "      <th title=\"\"></th>\n",
       "      <th title=\"Model\">Model</th>\n",
       "      <th title=\"Misclassification\">Misclassification</th>\n",
       "    </tr>\n",
       "  </thead>\n",
       "  <tbody>\n",
       "    <tr>\n",
       "      <th>0</th>\n",
       "      <td>Gradient Boosting</td>\n",
       "      <td>0.072707</td>\n",
       "    </tr>\n",
       "    <tr>\n",
       "      <th>1</th>\n",
       "      <td>Decision Tree</td>\n",
       "      <td>0.107383</td>\n",
       "    </tr>\n",
       "    <tr>\n",
       "      <th>2</th>\n",
       "      <td>Neural Network</td>\n",
       "      <td>0.145973</td>\n",
       "    </tr>\n",
       "  </tbody>\n",
       "</table>\n",
       "</div>"
      ],
      "text/plain": [
       "               Model  Misclassification\n",
       "0  Gradient Boosting           0.072707\n",
       "1      Decision Tree           0.107383\n",
       "2     Neural Network           0.145973"
      ]
     },
     "execution_count": 20,
     "metadata": {},
     "output_type": "execute_result"
    }
   ],
   "source": [
    "# Add misclassification rate calculation\n",
    "roc_df['Misclassification'] = 1 - roc_df['ACC']\n",
    "\n",
    "print('\\n', 'Misclassification Rate Comparison'.center(37, ' '))\n",
    "miss = roc_df[round(roc_df['CutOff'], 2)==0.5][['Model', 'Misclassification']]\n",
    "miss.sort_values('Misclassification').reset_index(drop=True)"
   ]
  },
  {
   "cell_type": "markdown",
   "metadata": {},
   "source": [
    "## Create ROC Curve - Python"
   ]
  },
  {
   "cell_type": "code",
   "execution_count": 16,
   "metadata": {
    "collapsed": false
   },
   "outputs": [
    {
     "data": {
      "image/png": "[encoded data removed]",
      "text/plain": [
       "<matplotlib.figure.Figure at 0x7fe7a40f52e8>"
      ]
     },
     "metadata": {},
     "output_type": "display_data"
    }
   ],
   "source": [
    "# Plot ROC curve\n",
    "plt.figure(figsize = (7, 6))\n",
    "for key, grp in roc_df.groupby(['Model']):\n",
    "    plt.plot(grp['FPR'], grp['Sensitivity'], label = key + ' (C = %0.2f)' % grp['C'].mean())\n",
    "plt.plot([0,1], [0,1], 'k--')\n",
    "plt.xlabel('False Postivie Rate')\n",
    "plt.ylabel('True Positive Rate')\n",
    "plt.legend(loc='lower right')\n",
    "plt.title('ROC Curve (using validation data)')\n",
    "plt.show();"
   ]
  },
  {
   "cell_type": "code",
   "execution_count": 17,
   "metadata": {
    "collapsed": false
   },
   "outputs": [],
   "source": [
    "#s.session.endsession() # end the session"
   ]
  }
 ],
 "metadata": {
  "anaconda-cloud": {},
  "kernelspec": {
   "display_name": "Python 3",
   "language": "python",
   "name": "python3"
  },
  "language_info": {
   "codemirror_mode": {
    "name": "ipython",
    "version": 3
   },
   "file_extension": ".py",
   "mimetype": "text/x-python",
   "name": "python",
   "nbconvert_exporter": "python",
   "pygments_lexer": "ipython3",
   "version": "3.5.2"
  },
  "nbpresent": {
   "slides": {
    "030bd4f0-cc10-4f7d-b57c-a9fabae235ea": {
     "id": "030bd4f0-cc10-4f7d-b57c-a9fabae235ea",
     "prev": "0a186647-1c1e-4155-baee-f6444fa594eb",
     "regions": {
      "90c1426b-39af-47ab-8690-1f9f8f82c895": {
       "attrs": {
        "height": 0.8,
        "width": 0.8,
        "x": 0.1,
        "y": 0.1
       },
       "content": {
        "cell": "23161e84-52d8-4f55-92cd-696b151c5b45",
        "part": "whole"
       },
       "id": "90c1426b-39af-47ab-8690-1f9f8f82c895"
      }
     }
    },
    "06f0ceb0-a5bf-4c4d-9d3d-06c30d31c2ed": {
     "id": "06f0ceb0-a5bf-4c4d-9d3d-06c30d31c2ed",
     "prev": "3941b7e7-7329-419f-ba1d-ae19a0a441df",
     "regions": {
      "98250a28-84df-47ae-b0e1-56df785edab4": {
       "attrs": {
        "height": 0.8,
        "width": 0.8,
        "x": 0.1,
        "y": 0.1
       },
       "content": {
        "cell": "e41c723f-4128-490f-a10e-041f3c4c1178",
        "part": "whole"
       },
       "id": "98250a28-84df-47ae-b0e1-56df785edab4"
      },
      "c94b85e4-7131-47a0-9a1c-f191bcb43c6c": {
       "attrs": {
        "height": 0.4,
        "width": 0.8,
        "x": 0.1,
        "y": 0.5
       },
       "content": {
        "cell": "7e7f00e3-94ff-45eb-8010-e850782378f7",
        "part": "whole"
       },
       "id": "c94b85e4-7131-47a0-9a1c-f191bcb43c6c"
      }
     }
    },
    "0a186647-1c1e-4155-baee-f6444fa594eb": {
     "id": "0a186647-1c1e-4155-baee-f6444fa594eb",
     "prev": "1569c5c1-f125-49e0-b130-2da7206af93c",
     "regions": {
      "56d8a7ae-3206-4d1a-a8d3-ded42fb4cf55": {
       "attrs": {
        "height": 0.8,
        "width": 0.8,
        "x": 0.1,
        "y": 0.1
       },
       "content": null,
       "id": "56d8a7ae-3206-4d1a-a8d3-ded42fb4cf55"
      }
     }
    },
    "1569c5c1-f125-49e0-b130-2da7206af93c": {
     "id": "1569c5c1-f125-49e0-b130-2da7206af93c",
     "prev": null,
     "regions": {
      "d147245f-45ce-455f-a865-9a89d442236c": {
       "attrs": {
        "height": 0.8,
        "width": 0.8,
        "x": 0.1,
        "y": 0.1
       },
       "content": {
        "cell": "443b3b11-c92f-4c66-8731-8044813742c0",
        "part": "whole"
       },
       "id": "d147245f-45ce-455f-a865-9a89d442236c"
      }
     }
    },
    "193db271-de91-429f-b9ef-660acf5e3503": {
     "id": "193db271-de91-429f-b9ef-660acf5e3503",
     "prev": "e0bab9f9-020a-40a7-9536-c62d4a8fa315",
     "regions": {
      "094880cf-2d01-4c35-a028-e209d5e4590a": {
       "attrs": {
        "height": 0.4,
        "width": 0.8,
        "x": 0.1,
        "y": 0.5
       },
       "content": {
        "cell": "1fdacafc-5783-44c3-ad7f-4752633ae23b",
        "part": "whole"
       },
       "id": "094880cf-2d01-4c35-a028-e209d5e4590a"
      },
      "299de44e-15ce-4814-b439-72eb4401ac06": {
       "attrs": {
        "height": 0.8,
        "width": 0.8,
        "x": 0.1,
        "y": 0.1
       },
       "content": {
        "cell": "01cd068f-7c36-430c-9ea3-35d5e8a9cde7",
        "part": "whole"
       },
       "id": "299de44e-15ce-4814-b439-72eb4401ac06"
      }
     }
    },
    "3941b7e7-7329-419f-ba1d-ae19a0a441df": {
     "id": "3941b7e7-7329-419f-ba1d-ae19a0a441df",
     "prev": "e0e60236-1984-4d0d-b2c8-106c894bd86e",
     "regions": {
      "06ed1f87-7f84-427a-8bd7-cce8e07e459e": {
       "attrs": {
        "height": 0.4,
        "width": 0.8,
        "x": 0.1,
        "y": 0.5
       },
       "content": {
        "cell": "d6d741fd-13e0-479d-b9fa-d66e45004266",
        "part": "whole"
       },
       "id": "06ed1f87-7f84-427a-8bd7-cce8e07e459e"
      },
      "906ce82b-6448-4ff8-b6dc-20ad46b5634f": {
       "attrs": {
        "height": 0.8,
        "width": 0.8,
        "x": 0.1,
        "y": 0.1
       },
       "content": {
        "cell": "9a07405c-9de4-4f27-942e-8184d4db7f64",
        "part": "whole"
       },
       "id": "906ce82b-6448-4ff8-b6dc-20ad46b5634f"
      },
      "b888d4ea-e583-4e60-8f09-c4e4f0e1e08a": {
       "attrs": {
        "height": 0.4,
        "width": 0.8,
        "x": 0.1,
        "y": 0.5
       },
       "content": {
        "cell": "a1d73e11-1c9e-4655-9210-b9024f5c58d4",
        "part": "whole"
       },
       "id": "b888d4ea-e583-4e60-8f09-c4e4f0e1e08a"
      }
     }
    },
    "57dd84fc-cd21-494e-b068-5c600f2d2456": {
     "id": "57dd84fc-cd21-494e-b068-5c600f2d2456",
     "prev": "652e4030-84b6-415b-a48e-cc6144f3771d",
     "regions": {
      "798ec311-bc2c-4fe5-9353-ff0aa2c80f98": {
       "attrs": {
        "height": 0.4,
        "width": 0.8,
        "x": 0.1,
        "y": 0.5
       },
       "content": {
        "cell": "cf155931-7c71-49da-abc5-9a4db77bec4a",
        "part": "whole"
       },
       "id": "798ec311-bc2c-4fe5-9353-ff0aa2c80f98"
      },
      "94b2646d-db70-4c06-9bda-f992e691ec39": {
       "attrs": {
        "height": 0.8,
        "width": 0.8,
        "x": 0.1,
        "y": 0.1
       },
       "content": {
        "cell": "fdc4e4b3-a0d2-4daa-9275-05bda7f54f4f",
        "part": "whole"
       },
       "id": "94b2646d-db70-4c06-9bda-f992e691ec39"
      }
     }
    },
    "652e4030-84b6-415b-a48e-cc6144f3771d": {
     "id": "652e4030-84b6-415b-a48e-cc6144f3771d",
     "prev": "a9ac6c5f-446c-4380-b530-677808ca4ca2",
     "regions": {
      "1dbd495a-9f45-42fa-8ae4-70a9a0618e90": {
       "attrs": {
        "height": 0.8,
        "width": 0.8,
        "x": 0.1,
        "y": 0.1
       },
       "content": {
        "cell": "0ec3114b-8ac6-402b-bb7c-04a3449b1fdb",
        "part": "whole"
       },
       "id": "1dbd495a-9f45-42fa-8ae4-70a9a0618e90"
      },
      "f28a0d9c-55bf-4b0f-bc03-2bf84b64323f": {
       "attrs": {
        "height": 0.4,
        "width": 0.8,
        "x": 0.1,
        "y": 0.5
       },
       "content": {
        "cell": "2191d3a8-741c-4064-868b-47aa3fe4b929",
        "part": "whole"
       },
       "id": "f28a0d9c-55bf-4b0f-bc03-2bf84b64323f"
      },
      "fc5d8310-05cf-478b-bb4e-bdcdce7b67cf": {
       "attrs": {
        "height": 0.4,
        "width": 0.8,
        "x": 0.1,
        "y": 0.5
       },
       "content": {
        "cell": "889d11ae-9c41-48d6-a64a-bdc569efdc8c",
        "part": "whole"
       },
       "id": "fc5d8310-05cf-478b-bb4e-bdcdce7b67cf"
      }
     }
    },
    "787db817-0ae7-4a99-9ac4-1c66978c4385": {
     "id": "787db817-0ae7-4a99-9ac4-1c66978c4385",
     "prev": "193db271-de91-429f-b9ef-660acf5e3503",
     "regions": {
      "ac2f4765-43f4-465d-be19-6286c2e0edfa": {
       "attrs": {
        "height": 0.4,
        "width": 0.8,
        "x": 0.1,
        "y": 0.5
       },
       "content": {
        "cell": "21bb57d1-0d13-49ae-8d41-37dd5883e9dd",
        "part": "whole"
       },
       "id": "ac2f4765-43f4-465d-be19-6286c2e0edfa"
      },
      "df81957e-bdd6-41bf-ba63-8d4ad8b17f28": {
       "attrs": {
        "height": 0.8,
        "width": 0.8,
        "x": 0.1,
        "y": 0.1
       },
       "content": {
        "cell": "4a9c06c6-461f-46d9-ac1d-019ba1d779ad",
        "part": "whole"
       },
       "id": "df81957e-bdd6-41bf-ba63-8d4ad8b17f28"
      }
     }
    },
    "903077e7-efe7-4c84-bca4-69d064f829ae": {
     "id": "903077e7-efe7-4c84-bca4-69d064f829ae",
     "prev": "9dade49e-03e5-4433-afcd-5cd51ff4caa0",
     "regions": {
      "1a648e78-1b52-4c91-b501-5ff4a42e3363": {
       "attrs": {
        "height": 0.8,
        "width": 0.8,
        "x": 0.1,
        "y": 0.1
       },
       "content": {
        "cell": "830de82c-9ad0-4d32-b0cb-2e9d6197ef00",
        "part": "whole"
       },
       "id": "1a648e78-1b52-4c91-b501-5ff4a42e3363"
      },
      "387a96e6-1771-4214-bf91-04e7e2fc43a0": {
       "attrs": {
        "height": 0.4,
        "width": 0.8,
        "x": 0.1,
        "y": 0.5
       },
       "content": {
        "cell": "4fc057e8-737a-4209-8f5d-0b9f1c2847c5",
        "part": "whole"
       },
       "id": "387a96e6-1771-4214-bf91-04e7e2fc43a0"
      }
     }
    },
    "9dade49e-03e5-4433-afcd-5cd51ff4caa0": {
     "id": "9dade49e-03e5-4433-afcd-5cd51ff4caa0",
     "prev": "787db817-0ae7-4a99-9ac4-1c66978c4385",
     "regions": {
      "907b005e-b91e-4d6f-8b59-9a0900b1a7db": {
       "attrs": {
        "height": 0.8,
        "width": 0.8,
        "x": 0.1,
        "y": 0.1
       },
       "content": {
        "cell": "4efa5030-de17-49ce-ab52-d74ead65b25e",
        "part": "whole"
       },
       "id": "907b005e-b91e-4d6f-8b59-9a0900b1a7db"
      },
      "fa512459-b7b8-4c5e-94b5-5412a32f0b3d": {
       "attrs": {
        "height": 0.4,
        "width": 0.8,
        "x": 0.1,
        "y": 0.5
       },
       "content": {
        "cell": "96123696-1a29-4a94-ae88-987c80634701",
        "part": "whole"
       },
       "id": "fa512459-b7b8-4c5e-94b5-5412a32f0b3d"
      }
     }
    },
    "a9ac6c5f-446c-4380-b530-677808ca4ca2": {
     "id": "a9ac6c5f-446c-4380-b530-677808ca4ca2",
     "prev": "903077e7-efe7-4c84-bca4-69d064f829ae",
     "regions": {
      "58ee868b-7a07-4b4d-aade-7aa5b0a51a19": {
       "attrs": {
        "height": 0.4,
        "width": 0.8,
        "x": 0.1,
        "y": 0.5
       },
       "content": {
        "cell": "18aa0394-3bfb-4fad-8b91-fc0fef852a2b",
        "part": "whole"
       },
       "id": "58ee868b-7a07-4b4d-aade-7aa5b0a51a19"
      },
      "e9942074-1132-4794-ba92-d8fef2dd5d45": {
       "attrs": {
        "height": 0.8,
        "width": 0.8,
        "x": 0.1,
        "y": 0.1
       },
       "content": {
        "cell": "527898bc-6c07-43a3-81cf-6a5dceb4cd91",
        "part": "whole"
       },
       "id": "e9942074-1132-4794-ba92-d8fef2dd5d45"
      }
     }
    },
    "e0bab9f9-020a-40a7-9536-c62d4a8fa315": {
     "id": "e0bab9f9-020a-40a7-9536-c62d4a8fa315",
     "prev": "f6dc6d41-3400-4cd7-829f-0c6f43968cd9",
     "regions": {
      "4058fd19-1d57-4e91-bdb7-619a31136564": {
       "attrs": {
        "height": 0.4,
        "width": 0.8,
        "x": 0.1,
        "y": 0.5
       },
       "content": {
        "cell": "f613ed8e-de90-4ada-ac8f-76cd75385bfd",
        "part": "whole"
       },
       "id": "4058fd19-1d57-4e91-bdb7-619a31136564"
      },
      "5312a1ca-524c-49ee-b4a6-eb700d405787": {
       "attrs": {
        "height": 0.8,
        "width": 0.8,
        "x": 0.1,
        "y": 0.1
       },
       "content": {
        "cell": "78b70fb9-46bd-4463-a8b3-15d637867705",
        "part": "whole"
       },
       "id": "5312a1ca-524c-49ee-b4a6-eb700d405787"
      }
     }
    },
    "e0e60236-1984-4d0d-b2c8-106c894bd86e": {
     "id": "e0e60236-1984-4d0d-b2c8-106c894bd86e",
     "prev": "030bd4f0-cc10-4f7d-b57c-a9fabae235ea",
     "regions": {
      "2954c09d-da88-45a6-9828-fc1e177f443a": {
       "attrs": {
        "height": 0.4,
        "width": 0.8,
        "x": 0.1,
        "y": 0.5
       },
       "content": {
        "cell": "9a66be0a-4683-4a63-a1da-256ba46f660c",
        "part": "whole"
       },
       "id": "2954c09d-da88-45a6-9828-fc1e177f443a"
      },
      "c93f21b5-b294-41f0-a9d0-d1f2833e6a94": {
       "attrs": {
        "height": 0.8,
        "width": 0.8,
        "x": 0.1,
        "y": 0.1
       },
       "content": {
        "cell": "61da6a05-dd61-4116-ab51-3f73824e5b14",
        "part": "whole"
       },
       "id": "c93f21b5-b294-41f0-a9d0-d1f2833e6a94"
      }
     }
    },
    "e1c65956-3295-46c7-b73a-b98e031d5be5": {
     "id": "e1c65956-3295-46c7-b73a-b98e031d5be5",
     "prev": "f94a88b7-9c35-47d5-b3e1-39333e6694c5",
     "regions": {
      "231e5ef0-6c11-45ad-abb7-0b964bdbcf36": {
       "attrs": {
        "height": 0.4,
        "width": 0.8,
        "x": 0.1,
        "y": 0.5
       },
       "content": {
        "cell": "bc835812-e0b8-460a-85f2-080e6388c67e",
        "part": "whole"
       },
       "id": "231e5ef0-6c11-45ad-abb7-0b964bdbcf36"
      },
      "b57edf07-b355-44c7-8d9c-a57fda916faf": {
       "attrs": {
        "height": 0.8,
        "width": 0.8,
        "x": 0.1,
        "y": 0.1
       },
       "content": {
        "cell": "77b5d276-db06-46b7-97dd-d8597628a23a",
        "part": "whole"
       },
       "id": "b57edf07-b355-44c7-8d9c-a57fda916faf"
      },
      "f96d1276-f6a4-410e-b836-e23c1b172624": {
       "attrs": {
        "height": 0.4,
        "width": 0.8,
        "x": 0.1,
        "y": 0.5
       },
       "content": {
        "cell": "0340640e-4d98-47cc-9cfd-2f5ab988db67",
        "part": "whole"
       },
       "id": "f96d1276-f6a4-410e-b836-e23c1b172624"
      }
     }
    },
    "f6dc6d41-3400-4cd7-829f-0c6f43968cd9": {
     "id": "f6dc6d41-3400-4cd7-829f-0c6f43968cd9",
     "prev": "06f0ceb0-a5bf-4c4d-9d3d-06c30d31c2ed",
     "regions": {
      "3e3aea15-7e5c-4ea4-8708-4698289edbe6": {
       "attrs": {
        "height": 0.8,
        "width": 0.8,
        "x": 0.1,
        "y": 0.1
       },
       "content": {
        "cell": "d1698087-708a-4540-aae1-6a4c2e243bfb",
        "part": "whole"
       },
       "id": "3e3aea15-7e5c-4ea4-8708-4698289edbe6"
      },
      "df3c2143-7cf3-4966-ad56-27131cbf6716": {
       "attrs": {
        "height": 0.4,
        "width": 0.8,
        "x": 0.1,
        "y": 0.5
       },
       "content": {
        "cell": "61905f8f-3774-442f-a2f4-26cfe604c899",
        "part": "whole"
       },
       "id": "df3c2143-7cf3-4966-ad56-27131cbf6716"
      }
     }
    },
    "f94a88b7-9c35-47d5-b3e1-39333e6694c5": {
     "id": "f94a88b7-9c35-47d5-b3e1-39333e6694c5",
     "prev": "57dd84fc-cd21-494e-b068-5c600f2d2456",
     "regions": {
      "63ef95b4-3a85-4a21-947a-bfc0aadbd6c4": {
       "attrs": {
        "height": 0.8,
        "width": 0.8,
        "x": 0.1,
        "y": 0.1
       },
       "content": {
        "cell": "35e39587-6272-4ebb-8339-c1fd75a44b39",
        "part": "whole"
       },
       "id": "63ef95b4-3a85-4a21-947a-bfc0aadbd6c4"
      },
      "9c5ee4da-3e04-4a30-b82a-7528d1bf6c47": {
       "attrs": {
        "height": 0.4,
        "width": 0.8,
        "x": 0.1,
        "y": 0.5
       },
       "content": {
        "cell": "fd13b97f-8eaf-4bc5-885b-b04e1b03aebe",
        "part": "whole"
       },
       "id": "9c5ee4da-3e04-4a30-b82a-7528d1bf6c47"
      }
     }
    }
   },
   "themes": {
    "default": "8e4ddc42-183e-4ba2-b60f-6dc5ce186ba8",
    "theme": {}
   }
  }
 },
 "nbformat": 4,
 "nbformat_minor": 0
}
