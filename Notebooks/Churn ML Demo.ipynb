{
 "cells": [
  {
   "cell_type": "markdown",
   "metadata": {},
   "source": [
    "# Churn Demo - Python API"
   ]
  },
  {
   "cell_type": "markdown",
   "metadata": {},
   "source": [
    "The purpose of the demo is to show a sample of ML capabilities in Viya VDMML using the jupyter interface. We create a **ML pipeline to train and compare models for churn detection**.\n",
    "\n",
    "In this demo we will\n",
    "1. Prepare Notebook for Analysis\n",
    "2. Simple Data Manipulation steps to show SQL capabilities\n",
    "3. Build Classification models (Logistic Regression and Random Forest)\n",
    "4. Score Data\n",
    "5. Compare Model Performance\n",
    "6. Model Deployment"
   ]
  },
  {
   "cell_type": "markdown",
   "metadata": {},
   "source": [
    "## 1. Prepare Notebook for Analysis"
   ]
  },
  {
   "cell_type": "markdown",
   "metadata": {},
   "source": [
    "Load Packages"
   ]
  },
  {
   "cell_type": "code",
   "execution_count": 246,
   "metadata": {
    "ExecuteTime": {
     "end_time": "2017-08-25T10:37:55.691041",
     "start_time": "2017-08-25T10:37:55.652041"
    },
    "collapsed": true
   },
   "outputs": [],
   "source": [
    "#Load Packages\n",
    "import swat,_config,pygal\n",
    "from swat.render import render_html\n",
    "swat.options.cas.print_messages=False\n",
    "import numpy as np\n",
    "import pandas as pd\n",
    "pd.set_option('display.float_format', lambda x: '%.2f' % x)\n",
    "from matplotlib import pyplot as plt\n",
    "from IPython.display import HTML\n",
    "%matplotlib inline\n",
    "import collections\n",
    "from ggplot import *"
   ]
  },
  {
   "cell_type": "markdown",
   "metadata": {
    "ExecuteTime": {
     "end_time": "2017-08-25T10:38:03.281041",
     "start_time": "2017-08-25T10:37:55.709041"
    },
    "collapsed": true
   },
   "source": [
    "Server Connection"
   ]
  },
  {
   "cell_type": "code",
   "execution_count": 247,
   "metadata": {},
   "outputs": [],
   "source": [
    "user,pswd = _config.login()\n",
    "host='gtpviyaea12.unx.sas.com'\n",
    "portnum=5570\n",
    "s = swat.CAS(host,portnum,user,pswd)\n",
    "\n",
    "#Load Actionsets\n",
    "actions = ['fedSql','sampling','regression','decisionTree','astore']\n",
    "for i in actions: s.loadactionset(i)"
   ]
  },
  {
   "cell_type": "markdown",
   "metadata": {},
   "source": [
    "Load Data into Memory"
   ]
  },
  {
   "cell_type": "code",
   "execution_count": 248,
   "metadata": {},
   "outputs": [],
   "source": [
    "DMLib = s.table.addCaslib('DMlib', datasource = 'path', path = '/viyafiles/ankram/Data')\n",
    "inMem = s.table.loadTable('churn.csv', casOut = 'churn');\n",
    "\n",
    "#Create link to data\n",
    "churn = inMem.casTable"
   ]
  },
  {
   "cell_type": "markdown",
   "metadata": {},
   "source": [
    "Check out the Columns"
   ]
  },
  {
   "cell_type": "code",
   "execution_count": 249,
   "metadata": {},
   "outputs": [
    {
     "name": "stdout",
     "output_type": "stream",
     "text": [
      "Account_Length\n",
      "VMail_Message\n",
      "Day_Mins\n",
      "Eve_Mins\n",
      "Night_Mins\n",
      "Intl_Mins\n",
      "CustServ_Calls\n",
      "Churn\n",
      "Intl_Plan\n",
      "VMail_Plan\n",
      "Day_Calls\n",
      "Day_Charge\n",
      "Eve_Calls\n",
      "Eve_Charge\n",
      "Night_Calls\n",
      "Night_Charge\n",
      "Intl_Calls\n",
      "Intl_Charge\n",
      "State\n",
      "Area_Code\n",
      "Phone\n"
     ]
    }
   ],
   "source": [
    "for i in churn.columns: print(i)"
   ]
  },
  {
   "cell_type": "markdown",
   "metadata": {},
   "source": [
    "See the First Few Rows"
   ]
  },
  {
   "cell_type": "code",
   "execution_count": 250,
   "metadata": {},
   "outputs": [
    {
     "data": {
      "text/html": [
       "<div>\n",
       "<table border=\"1\" class=\"dataframe\"><caption>Selected Rows from Table CHURN</caption>\n",
       "  <thead>\n",
       "    <tr style=\"text-align: right;\">\n",
       "      <th title=\"\"></th>\n",
       "      <th title=\"Account_Length\">Account_Length</th>\n",
       "      <th title=\"VMail_Message\">VMail_Message</th>\n",
       "      <th title=\"Day_Mins\">Day_Mins</th>\n",
       "      <th title=\"Eve_Mins\">Eve_Mins</th>\n",
       "      <th title=\"Night_Mins\">Night_Mins</th>\n",
       "      <th title=\"Intl_Mins\">Intl_Mins</th>\n",
       "      <th title=\"CustServ_Calls\">CustServ_Calls</th>\n",
       "      <th title=\"Churn\">Churn</th>\n",
       "      <th title=\"Intl_Plan\">Intl_Plan</th>\n",
       "      <th title=\"VMail_Plan\">VMail_Plan</th>\n",
       "    </tr>\n",
       "  </thead>\n",
       "  <tbody>\n",
       "    <tr>\n",
       "      <th>0</th>\n",
       "      <td>128.00</td>\n",
       "      <td>25.00</td>\n",
       "      <td>265.10</td>\n",
       "      <td>197.40</td>\n",
       "      <td>244.70</td>\n",
       "      <td>10.00</td>\n",
       "      <td>1.00</td>\n",
       "      <td>0.00</td>\n",
       "      <td>0.00</td>\n",
       "      <td>1.00</td>\n",
       "    </tr>\n",
       "    <tr>\n",
       "      <th>1</th>\n",
       "      <td>107.00</td>\n",
       "      <td>26.00</td>\n",
       "      <td>161.60</td>\n",
       "      <td>195.50</td>\n",
       "      <td>254.40</td>\n",
       "      <td>13.70</td>\n",
       "      <td>1.00</td>\n",
       "      <td>0.00</td>\n",
       "      <td>0.00</td>\n",
       "      <td>1.00</td>\n",
       "    </tr>\n",
       "    <tr>\n",
       "      <th>2</th>\n",
       "      <td>137.00</td>\n",
       "      <td>0.00</td>\n",
       "      <td>243.40</td>\n",
       "      <td>121.20</td>\n",
       "      <td>162.60</td>\n",
       "      <td>12.20</td>\n",
       "      <td>0.00</td>\n",
       "      <td>0.00</td>\n",
       "      <td>0.00</td>\n",
       "      <td>0.00</td>\n",
       "    </tr>\n",
       "    <tr>\n",
       "      <th>3</th>\n",
       "      <td>84.00</td>\n",
       "      <td>0.00</td>\n",
       "      <td>299.40</td>\n",
       "      <td>61.90</td>\n",
       "      <td>196.90</td>\n",
       "      <td>6.60</td>\n",
       "      <td>2.00</td>\n",
       "      <td>0.00</td>\n",
       "      <td>1.00</td>\n",
       "      <td>0.00</td>\n",
       "    </tr>\n",
       "    <tr>\n",
       "      <th>4</th>\n",
       "      <td>75.00</td>\n",
       "      <td>0.00</td>\n",
       "      <td>166.70</td>\n",
       "      <td>148.30</td>\n",
       "      <td>186.90</td>\n",
       "      <td>10.10</td>\n",
       "      <td>3.00</td>\n",
       "      <td>0.00</td>\n",
       "      <td>1.00</td>\n",
       "      <td>0.00</td>\n",
       "    </tr>\n",
       "  </tbody>\n",
       "</table>\n",
       "</div>"
      ],
      "text/plain": [
       "Selected Rows from Table CHURN\n",
       "\n",
       "   Account_Length  VMail_Message  Day_Mins  Eve_Mins  Night_Mins  Intl_Mins  \\\n",
       "0          128.00          25.00    265.10    197.40      244.70      10.00   \n",
       "1          107.00          26.00    161.60    195.50      254.40      13.70   \n",
       "2          137.00           0.00    243.40    121.20      162.60      12.20   \n",
       "3           84.00           0.00    299.40     61.90      196.90       6.60   \n",
       "4           75.00           0.00    166.70    148.30      186.90      10.10   \n",
       "\n",
       "   CustServ_Calls  Churn  Intl_Plan  VMail_Plan  \n",
       "0            1.00   0.00       0.00        1.00  \n",
       "1            1.00   0.00       0.00        1.00  \n",
       "2            0.00   0.00       0.00        0.00  \n",
       "3            2.00   0.00       1.00        0.00  \n",
       "4            3.00   0.00       1.00        0.00  "
      ]
     },
     "execution_count": 250,
     "metadata": {},
     "output_type": "execute_result"
    }
   ],
   "source": [
    "churn[churn.columns[:10]].head()"
   ]
  },
  {
   "cell_type": "markdown",
   "metadata": {},
   "source": [
    "## 2. Simple Data Manipulation"
   ]
  },
  {
   "cell_type": "markdown",
   "metadata": {},
   "source": [
    "Let's Check out out the data types associated with each column"
   ]
  },
  {
   "cell_type": "code",
   "execution_count": 251,
   "metadata": {
    "ExecuteTime": {
     "end_time": "2017-08-25T10:38:11.821041",
     "start_time": "2017-08-25T10:38:10.993041"
    }
   },
   "outputs": [
    {
     "data": {
      "text/plain": [
       "Account_Length     double\n",
       "VMail_Message      double\n",
       "Day_Mins           double\n",
       "Eve_Mins           double\n",
       "Night_Mins         double\n",
       "Intl_Mins          double\n",
       "CustServ_Calls     double\n",
       "Churn              double\n",
       "Intl_Plan          double\n",
       "VMail_Plan         double\n",
       "Day_Calls          double\n",
       "Day_Charge         double\n",
       "Eve_Calls          double\n",
       "Eve_Charge         double\n",
       "Night_Calls        double\n",
       "Night_Charge       double\n",
       "Intl_Calls         double\n",
       "Intl_Charge        double\n",
       "State             varchar\n",
       "Area_Code          double\n",
       "Phone             varchar\n",
       "dtype: object"
      ]
     },
     "execution_count": 251,
     "metadata": {},
     "output_type": "execute_result"
    }
   ],
   "source": [
    "churn.dtypes"
   ]
  },
  {
   "cell_type": "markdown",
   "metadata": {},
   "source": [
    "We notice two things that ought to be done here. The data type for `churn` and `area_code` variables should not be double. Let's change that by using some SQL on the in memory table. "
   ]
  },
  {
   "cell_type": "code",
   "execution_count": 252,
   "metadata": {
    "ExecuteTime": {
     "end_time": "2017-08-25T10:38:15.263041",
     "start_time": "2017-08-25T10:38:14.370041"
    }
   },
   "outputs": [
    {
     "name": "stdout",
     "output_type": "stream",
     "text": [
      "CREATE TABLE DMlib.churn {options replace=true} AS \n",
      "           SELECT Account_Length, VMail_Message, Day_Mins, Eve_Mins, Night_Mins, Intl_Mins, CustServ_Calls, Day_Calls, Day_Charge, Eve_Calls, Eve_Charge, Night_Calls, Night_Charge, Intl_Calls, Intl_Charge, State, Phone, \n",
      "                  CAST(intl_plan as char) AS intl_plan,\n",
      "                  CAST(vmail_plan as char) AS vmail_plan,\n",
      "                  CAST(area_code as varchar) AS area_code,\n",
      "                  CAST(churn as varchar) AS churn\n",
      "            FROM DMlib.churn\n"
     ]
    }
   ],
   "source": [
    "#programmatically build query\n",
    "col_list= [i for i in churn.columns if i not in ('Area_Code','Intl_Plan','Churn','VMail_Plan')]\n",
    "cas_lib='DMlib'\n",
    "option_params='{options replace=true}'\n",
    "query = '''CREATE TABLE {}.churn {} AS \n",
    "           SELECT {}, \n",
    "                  CAST(intl_plan as char) AS intl_plan,\n",
    "                  CAST(vmail_plan as char) AS vmail_plan,\n",
    "                  CAST(area_code as varchar) AS area_code,\n",
    "                  CAST(churn as varchar) AS churn\n",
    "            FROM DMlib.churn'''.format(cas_lib,\n",
    "                              option_params,\n",
    "                              col_list).replace('[','').replace(']','').replace(\"'\",'')\n",
    "print(query)"
   ]
  },
  {
   "cell_type": "code",
   "execution_count": 253,
   "metadata": {
    "ExecuteTime": {
     "end_time": "2017-08-25T10:38:17.137041",
     "start_time": "2017-08-25T10:38:15.268041"
    }
   },
   "outputs": [
    {
     "data": {
      "text/html": [
       "<div>\n",
       "<table border=\"1\" class=\"dataframe\"><caption>Selected Rows from Table CHURN</caption>\n",
       "  <thead>\n",
       "    <tr style=\"text-align: right;\">\n",
       "      <th title=\"\"></th>\n",
       "      <th title=\"AREA_CODE\">AREA_CODE</th>\n",
       "      <th title=\"CHURN\">CHURN</th>\n",
       "      <th title=\"INTL_PLAN\">INTL_PLAN</th>\n",
       "      <th title=\"VMAIL_PLAN\">VMAIL_PLAN</th>\n",
       "    </tr>\n",
       "  </thead>\n",
       "  <tbody>\n",
       "    <tr>\n",
       "      <th>0</th>\n",
       "      <td>415</td>\n",
       "      <td>0</td>\n",
       "      <td>0</td>\n",
       "      <td>1</td>\n",
       "    </tr>\n",
       "    <tr>\n",
       "      <th>1</th>\n",
       "      <td>415</td>\n",
       "      <td>0</td>\n",
       "      <td>0</td>\n",
       "      <td>1</td>\n",
       "    </tr>\n",
       "    <tr>\n",
       "      <th>2</th>\n",
       "      <td>415</td>\n",
       "      <td>0</td>\n",
       "      <td>0</td>\n",
       "      <td>0</td>\n",
       "    </tr>\n",
       "    <tr>\n",
       "      <th>3</th>\n",
       "      <td>408</td>\n",
       "      <td>0</td>\n",
       "      <td>1</td>\n",
       "      <td>0</td>\n",
       "    </tr>\n",
       "    <tr>\n",
       "      <th>4</th>\n",
       "      <td>415</td>\n",
       "      <td>0</td>\n",
       "      <td>1</td>\n",
       "      <td>0</td>\n",
       "    </tr>\n",
       "  </tbody>\n",
       "</table>\n",
       "</div>"
      ],
      "text/plain": [
       "Selected Rows from Table CHURN\n",
       "\n",
       "  AREA_CODE CHURN INTL_PLAN VMAIL_PLAN\n",
       "0       415     0         0          1\n",
       "1       415     0         0          1\n",
       "2       415     0         0          0\n",
       "3       408     0         1          0\n",
       "4       415     0         1          0"
      ]
     },
     "execution_count": 253,
     "metadata": {},
     "output_type": "execute_result"
    }
   ],
   "source": [
    "#execute query and check the results\n",
    "s.fedSQL.execDirect(query) \n",
    "\n",
    "churn[['area_code','churn','intl_plan','vmail_plan']].head()"
   ]
  },
  {
   "cell_type": "code",
   "execution_count": 254,
   "metadata": {},
   "outputs": [
    {
     "data": {
      "text/plain": [
       "AREA_CODE     varchar\n",
       "CHURN         varchar\n",
       "INTL_PLAN        char\n",
       "VMAIL_PLAN       char\n",
       "dtype: object"
      ]
     },
     "execution_count": 254,
     "metadata": {},
     "output_type": "execute_result"
    }
   ],
   "source": [
    "#Validate Column Types\n",
    "churn[['area_code','churn','intl_plan','vmail_plan']].dtypes"
   ]
  },
  {
   "cell_type": "code",
   "execution_count": 255,
   "metadata": {
    "collapsed": true
   },
   "outputs": [],
   "source": [
    "# To save the file to the filesystem\n",
    "#s.table.save(table='CHURN', name='churn_opt.csv')"
   ]
  },
  {
   "cell_type": "markdown",
   "metadata": {
    "ExecuteTime": {
     "end_time": "2017-05-19T00:27:29.577411",
     "start_time": "2017-05-19T00:27:29.563411"
    }
   },
   "source": [
    "Next we can do a quick exploration by performing group-bys"
   ]
  },
  {
   "cell_type": "code",
   "execution_count": 256,
   "metadata": {
    "ExecuteTime": {
     "end_time": "2017-08-25T10:38:23.047041",
     "start_time": "2017-08-25T10:38:17.176041"
    }
   },
   "outputs": [
    {
     "data": {
      "text/html": [
       "<div>\n",
       "<table border=\"1\" class=\"dataframe\"><caption>Descriptive Statistics for CHURN</caption>\n",
       "  <thead>\n",
       "    <tr style=\"text-align: right;\">\n",
       "      <th title=\"\"></th>\n",
       "      <th title=\"Analysis Variable\">Column</th>\n",
       "      <th title=\"Minimum\">Min</th>\n",
       "      <th title=\"Maximum\">Max</th>\n",
       "      <th title=\"N\">N</th>\n",
       "      <th title=\"N Miss\">NMiss</th>\n",
       "      <th title=\"Mean\">Mean</th>\n",
       "      <th title=\"Sum\">Sum</th>\n",
       "      <th title=\"Std Dev\">Std</th>\n",
       "      <th title=\"Std Error\">StdErr</th>\n",
       "      <th title=\"Variance\">Var</th>\n",
       "      <th title=\"USS\">USS</th>\n",
       "      <th title=\"Corrected SS\">CSS</th>\n",
       "      <th title=\"Coeff of Variation\">CV</th>\n",
       "      <th title=\"t Value\">TValue</th>\n",
       "      <th title=\"Pr &gt; |t|\">ProbT</th>\n",
       "    </tr>\n",
       "    <tr>\n",
       "      <th title=\"CHURN\">CHURN</th>\n",
       "      <th title=\"\"></th>\n",
       "      <th title=\"\"></th>\n",
       "      <th title=\"\"></th>\n",
       "      <th title=\"\"></th>\n",
       "      <th title=\"\"></th>\n",
       "      <th title=\"\"></th>\n",
       "      <th title=\"\"></th>\n",
       "      <th title=\"\"></th>\n",
       "      <th title=\"\"></th>\n",
       "      <th title=\"\"></th>\n",
       "      <th title=\"\"></th>\n",
       "      <th title=\"\"></th>\n",
       "      <th title=\"\"></th>\n",
       "      <th title=\"\"></th>\n",
       "      <th title=\"\"></th>\n",
       "    </tr>\n",
       "  </thead>\n",
       "  <tbody>\n",
       "    <tr>\n",
       "      <th>0</th>\n",
       "      <td>Account_Length</td>\n",
       "      <td>1.00</td>\n",
       "      <td>243.00</td>\n",
       "      <td>2850.00</td>\n",
       "      <td>0.00</td>\n",
       "      <td>100.79</td>\n",
       "      <td>287262.00</td>\n",
       "      <td>39.88</td>\n",
       "      <td>0.75</td>\n",
       "      <td>1590.60</td>\n",
       "      <td>33485820.00</td>\n",
       "      <td>4531624.69</td>\n",
       "      <td>39.57</td>\n",
       "      <td>134.92</td>\n",
       "      <td>0.00</td>\n",
       "    </tr>\n",
       "    <tr>\n",
       "      <th>1</th>\n",
       "      <td>Account_Length</td>\n",
       "      <td>1.00</td>\n",
       "      <td>225.00</td>\n",
       "      <td>483.00</td>\n",
       "      <td>0.00</td>\n",
       "      <td>102.66</td>\n",
       "      <td>49587.00</td>\n",
       "      <td>39.47</td>\n",
       "      <td>1.80</td>\n",
       "      <td>1557.71</td>\n",
       "      <td>5841645.00</td>\n",
       "      <td>750815.66</td>\n",
       "      <td>38.44</td>\n",
       "      <td>57.17</td>\n",
       "      <td>0.00</td>\n",
       "    </tr>\n",
       "    <tr>\n",
       "      <th>1</th>\n",
       "      <td>CustServ_Calls</td>\n",
       "      <td>0.00</td>\n",
       "      <td>9.00</td>\n",
       "      <td>483.00</td>\n",
       "      <td>0.00</td>\n",
       "      <td>2.23</td>\n",
       "      <td>1077.00</td>\n",
       "      <td>1.85</td>\n",
       "      <td>0.08</td>\n",
       "      <td>3.43</td>\n",
       "      <td>4057.00</td>\n",
       "      <td>1655.49</td>\n",
       "      <td>83.11</td>\n",
       "      <td>26.44</td>\n",
       "      <td>0.00</td>\n",
       "    </tr>\n",
       "    <tr>\n",
       "      <th>0</th>\n",
       "      <td>CustServ_Calls</td>\n",
       "      <td>0.00</td>\n",
       "      <td>8.00</td>\n",
       "      <td>2850.00</td>\n",
       "      <td>0.00</td>\n",
       "      <td>1.45</td>\n",
       "      <td>4132.00</td>\n",
       "      <td>1.16</td>\n",
       "      <td>0.02</td>\n",
       "      <td>1.35</td>\n",
       "      <td>9850.00</td>\n",
       "      <td>3859.32</td>\n",
       "      <td>80.28</td>\n",
       "      <td>66.50</td>\n",
       "      <td>0.00</td>\n",
       "    </tr>\n",
       "    <tr>\n",
       "      <th>1</th>\n",
       "      <td>Day_Calls</td>\n",
       "      <td>0.00</td>\n",
       "      <td>165.00</td>\n",
       "      <td>483.00</td>\n",
       "      <td>0.00</td>\n",
       "      <td>101.34</td>\n",
       "      <td>48945.00</td>\n",
       "      <td>21.58</td>\n",
       "      <td>0.98</td>\n",
       "      <td>465.80</td>\n",
       "      <td>5184375.00</td>\n",
       "      <td>224513.66</td>\n",
       "      <td>21.30</td>\n",
       "      <td>103.19</td>\n",
       "      <td>0.00</td>\n",
       "    </tr>\n",
       "    <tr>\n",
       "      <th>0</th>\n",
       "      <td>Day_Calls</td>\n",
       "      <td>0.00</td>\n",
       "      <td>163.00</td>\n",
       "      <td>2850.00</td>\n",
       "      <td>0.00</td>\n",
       "      <td>100.28</td>\n",
       "      <td>285807.00</td>\n",
       "      <td>19.80</td>\n",
       "      <td>0.37</td>\n",
       "      <td>392.09</td>\n",
       "      <td>29778681.00</td>\n",
       "      <td>1117052.49</td>\n",
       "      <td>19.75</td>\n",
       "      <td>270.37</td>\n",
       "      <td>0.00</td>\n",
       "    </tr>\n",
       "    <tr>\n",
       "      <th>0</th>\n",
       "      <td>Day_Charge</td>\n",
       "      <td>0.00</td>\n",
       "      <td>53.65</td>\n",
       "      <td>2850.00</td>\n",
       "      <td>0.00</td>\n",
       "      <td>29.78</td>\n",
       "      <td>84874.20</td>\n",
       "      <td>8.53</td>\n",
       "      <td>0.16</td>\n",
       "      <td>72.78</td>\n",
       "      <td>2734925.83</td>\n",
       "      <td>207336.41</td>\n",
       "      <td>28.65</td>\n",
       "      <td>186.36</td>\n",
       "      <td>0.00</td>\n",
       "    </tr>\n",
       "    <tr>\n",
       "      <th>1</th>\n",
       "      <td>Day_Charge</td>\n",
       "      <td>0.00</td>\n",
       "      <td>59.64</td>\n",
       "      <td>483.00</td>\n",
       "      <td>0.00</td>\n",
       "      <td>35.18</td>\n",
       "      <td>16989.97</td>\n",
       "      <td>11.73</td>\n",
       "      <td>0.53</td>\n",
       "      <td>137.59</td>\n",
       "      <td>663954.35</td>\n",
       "      <td>66316.50</td>\n",
       "      <td>33.35</td>\n",
       "      <td>65.91</td>\n",
       "      <td>0.00</td>\n",
       "    </tr>\n",
       "    <tr>\n",
       "      <th>0</th>\n",
       "      <td>Day_Mins</td>\n",
       "      <td>0.00</td>\n",
       "      <td>315.60</td>\n",
       "      <td>2850.00</td>\n",
       "      <td>0.00</td>\n",
       "      <td>175.18</td>\n",
       "      <td>499250.90</td>\n",
       "      <td>50.18</td>\n",
       "      <td>0.94</td>\n",
       "      <td>2518.20</td>\n",
       "      <td>94631000.61</td>\n",
       "      <td>7174347.57</td>\n",
       "      <td>28.65</td>\n",
       "      <td>186.36</td>\n",
       "      <td>0.00</td>\n",
       "    </tr>\n",
       "    <tr>\n",
       "      <th>1</th>\n",
       "      <td>Day_Mins</td>\n",
       "      <td>0.00</td>\n",
       "      <td>350.80</td>\n",
       "      <td>483.00</td>\n",
       "      <td>0.00</td>\n",
       "      <td>206.91</td>\n",
       "      <td>99939.50</td>\n",
       "      <td>69.00</td>\n",
       "      <td>3.14</td>\n",
       "      <td>4760.70</td>\n",
       "      <td>22973544.67</td>\n",
       "      <td>2294655.10</td>\n",
       "      <td>33.35</td>\n",
       "      <td>65.91</td>\n",
       "      <td>0.00</td>\n",
       "    </tr>\n",
       "    <tr>\n",
       "      <th>1</th>\n",
       "      <td>Eve_Calls</td>\n",
       "      <td>48.00</td>\n",
       "      <td>168.00</td>\n",
       "      <td>483.00</td>\n",
       "      <td>0.00</td>\n",
       "      <td>100.56</td>\n",
       "      <td>48571.00</td>\n",
       "      <td>19.72</td>\n",
       "      <td>0.90</td>\n",
       "      <td>389.06</td>\n",
       "      <td>5071881.00</td>\n",
       "      <td>187528.95</td>\n",
       "      <td>19.61</td>\n",
       "      <td>112.05</td>\n",
       "      <td>0.00</td>\n",
       "    </tr>\n",
       "    <tr>\n",
       "      <th>0</th>\n",
       "      <td>Eve_Calls</td>\n",
       "      <td>0.00</td>\n",
       "      <td>170.00</td>\n",
       "      <td>2850.00</td>\n",
       "      <td>0.00</td>\n",
       "      <td>100.04</td>\n",
       "      <td>285110.00</td>\n",
       "      <td>19.96</td>\n",
       "      <td>0.37</td>\n",
       "      <td>398.34</td>\n",
       "      <td>29656870.00</td>\n",
       "      <td>1134865.75</td>\n",
       "      <td>19.95</td>\n",
       "      <td>267.59</td>\n",
       "      <td>0.00</td>\n",
       "    </tr>\n",
       "    <tr>\n",
       "      <th>0</th>\n",
       "      <td>Eve_Charge</td>\n",
       "      <td>0.00</td>\n",
       "      <td>30.75</td>\n",
       "      <td>2850.00</td>\n",
       "      <td>0.00</td>\n",
       "      <td>16.92</td>\n",
       "      <td>48218.89</td>\n",
       "      <td>4.27</td>\n",
       "      <td>0.08</td>\n",
       "      <td>18.27</td>\n",
       "      <td>867874.91</td>\n",
       "      <td>52063.91</td>\n",
       "      <td>25.27</td>\n",
       "      <td>211.29</td>\n",
       "      <td>0.00</td>\n",
       "    </tr>\n",
       "    <tr>\n",
       "      <th>1</th>\n",
       "      <td>Eve_Charge</td>\n",
       "      <td>6.03</td>\n",
       "      <td>30.91</td>\n",
       "      <td>483.00</td>\n",
       "      <td>0.00</td>\n",
       "      <td>18.05</td>\n",
       "      <td>8720.55</td>\n",
       "      <td>4.40</td>\n",
       "      <td>0.20</td>\n",
       "      <td>19.33</td>\n",
       "      <td>166767.05</td>\n",
       "      <td>9317.79</td>\n",
       "      <td>24.35</td>\n",
       "      <td>90.25</td>\n",
       "      <td>0.00</td>\n",
       "    </tr>\n",
       "    <tr>\n",
       "      <th>1</th>\n",
       "      <td>Eve_Mins</td>\n",
       "      <td>70.90</td>\n",
       "      <td>363.70</td>\n",
       "      <td>483.00</td>\n",
       "      <td>0.00</td>\n",
       "      <td>212.41</td>\n",
       "      <td>102594.10</td>\n",
       "      <td>51.73</td>\n",
       "      <td>2.35</td>\n",
       "      <td>2675.88</td>\n",
       "      <td>23081801.85</td>\n",
       "      <td>1289774.20</td>\n",
       "      <td>24.35</td>\n",
       "      <td>90.24</td>\n",
       "      <td>0.00</td>\n",
       "    </tr>\n",
       "    <tr>\n",
       "      <th>0</th>\n",
       "      <td>Eve_Mins</td>\n",
       "      <td>0.00</td>\n",
       "      <td>361.80</td>\n",
       "      <td>2850.00</td>\n",
       "      <td>0.00</td>\n",
       "      <td>199.04</td>\n",
       "      <td>567273.40</td>\n",
       "      <td>50.29</td>\n",
       "      <td>0.94</td>\n",
       "      <td>2529.30</td>\n",
       "      <td>120117952.30</td>\n",
       "      <td>7205983.76</td>\n",
       "      <td>25.27</td>\n",
       "      <td>211.29</td>\n",
       "      <td>0.00</td>\n",
       "    </tr>\n",
       "    <tr>\n",
       "      <th>0</th>\n",
       "      <td>Intl_Calls</td>\n",
       "      <td>0.00</td>\n",
       "      <td>19.00</td>\n",
       "      <td>2850.00</td>\n",
       "      <td>0.00</td>\n",
       "      <td>4.53</td>\n",
       "      <td>12919.00</td>\n",
       "      <td>2.44</td>\n",
       "      <td>0.05</td>\n",
       "      <td>5.96</td>\n",
       "      <td>75551.00</td>\n",
       "      <td>16989.40</td>\n",
       "      <td>53.87</td>\n",
       "      <td>99.10</td>\n",
       "      <td>0.00</td>\n",
       "    </tr>\n",
       "    <tr>\n",
       "      <th>1</th>\n",
       "      <td>Intl_Calls</td>\n",
       "      <td>1.00</td>\n",
       "      <td>20.00</td>\n",
       "      <td>483.00</td>\n",
       "      <td>0.00</td>\n",
       "      <td>4.16</td>\n",
       "      <td>2011.00</td>\n",
       "      <td>2.55</td>\n",
       "      <td>0.12</td>\n",
       "      <td>6.51</td>\n",
       "      <td>11511.00</td>\n",
       "      <td>3138.08</td>\n",
       "      <td>61.28</td>\n",
       "      <td>35.86</td>\n",
       "      <td>0.00</td>\n",
       "    </tr>\n",
       "    <tr>\n",
       "      <th>0</th>\n",
       "      <td>Intl_Charge</td>\n",
       "      <td>0.00</td>\n",
       "      <td>5.10</td>\n",
       "      <td>2850.00</td>\n",
       "      <td>0.00</td>\n",
       "      <td>2.74</td>\n",
       "      <td>7818.70</td>\n",
       "      <td>0.75</td>\n",
       "      <td>0.01</td>\n",
       "      <td>0.57</td>\n",
       "      <td>23060.05</td>\n",
       "      <td>1610.20</td>\n",
       "      <td>27.40</td>\n",
       "      <td>194.81</td>\n",
       "      <td>0.00</td>\n",
       "    </tr>\n",
       "    <tr>\n",
       "      <th>1</th>\n",
       "      <td>Intl_Charge</td>\n",
       "      <td>0.54</td>\n",
       "      <td>5.40</td>\n",
       "      <td>483.00</td>\n",
       "      <td>0.00</td>\n",
       "      <td>2.89</td>\n",
       "      <td>1395.65</td>\n",
       "      <td>0.75</td>\n",
       "      <td>0.03</td>\n",
       "      <td>0.57</td>\n",
       "      <td>4306.93</td>\n",
       "      <td>274.14</td>\n",
       "      <td>26.10</td>\n",
       "      <td>84.21</td>\n",
       "      <td>0.00</td>\n",
       "    </tr>\n",
       "    <tr>\n",
       "      <th>1</th>\n",
       "      <td>Intl_Mins</td>\n",
       "      <td>2.00</td>\n",
       "      <td>20.00</td>\n",
       "      <td>483.00</td>\n",
       "      <td>0.00</td>\n",
       "      <td>10.70</td>\n",
       "      <td>5168.10</td>\n",
       "      <td>2.79</td>\n",
       "      <td>0.13</td>\n",
       "      <td>7.80</td>\n",
       "      <td>59059.19</td>\n",
       "      <td>3760.52</td>\n",
       "      <td>26.10</td>\n",
       "      <td>84.19</td>\n",
       "      <td>0.00</td>\n",
       "    </tr>\n",
       "    <tr>\n",
       "      <th>0</th>\n",
       "      <td>Intl_Mins</td>\n",
       "      <td>0.00</td>\n",
       "      <td>18.90</td>\n",
       "      <td>2850.00</td>\n",
       "      <td>0.00</td>\n",
       "      <td>10.16</td>\n",
       "      <td>28952.80</td>\n",
       "      <td>2.78</td>\n",
       "      <td>0.05</td>\n",
       "      <td>7.75</td>\n",
       "      <td>316217.32</td>\n",
       "      <td>22089.38</td>\n",
       "      <td>27.41</td>\n",
       "      <td>194.77</td>\n",
       "      <td>0.00</td>\n",
       "    </tr>\n",
       "    <tr>\n",
       "      <th>0</th>\n",
       "      <td>Night_Calls</td>\n",
       "      <td>33.00</td>\n",
       "      <td>175.00</td>\n",
       "      <td>2850.00</td>\n",
       "      <td>0.00</td>\n",
       "      <td>100.06</td>\n",
       "      <td>285166.00</td>\n",
       "      <td>19.51</td>\n",
       "      <td>0.37</td>\n",
       "      <td>380.49</td>\n",
       "      <td>29617236.00</td>\n",
       "      <td>1084026.33</td>\n",
       "      <td>19.49</td>\n",
       "      <td>273.84</td>\n",
       "      <td>0.00</td>\n",
       "    </tr>\n",
       "    <tr>\n",
       "      <th>1</th>\n",
       "      <td>Night_Calls</td>\n",
       "      <td>49.00</td>\n",
       "      <td>158.00</td>\n",
       "      <td>483.00</td>\n",
       "      <td>0.00</td>\n",
       "      <td>100.40</td>\n",
       "      <td>48493.00</td>\n",
       "      <td>19.95</td>\n",
       "      <td>0.91</td>\n",
       "      <td>398.03</td>\n",
       "      <td>5060527.00</td>\n",
       "      <td>191849.88</td>\n",
       "      <td>19.87</td>\n",
       "      <td>110.60</td>\n",
       "      <td>0.00</td>\n",
       "    </tr>\n",
       "    <tr>\n",
       "      <th>0</th>\n",
       "      <td>Night_Charge</td>\n",
       "      <td>1.04</td>\n",
       "      <td>17.77</td>\n",
       "      <td>2850.00</td>\n",
       "      <td>0.00</td>\n",
       "      <td>9.01</td>\n",
       "      <td>25667.31</td>\n",
       "      <td>2.30</td>\n",
       "      <td>0.04</td>\n",
       "      <td>5.29</td>\n",
       "      <td>246229.85</td>\n",
       "      <td>15068.16</td>\n",
       "      <td>25.54</td>\n",
       "      <td>209.06</td>\n",
       "      <td>0.00</td>\n",
       "    </tr>\n",
       "    <tr>\n",
       "      <th>1</th>\n",
       "      <td>Night_Charge</td>\n",
       "      <td>2.13</td>\n",
       "      <td>15.97</td>\n",
       "      <td>483.00</td>\n",
       "      <td>0.00</td>\n",
       "      <td>9.24</td>\n",
       "      <td>4460.76</td>\n",
       "      <td>2.12</td>\n",
       "      <td>0.10</td>\n",
       "      <td>4.50</td>\n",
       "      <td>43365.98</td>\n",
       "      <td>2168.51</td>\n",
       "      <td>22.97</td>\n",
       "      <td>95.69</td>\n",
       "      <td>0.00</td>\n",
       "    </tr>\n",
       "    <tr>\n",
       "      <th>1</th>\n",
       "      <td>Night_Mins</td>\n",
       "      <td>47.40</td>\n",
       "      <td>354.90</td>\n",
       "      <td>483.00</td>\n",
       "      <td>0.00</td>\n",
       "      <td>205.23</td>\n",
       "      <td>99126.90</td>\n",
       "      <td>47.13</td>\n",
       "      <td>2.14</td>\n",
       "      <td>2221.50</td>\n",
       "      <td>21414744.45</td>\n",
       "      <td>1070764.53</td>\n",
       "      <td>22.97</td>\n",
       "      <td>95.70</td>\n",
       "      <td>0.00</td>\n",
       "    </tr>\n",
       "    <tr>\n",
       "      <th>0</th>\n",
       "      <td>Night_Mins</td>\n",
       "      <td>23.20</td>\n",
       "      <td>395.00</td>\n",
       "      <td>2850.00</td>\n",
       "      <td>0.00</td>\n",
       "      <td>200.13</td>\n",
       "      <td>570379.60</td>\n",
       "      <td>51.11</td>\n",
       "      <td>0.96</td>\n",
       "      <td>2611.72</td>\n",
       "      <td>121592693.18</td>\n",
       "      <td>7440802.62</td>\n",
       "      <td>25.54</td>\n",
       "      <td>209.06</td>\n",
       "      <td>0.00</td>\n",
       "    </tr>\n",
       "    <tr>\n",
       "      <th>0</th>\n",
       "      <td>VMail_Message</td>\n",
       "      <td>0.00</td>\n",
       "      <td>51.00</td>\n",
       "      <td>2850.00</td>\n",
       "      <td>0.00</td>\n",
       "      <td>8.60</td>\n",
       "      <td>24523.00</td>\n",
       "      <td>13.91</td>\n",
       "      <td>0.26</td>\n",
       "      <td>193.58</td>\n",
       "      <td>762505.00</td>\n",
       "      <td>551495.34</td>\n",
       "      <td>161.69</td>\n",
       "      <td>33.02</td>\n",
       "      <td>0.00</td>\n",
       "    </tr>\n",
       "    <tr>\n",
       "      <th>1</th>\n",
       "      <td>VMail_Message</td>\n",
       "      <td>0.00</td>\n",
       "      <td>48.00</td>\n",
       "      <td>483.00</td>\n",
       "      <td>0.00</td>\n",
       "      <td>5.12</td>\n",
       "      <td>2471.00</td>\n",
       "      <td>11.86</td>\n",
       "      <td>0.54</td>\n",
       "      <td>140.66</td>\n",
       "      <td>80441.00</td>\n",
       "      <td>67799.51</td>\n",
       "      <td>231.83</td>\n",
       "      <td>9.48</td>\n",
       "      <td>0.00</td>\n",
       "    </tr>\n",
       "  </tbody>\n",
       "</table>\n",
       "</div>"
      ],
      "text/plain": [
       "Descriptive Statistics for CHURN\n",
       "\n",
       "               Column   Min    Max       N  NMiss   Mean       Sum   Std  \\\n",
       "CHURN                                                                      \n",
       "0      Account_Length  1.00 243.00 2850.00   0.00 100.79 287262.00 39.88   \n",
       "1      Account_Length  1.00 225.00  483.00   0.00 102.66  49587.00 39.47   \n",
       "1      CustServ_Calls  0.00   9.00  483.00   0.00   2.23   1077.00  1.85   \n",
       "0      CustServ_Calls  0.00   8.00 2850.00   0.00   1.45   4132.00  1.16   \n",
       "1           Day_Calls  0.00 165.00  483.00   0.00 101.34  48945.00 21.58   \n",
       "0           Day_Calls  0.00 163.00 2850.00   0.00 100.28 285807.00 19.80   \n",
       "0          Day_Charge  0.00  53.65 2850.00   0.00  29.78  84874.20  8.53   \n",
       "1          Day_Charge  0.00  59.64  483.00   0.00  35.18  16989.97 11.73   \n",
       "0            Day_Mins  0.00 315.60 2850.00   0.00 175.18 499250.90 50.18   \n",
       "1            Day_Mins  0.00 350.80  483.00   0.00 206.91  99939.50 69.00   \n",
       "1           Eve_Calls 48.00 168.00  483.00   0.00 100.56  48571.00 19.72   \n",
       "0           Eve_Calls  0.00 170.00 2850.00   0.00 100.04 285110.00 19.96   \n",
       "0          Eve_Charge  0.00  30.75 2850.00   0.00  16.92  48218.89  4.27   \n",
       "1          Eve_Charge  6.03  30.91  483.00   0.00  18.05   8720.55  4.40   \n",
       "1            Eve_Mins 70.90 363.70  483.00   0.00 212.41 102594.10 51.73   \n",
       "0            Eve_Mins  0.00 361.80 2850.00   0.00 199.04 567273.40 50.29   \n",
       "0          Intl_Calls  0.00  19.00 2850.00   0.00   4.53  12919.00  2.44   \n",
       "1          Intl_Calls  1.00  20.00  483.00   0.00   4.16   2011.00  2.55   \n",
       "0         Intl_Charge  0.00   5.10 2850.00   0.00   2.74   7818.70  0.75   \n",
       "1         Intl_Charge  0.54   5.40  483.00   0.00   2.89   1395.65  0.75   \n",
       "1           Intl_Mins  2.00  20.00  483.00   0.00  10.70   5168.10  2.79   \n",
       "0           Intl_Mins  0.00  18.90 2850.00   0.00  10.16  28952.80  2.78   \n",
       "0         Night_Calls 33.00 175.00 2850.00   0.00 100.06 285166.00 19.51   \n",
       "1         Night_Calls 49.00 158.00  483.00   0.00 100.40  48493.00 19.95   \n",
       "0        Night_Charge  1.04  17.77 2850.00   0.00   9.01  25667.31  2.30   \n",
       "1        Night_Charge  2.13  15.97  483.00   0.00   9.24   4460.76  2.12   \n",
       "1          Night_Mins 47.40 354.90  483.00   0.00 205.23  99126.90 47.13   \n",
       "0          Night_Mins 23.20 395.00 2850.00   0.00 200.13 570379.60 51.11   \n",
       "0       VMail_Message  0.00  51.00 2850.00   0.00   8.60  24523.00 13.91   \n",
       "1       VMail_Message  0.00  48.00  483.00   0.00   5.12   2471.00 11.86   \n",
       "\n",
       "       StdErr     Var          USS        CSS     CV  TValue  ProbT  \n",
       "CHURN                                                                \n",
       "0        0.75 1590.60  33485820.00 4531624.69  39.57  134.92   0.00  \n",
       "1        1.80 1557.71   5841645.00  750815.66  38.44   57.17   0.00  \n",
       "1        0.08    3.43      4057.00    1655.49  83.11   26.44   0.00  \n",
       "0        0.02    1.35      9850.00    3859.32  80.28   66.50   0.00  \n",
       "1        0.98  465.80   5184375.00  224513.66  21.30  103.19   0.00  \n",
       "0        0.37  392.09  29778681.00 1117052.49  19.75  270.37   0.00  \n",
       "0        0.16   72.78   2734925.83  207336.41  28.65  186.36   0.00  \n",
       "1        0.53  137.59    663954.35   66316.50  33.35   65.91   0.00  \n",
       "0        0.94 2518.20  94631000.61 7174347.57  28.65  186.36   0.00  \n",
       "1        3.14 4760.70  22973544.67 2294655.10  33.35   65.91   0.00  \n",
       "1        0.90  389.06   5071881.00  187528.95  19.61  112.05   0.00  \n",
       "0        0.37  398.34  29656870.00 1134865.75  19.95  267.59   0.00  \n",
       "0        0.08   18.27    867874.91   52063.91  25.27  211.29   0.00  \n",
       "1        0.20   19.33    166767.05    9317.79  24.35   90.25   0.00  \n",
       "1        2.35 2675.88  23081801.85 1289774.20  24.35   90.24   0.00  \n",
       "0        0.94 2529.30 120117952.30 7205983.76  25.27  211.29   0.00  \n",
       "0        0.05    5.96     75551.00   16989.40  53.87   99.10   0.00  \n",
       "1        0.12    6.51     11511.00    3138.08  61.28   35.86   0.00  \n",
       "0        0.01    0.57     23060.05    1610.20  27.40  194.81   0.00  \n",
       "1        0.03    0.57      4306.93     274.14  26.10   84.21   0.00  \n",
       "1        0.13    7.80     59059.19    3760.52  26.10   84.19   0.00  \n",
       "0        0.05    7.75    316217.32   22089.38  27.41  194.77   0.00  \n",
       "0        0.37  380.49  29617236.00 1084026.33  19.49  273.84   0.00  \n",
       "1        0.91  398.03   5060527.00  191849.88  19.87  110.60   0.00  \n",
       "0        0.04    5.29    246229.85   15068.16  25.54  209.06   0.00  \n",
       "1        0.10    4.50     43365.98    2168.51  22.97   95.69   0.00  \n",
       "1        2.14 2221.50  21414744.45 1070764.53  22.97   95.70   0.00  \n",
       "0        0.96 2611.72 121592693.18 7440802.62  25.54  209.06   0.00  \n",
       "0        0.26  193.58    762505.00  551495.34 161.69   33.02   0.00  \n",
       "1        0.54  140.66     80441.00   67799.51 231.83    9.48   0.00  "
      ]
     },
     "execution_count": 256,
     "metadata": {},
     "output_type": "execute_result"
    }
   ],
   "source": [
    "grpsumm=churn.groupby('churn').summary()\n",
    "comb_group_summ = grpsumm.concat_bygroups()\n",
    "combined_summary = comb_group_summ['Summary']\n",
    "combined_summary.sort_values(by=['Column'])"
   ]
  },
  {
   "cell_type": "markdown",
   "metadata": {},
   "source": [
    "Or, if you prefer visually scanning through data here's an example of a neat plot for visualization or you could simply get a pandas barplot"
   ]
  },
  {
   "cell_type": "code",
   "execution_count": 257,
   "metadata": {
    "ExecuteTime": {
     "end_time": "2017-08-25T10:38:23.462041",
     "start_time": "2017-08-25T10:38:23.056041"
    }
   },
   "outputs": [
    {
     "data": {
      "text/html": [
       "<iframe width=800 height=800 frameBorder=0 src=radar.svg></iframe>"
      ],
      "text/plain": [
       "<IPython.core.display.HTML object>"
      ]
     },
     "execution_count": 257,
     "metadata": {},
     "output_type": "execute_result"
    }
   ],
   "source": [
    "radar_chart=pygal.Radar(style=pygal.style.DefaultStyle,include_x_axis=False)\n",
    "radar_chart.title='Quick Feature Comparison - By Group Differences - Sq.Logged Mean Values'\n",
    "radar_chart.x_labels=sorted(list(combined_summary['Column'].unique()))\n",
    "radar_chart.add('Non-Churners',list(round(np.log(grpsumm['ByGroup1.Summary'][['Column','Mean']]\n",
    "                                    .sort_values(by=['Column'])['Mean'])**2,1)))\n",
    "radar_chart.add('Churners',list(round(np.log(grpsumm['ByGroup2.Summary'][['Column','Mean']]\n",
    "                                    .sort_values(by=['Column'])['Mean'])**2,1)))\n",
    "radar_chart.render_to_file('radar.svg')\n",
    "HTML('<iframe width=800 height=800 frameBorder=0 src=radar.svg></iframe>')"
   ]
  },
  {
   "cell_type": "markdown",
   "metadata": {},
   "source": [
    "## 3. Build Classificaiton Models"
   ]
  },
  {
   "cell_type": "markdown",
   "metadata": {},
   "source": [
    "Perform a stratified sample of the data"
   ]
  },
  {
   "cell_type": "code",
   "execution_count": 258,
   "metadata": {
    "ExecuteTime": {
     "end_time": "2017-08-25T10:38:47.452041",
     "start_time": "2017-08-25T10:38:45.595041"
    }
   },
   "outputs": [
    {
     "data": {
      "text/html": [
       "<div>\n",
       "<table border=\"1\" class=\"dataframe\"><caption>Selected Rows from Table CHURN_PART</caption>\n",
       "  <thead>\n",
       "    <tr style=\"text-align: right;\">\n",
       "      <th title=\"\"></th>\n",
       "      <th title=\"Eve_Charge\">Eve_Charge</th>\n",
       "      <th title=\"Night_Calls\">Night_Calls</th>\n",
       "      <th title=\"Night_Charge\">Night_Charge</th>\n",
       "      <th title=\"Intl_Calls\">Intl_Calls</th>\n",
       "      <th title=\"Intl_Charge\">Intl_Charge</th>\n",
       "      <th title=\"State\">State</th>\n",
       "      <th title=\"Phone\">Phone</th>\n",
       "      <th title=\"INTL_PLAN\">INTL_PLAN</th>\n",
       "      <th title=\"VMAIL_PLAN\">VMAIL_PLAN</th>\n",
       "      <th title=\"AREA_CODE\">AREA_CODE</th>\n",
       "      <th title=\"CHURN\">CHURN</th>\n",
       "      <th title=\"Partition Indicator\">_PartInd_</th>\n",
       "    </tr>\n",
       "  </thead>\n",
       "  <tbody>\n",
       "    <tr>\n",
       "      <th>0</th>\n",
       "      <td>16.78</td>\n",
       "      <td>91.00</td>\n",
       "      <td>11.01</td>\n",
       "      <td>3.00</td>\n",
       "      <td>2.70</td>\n",
       "      <td>KS</td>\n",
       "      <td>382-4657</td>\n",
       "      <td>0</td>\n",
       "      <td>1</td>\n",
       "      <td>415</td>\n",
       "      <td>0</td>\n",
       "      <td>0.00</td>\n",
       "    </tr>\n",
       "    <tr>\n",
       "      <th>1</th>\n",
       "      <td>16.62</td>\n",
       "      <td>103.00</td>\n",
       "      <td>11.45</td>\n",
       "      <td>3.00</td>\n",
       "      <td>3.70</td>\n",
       "      <td>OH</td>\n",
       "      <td>371-7191</td>\n",
       "      <td>0</td>\n",
       "      <td>1</td>\n",
       "      <td>415</td>\n",
       "      <td>0</td>\n",
       "      <td>1.00</td>\n",
       "    </tr>\n",
       "    <tr>\n",
       "      <th>2</th>\n",
       "      <td>10.30</td>\n",
       "      <td>104.00</td>\n",
       "      <td>7.32</td>\n",
       "      <td>5.00</td>\n",
       "      <td>3.29</td>\n",
       "      <td>NJ</td>\n",
       "      <td>358-1921</td>\n",
       "      <td>0</td>\n",
       "      <td>0</td>\n",
       "      <td>415</td>\n",
       "      <td>0</td>\n",
       "      <td>1.00</td>\n",
       "    </tr>\n",
       "    <tr>\n",
       "      <th>3</th>\n",
       "      <td>5.26</td>\n",
       "      <td>89.00</td>\n",
       "      <td>8.86</td>\n",
       "      <td>7.00</td>\n",
       "      <td>1.78</td>\n",
       "      <td>OH</td>\n",
       "      <td>375-9999</td>\n",
       "      <td>1</td>\n",
       "      <td>0</td>\n",
       "      <td>408</td>\n",
       "      <td>0</td>\n",
       "      <td>1.00</td>\n",
       "    </tr>\n",
       "    <tr>\n",
       "      <th>4</th>\n",
       "      <td>12.61</td>\n",
       "      <td>121.00</td>\n",
       "      <td>8.41</td>\n",
       "      <td>3.00</td>\n",
       "      <td>2.73</td>\n",
       "      <td>OK</td>\n",
       "      <td>330-6626</td>\n",
       "      <td>1</td>\n",
       "      <td>0</td>\n",
       "      <td>415</td>\n",
       "      <td>0</td>\n",
       "      <td>1.00</td>\n",
       "    </tr>\n",
       "  </tbody>\n",
       "</table>\n",
       "</div>"
      ],
      "text/plain": [
       "Selected Rows from Table CHURN_PART\n",
       "\n",
       "   Eve_Charge  Night_Calls  Night_Charge  Intl_Calls  Intl_Charge State  \\\n",
       "0       16.78        91.00         11.01        3.00         2.70    KS   \n",
       "1       16.62       103.00         11.45        3.00         3.70    OH   \n",
       "2       10.30       104.00          7.32        5.00         3.29    NJ   \n",
       "3        5.26        89.00          8.86        7.00         1.78    OH   \n",
       "4       12.61       121.00          8.41        3.00         2.73    OK   \n",
       "\n",
       "      Phone INTL_PLAN VMAIL_PLAN AREA_CODE CHURN  _PartInd_  \n",
       "0  382-4657         0          1       415     0       0.00  \n",
       "1  371-7191         0          1       415     0       1.00  \n",
       "2  358-1921         0          0       415     0       1.00  \n",
       "3  375-9999         1          0       408     0       1.00  \n",
       "4  330-6626         1          0       415     0       1.00  "
      ]
     },
     "execution_count": 258,
     "metadata": {},
     "output_type": "execute_result"
    }
   ],
   "source": [
    "#Conduct Sampling and see the data set\n",
    "s.sampling.stratified(\n",
    "  table=dict(name = \"churn\", groupBy = \"churn\"),\n",
    "  output=dict(casOut = dict(name = \"churn_part\", replace = True), copyVars = \"ALL\"),\n",
    "  samppct=70,\n",
    "  partind=True\n",
    ")\n",
    "\n",
    "cpart = s.CASTable('churn_part')\n",
    "cpart[cpart.columns[10:]].head()"
   ]
  },
  {
   "cell_type": "markdown",
   "metadata": {},
   "source": [
    "Create variable shortcuts to aid us in our modeling"
   ]
  },
  {
   "cell_type": "code",
   "execution_count": 259,
   "metadata": {},
   "outputs": [
    {
     "name": "stdout",
     "output_type": "stream",
     "text": [
      "['State', 'INTL_PLAN', 'VMAIL_PLAN', 'AREA_CODE']\n"
     ]
    }
   ],
   "source": [
    "#Variable Shortcuts\n",
    "numeric_inputs = [i for i in cpart.dtypes[cpart.dtypes=='double'].index if i!='_PartInd_']\n",
    "class_inputs = [i for i in cpart.dtypes[(cpart.dtypes =='varchar') |(cpart.dtypes =='char')].index if (i!='Phone') & (i!='CHURN')] \n",
    "all_inputs = class_inputs + numeric_inputs\n",
    "target = 'churn'\n",
    "\n",
    "print(class_inputs)\n",
    "\n",
    "#Keyword Shortcuts for Modeling\n",
    "params = dict(\n",
    "    table = dict(name=\"churn_part\", where = '_partind_ = 1'),\n",
    "    target = target,\n",
    "    inputs = all_inputs,\n",
    "    nominals = class_inputs)\n",
    "\n",
    "models = collections.OrderedDict()\n",
    "models['rf']  = 'Random Forest'\n",
    "models['gbt'] = 'Gradient Boosting'\n",
    "models['lr']  = 'Logistic Regression'"
   ]
  },
  {
   "cell_type": "markdown",
   "metadata": {},
   "source": [
    "**Random Forest Model**"
   ]
  },
  {
   "cell_type": "code",
   "execution_count": null,
   "metadata": {
    "ExecuteTime": {
     "end_time": "2017-08-25T10:38:55.338041",
     "start_time": "2017-08-25T10:38:51.992041"
    }
   },
   "outputs": [
    {
     "data": {
      "text/html": [
       "\n",
       "    <style type=\"text/css\">\n",
       "    div.cas-results {\n",
       "        overflow-x: auto;\n",
       "    }\n",
       "    div.cas-results > * {\n",
       "        margin-left: auto !important;\n",
       "        margin-right: auto !important;\n",
       "    }\n",
       "    div.cas-results .sas-dataframe th[colspan],\n",
       "    div.cas-results .byline {\n",
       "        text-align: center;\n",
       "        font-size: 110%;\n",
       "    }\n",
       "    div.cas-results .sas-dataframe > tbody > tr:nth-child(even) {\n",
       "        background-color: #f8f8f8;\n",
       "    }\n",
       "    div.cas-results .sas-dataframe td,\n",
       "    div.cas-results .sas-dataframe th {\n",
       "        border: 1px solid #aaaaaa;\n",
       "        padding: 5px 10px;\n",
       "    }\n",
       "    div.cas-results .sas-dataframe th {\n",
       "        background-color: #f0f0f0;\n",
       "    }\n",
       "    div.cas-results .sas-dataframe .double,\n",
       "    div.cas-results .sas-dataframe .int32,\n",
       "    div.cas-results .sas-dataframe .int64,\n",
       "    div.cas-results .sas-dataframe .decsext,\n",
       "    div.cas-results .sas-dataframe .decquad {\n",
       "        text-align: right;\n",
       "    }\n",
       "    </style>\n",
       "<div class=\"cas-results\"><table class=\"sas-dataframe\">\n",
       "<colgroup><col class=\"char\" /><col class=\"double\" /></colgroup>\n",
       "<thead>\n",
       "<tr><th colspan=\"2\">Forest for CHURN_PART</th></tr>\n",
       "<th class=\"char\">Descr</th>\n",
       "<th class=\"double\">Value</th>\n",
       "</thead>\n",
       "<tbody>\n",
       "<tr><td class=\"char\">Number of Trees</td><td class=\"double\">100</td></tr>\n",
       "<tr><td class=\"char\">Number of Selected Variables (M)</td><td class=\"double\">4</td></tr>\n",
       "<tr><td class=\"char\">Random Number Seed</td><td class=\"double\">0</td></tr>\n",
       "<tr><td class=\"char\">Bootstrap Percentage (%)</td><td class=\"double\">63.212055882</td></tr>\n",
       "<tr><td class=\"char\">Number of Bins</td><td class=\"double\">20</td></tr>\n",
       "<tr><td class=\"char\">Number of Variables</td><td class=\"double\">19</td></tr>\n",
       "<tr><td class=\"char\">Confidence Level for Pruning</td><td class=\"double\">0.25</td></tr>\n",
       "<tr><td class=\"char\">Max Number of Tree Nodes</td><td class=\"double\">175</td></tr>\n",
       "<tr><td class=\"char\">Min Number of Tree Nodes</td><td class=\"double\">77</td></tr>\n",
       "<tr><td class=\"char\">Max Number of Branches</td><td class=\"double\">2</td></tr>\n",
       "<tr><td class=\"char\">Min Number of Branches</td><td class=\"double\">2</td></tr>\n",
       "<tr><td class=\"char\">Max Number of Levels</td><td class=\"double\">20</td></tr>\n",
       "<tr><td class=\"char\">Min Number of Levels</td><td class=\"double\">20</td></tr>\n",
       "<tr><td class=\"char\">Max Number of Leaves</td><td class=\"double\">88</td></tr>\n",
       "<tr><td class=\"char\">Min Number of Leaves</td><td class=\"double\">39</td></tr>\n",
       "<tr><td class=\"char\">Maximum Size of Leaves</td><td class=\"double\">1006</td></tr>\n",
       "<tr><td class=\"char\">Minimum Size of Leaves</td><td class=\"double\">5</td></tr>\n",
       "<tr><td class=\"char\">Out-of-Bag MCR (%)</td><td class=\"double\">nan</td></tr>\n",
       "</tbody>\n",
       "</table><table class=\"sas-dataframe\">\n",
       "<colgroup><col class=\"varchar\" /><col class=\"varchar\" /><col class=\"int64\" /><col class=\"int64\" /><col class=\"object\" /></colgroup>\n",
       "<thead>\n",
       "<tr><th colspan=\"5\">Output CAS Tables</th></tr>\n",
       "<th class=\"varchar\">CAS Library</th>\n",
       "<th class=\"varchar\">Name</th>\n",
       "<th class=\"int64\">Number of Rows</th>\n",
       "<th class=\"int64\">Number of Columns</th>\n",
       "<th class=\"object\">Table</th>\n",
       "</thead>\n",
       "<tbody>\n",
       "<tr><td class=\"varchar\">DMlib</td><td class=\"varchar\">rf_model</td><td class=\"int64\">12254</td><td class=\"int64\">124</td><td class=\"object\">CASTable('rf_model', caslib='DMlib')</td></tr>\n",
       "</tbody>\n",
       "</table></div>"
      ]
     },
     "metadata": {},
     "output_type": "display_data"
    }
   ],
   "source": [
    "r_forest = s.decisiontree.foresttrain(**params, casout=dict(name=\"rf_model\", replace=True),\n",
    "                                       savestate=dict(name='forest_model_train', replace=True), vote=\"PROB\",\n",
    "                                     maxLevel=20, M=4, ntree=100)\n",
    "\n",
    "render_html(r_forest)"
   ]
  },
  {
   "cell_type": "markdown",
   "metadata": {},
   "source": [
    "**Gradient Boosting**"
   ]
  },
  {
   "cell_type": "code",
   "execution_count": null,
   "metadata": {},
   "outputs": [],
   "source": [
    "gbt = s.decisionTree.gbtreeTrain(**params, seed = 1, casOut = dict(name = 'gbt_model', replace = True), ntree=50)\n",
    "\n",
    "render_html(gbt)"
   ]
  },
  {
   "cell_type": "markdown",
   "metadata": {},
   "source": [
    "**Logistic Regression**"
   ]
  },
  {
   "cell_type": "code",
   "execution_count": null,
   "metadata": {},
   "outputs": [],
   "source": [
    "#Many of those keyword arguments passed are optional to show flexibility\n",
    "log_reg = cpart.logistic(class_=[dict(vars=class_inputs)],\n",
    "                                   model={\"depvars\":[{\"name\":\"churn\", \"options\":{\"event\":\"1\"}}],\n",
    "                                        \"effects\":[dict(vars=all_inputs)]\n",
    "                                         },\n",
    "                                   partbyvar={\"name\": \"_partind_\", \"train\": \"1\", \"valid\": \"0\"},\n",
    "                                   selection=dict(method=\"stepwise\"),\n",
    "                                   output=dict(casout=dict(name=\"churn_scored_logistic\",\n",
    "                                                          replace=True),\n",
    "                                              copyvars=\"ALL\"),\n",
    "                                  )\n",
    "#Fix Column\n",
    "s.dataStep.runCode(\n",
    "  code='''data _scored_lr(replace=YES); \n",
    "          set churn_scored_logistic; \n",
    "              p_churn1=_pred_; \n",
    "              if churn = \"1\" then churn_numeric=1; \n",
    "                  else churn_numeric=0;\n",
    "         run;'''\n",
    ")\n",
    "\n",
    "render_html(log_reg) "
   ]
  },
  {
   "cell_type": "markdown",
   "metadata": {},
   "source": [
    "Helper function for model assessment - it generates and collects the validation metrics"
   ]
  },
  {
   "cell_type": "markdown",
   "metadata": {},
   "source": [
    "## 4. Score Models"
   ]
  },
  {
   "cell_type": "markdown",
   "metadata": {},
   "source": [
    "Auxiliary function to help score"
   ]
  },
  {
   "cell_type": "code",
   "execution_count": null,
   "metadata": {
    "collapsed": true
   },
   "outputs": [],
   "source": [
    "def score_model(model):\n",
    "    score = dict(\n",
    "        table      = \"churn_part\",\n",
    "        modelTable = model + '_model',\n",
    "        copyVars   = [target, '_partind_'],\n",
    "        casOut     = dict(name = '_scored_' + model, replace = True)\n",
    "    )\n",
    "    return score"
   ]
  },
  {
   "cell_type": "markdown",
   "metadata": {},
   "source": [
    "Score Models"
   ]
  },
  {
   "cell_type": "code",
   "execution_count": null,
   "metadata": {},
   "outputs": [],
   "source": [
    "# Decision Tree\n",
    "s.decisionTree.forestScore(**score_model('rf'))\n",
    "\n",
    "# Gradient Boosting\n",
    "s.decisionTree.gbtreeScore(**score_model('gbt'))\n",
    "\n",
    "#Logistic already scored\n",
    "s.CASTable('_scored_lr').head()"
   ]
  },
  {
   "cell_type": "markdown",
   "metadata": {},
   "source": [
    "Standardize prediction column"
   ]
  },
  {
   "cell_type": "code",
   "execution_count": null,
   "metadata": {},
   "outputs": [],
   "source": [
    "for i in range(len(models)-1):\n",
    "    s.dataStep.runCode('''\n",
    "            data _scored_''' + list(models)[i] + '''; \n",
    "                set _scored_''' + list(models)[i] + '''; \n",
    "                if _''' + list(models)[i] + '''_predname_ = \"1\"\n",
    "                    then p_''' + target + '''1 = _''' + list(models)[i] + '''_predp_; \n",
    "                    else p_''' + target + '''1 = 1 - _''' + list(models)[i] + '''_predp_;\n",
    "                    if churn = \"1\" then churn_numeric=1; else churn_numeric=0;\n",
    "            run;\n",
    "        ''')"
   ]
  },
  {
   "cell_type": "markdown",
   "metadata": {},
   "source": [
    "## 5. Compare Model Performance"
   ]
  },
  {
   "cell_type": "markdown",
   "metadata": {},
   "source": [
    "Function to aid in assessing models"
   ]
  },
  {
   "cell_type": "code",
   "execution_count": null,
   "metadata": {
    "ExecuteTime": {
     "end_time": "2017-08-25T10:39:03.315041",
     "start_time": "2017-08-25T10:39:03.294041"
    },
    "collapsed": true
   },
   "outputs": [],
   "source": [
    "def assess_model(model):\n",
    "    assess = s.percentile.assess(\n",
    "        table    = dict(name = '_scored_' + model, where = '_partind_ = 0'),\n",
    "        inputs   = 'p_' + target + '1',      \n",
    "        response = \"churn_numeric\",\n",
    "        event    = \"1\",   \n",
    "    )\n",
    "    return assess"
   ]
  },
  {
   "cell_type": "markdown",
   "metadata": {},
   "source": [
    "Generate ROC and misclassification stats"
   ]
  },
  {
   "cell_type": "code",
   "execution_count": null,
   "metadata": {
    "ExecuteTime": {
     "end_time": "2017-08-25T10:39:08.640041",
     "start_time": "2017-08-25T10:39:03.320041"
    }
   },
   "outputs": [],
   "source": [
    "# Loop through the models and append to the roc_df dataframe\n",
    "roc_df  = pd.DataFrame()\n",
    "for i in range(len(models)):\n",
    "    tmp = assess_model(list(models)[i])\n",
    "    tmp.ROCInfo['Model']  = list(models.values())[i]\n",
    "    roc_df  = pd.concat([roc_df,  tmp.ROCInfo])"
   ]
  },
  {
   "cell_type": "markdown",
   "metadata": {
    "ExecuteTime": {
     "end_time": "2017-05-19T01:00:42.053911",
     "start_time": "2017-05-19T01:00:42.042411"
    }
   },
   "source": [
    "View Confusion Matrix"
   ]
  },
  {
   "cell_type": "code",
   "execution_count": null,
   "metadata": {
    "ExecuteTime": {
     "end_time": "2017-08-25T10:39:08.700041",
     "start_time": "2017-08-25T10:39:08.650041"
    }
   },
   "outputs": [],
   "source": [
    "print('\\n', 'Confusion Matrix Information'.center(42, ' '))\n",
    "roc_df[round(roc_df['CutOff'], 2) == 0.5][['Model', 'TP', 'FP', 'FN', 'TN']].reset_index(drop = True)"
   ]
  },
  {
   "cell_type": "markdown",
   "metadata": {},
   "source": [
    "See Misclassification Rates"
   ]
  },
  {
   "cell_type": "code",
   "execution_count": null,
   "metadata": {},
   "outputs": [],
   "source": [
    "roc_df['Misclassification'] = 1 - roc_df['ACC']\n",
    "\n",
    "print('\\n', 'Misclassification Rate Comparison'.center(37, ' '))\n",
    "miss = roc_df[round(roc_df['CutOff'], 2)==0.5][['Model', 'Misclassification']].reset_index(drop = True)\n",
    "miss.sort_values('Misclassification')"
   ]
  },
  {
   "cell_type": "markdown",
   "metadata": {},
   "source": [
    "See ROC Curve"
   ]
  },
  {
   "cell_type": "code",
   "execution_count": null,
   "metadata": {
    "ExecuteTime": {
     "end_time": "2017-08-25T10:39:08.817041",
     "start_time": "2017-08-25T10:39:08.718041"
    }
   },
   "outputs": [],
   "source": [
    "# Plot ROC curve\n",
    "plt.figure(figsize = (7, 6))\n",
    "for key, grp in roc_df.groupby(['Model']):\n",
    "    plt.plot(grp['FPR'], grp['Sensitivity'], label = key + ' (C = %0.2f)' % grp['C'].mean())\n",
    "plt.plot([0,1], [0,1], 'k--')\n",
    "plt.xlabel('False Postivie Rate')\n",
    "plt.ylabel('True Positive Rate')\n",
    "plt.legend(loc='lower right')\n",
    "plt.title('ROC Curve (using validation data)')\n",
    "plt.show();"
   ]
  },
  {
   "cell_type": "markdown",
   "metadata": {},
   "source": [
    "## 6. Deployment"
   ]
  },
  {
   "cell_type": "markdown",
   "metadata": {},
   "source": [
    "Promote table into public memory so others can access in other interfaces"
   ]
  },
  {
   "cell_type": "code",
   "execution_count": null,
   "metadata": {
    "ExecuteTime": {
     "end_time": "2017-08-25T10:39:11.285041",
     "start_time": "2017-08-25T10:39:10.556041"
    }
   },
   "outputs": [],
   "source": [
    "s.table.promote(name='churn',drop=True, target='churn_Andrew', targetlib='public')"
   ]
  },
  {
   "cell_type": "markdown",
   "metadata": {},
   "source": [
    "We save our Forset Model in a binary form called ASTORE. Other users can access this model, and deploy the model in various ways:\n",
    "1. In-batch: Using Code in SAS Studio via API (R, Python, Java, LUA, REST)\n",
    "2. In-database: With SAS In-database technologies\n",
    "3. In-stream: With SAS event stream processing\n",
    "4. Over-time: Tracked with SAS Model Manager"
   ]
  },
  {
   "cell_type": "markdown",
   "metadata": {},
   "source": [
    "Describe Scoring Model"
   ]
  },
  {
   "cell_type": "code",
   "execution_count": null,
   "metadata": {
    "ExecuteTime": {
     "end_time": "2017-08-25T10:39:16.869041",
     "start_time": "2017-08-25T10:39:15.872041"
    }
   },
   "outputs": [],
   "source": [
    "s.astore.describe(\"FOREST_MODEL_TRAIN\")"
   ]
  },
  {
   "cell_type": "markdown",
   "metadata": {},
   "source": [
    "Save scoring code for others"
   ]
  },
  {
   "cell_type": "code",
   "execution_count": null,
   "metadata": {},
   "outputs": [],
   "source": [
    "s.table.save(table='FOREST_MODEL_TRAIN', caslib='DMlib',\n",
    "                name ='forest_model_champ.sashdat', replace=True)"
   ]
  },
  {
   "cell_type": "code",
   "execution_count": null,
   "metadata": {
    "ExecuteTime": {
     "end_time": "2017-08-25T10:39:16.893041",
     "start_time": "2017-08-25T10:39:16.882041"
    }
   },
   "outputs": [],
   "source": [
    "s.close()"
   ]
  }
 ],
 "metadata": {
  "hide_input": false,
  "kernelspec": {
   "display_name": "Python 3",
   "language": "python",
   "name": "python3"
  },
  "language_info": {
   "codemirror_mode": {
    "name": "ipython",
    "version": 3
   },
   "file_extension": ".py",
   "mimetype": "text/x-python",
   "name": "python",
   "nbconvert_exporter": "python",
   "pygments_lexer": "ipython3",
   "version": "3.5.2"
  },
  "varInspector": {
   "cols": {
    "lenName": 16,
    "lenType": 16,
    "lenVar": 40
   },
   "kernels_config": {
    "python": {
     "delete_cmd_postfix": "",
     "delete_cmd_prefix": "del ",
     "library": "var_list.py",
     "varRefreshCmd": "print(var_dic_list())"
    },
    "r": {
     "delete_cmd_postfix": ") ",
     "delete_cmd_prefix": "rm(",
     "library": "var_list.r",
     "varRefreshCmd": "cat(var_dic_list()) "
    }
   },
   "types_to_exclude": [
    "module",
    "function",
    "builtin_function_or_method",
    "instance",
    "_Feature"
   ],
   "window_display": false
  }
 },
 "nbformat": 4,
 "nbformat_minor": 1
}
