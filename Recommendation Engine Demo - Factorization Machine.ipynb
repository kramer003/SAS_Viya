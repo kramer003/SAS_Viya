{
 "cells": [
  {
   "cell_type": "markdown",
   "metadata": {},
   "source": [
    "# Recommendation Engine for Movie Reviews\n",
    "Factorization Machine (FM) is one of the newest algorithms in the Machine Learning space, and has been developed in SAS. FM is a general prediction algorithm, similar to Support Vector Machines, that can deal with very sparce data, an area where traditional Machine Learning techniques fail.\n",
    "<br>\n",
    "\n",
    "Recommendation Engines are notoriously difficult due to their sparcity. We have many users and many rated items, but most users have rated very few of the items. Therefore, we will try to use a Factorization Machine to implement new movie recommendations for users\n",
    "<br>\n",
    "\n",
    "This notebook has **four** parts:\n",
    "1. Data Exploration\n",
    "2. Recommendation Engine Considerations\n",
    "3. Train Recommendation Engine\n",
    "4. Make Recommendations"
   ]
  },
  {
   "cell_type": "code",
   "execution_count": 4,
   "metadata": {
    "collapsed": false
   },
   "outputs": [],
   "source": [
    "import swat\n",
    "from swat import *\n",
    "from swat.render import render_html\n",
    "from matplotlib import pyplot as plt\n",
    "import numpy as np\n",
    "%matplotlib inline\n",
    "from IPython.display import HTML\n",
    "swat.options.cas.print_messages = False"
   ]
  },
  {
   "cell_type": "code",
   "execution_count": 5,
   "metadata": {
    "collapsed": false
   },
   "outputs": [
    {
     "data": {
      "text/html": [
       "<script>\n",
       "code_show=true; \n",
       "function code_toggle() {\n",
       " if (code_show){\n",
       " $('div.input').hide();\n",
       " } else {\n",
       " $('div.input').show();\n",
       " }\n",
       " code_show = !code_show\n",
       "} \n",
       "$( document ).ready(code_toggle);\n",
       "</script>\n",
       "The code for this Jupyter notebook is by default hidden for easier reading.\n",
       "To toggle on/off the code, click <a href=\"javascript:code_toggle()\">here</a>."
      ],
      "text/plain": [
       "<IPython.core.display.HTML object>"
      ]
     },
     "execution_count": 5,
     "metadata": {},
     "output_type": "execute_result"
    }
   ],
   "source": [
    "HTML('''<script>\n",
    "code_show=true; \n",
    "function code_toggle() {\n",
    " if (code_show){\n",
    " $('div.input').hide();\n",
    " } else {\n",
    " $('div.input').show();\n",
    " }\n",
    " code_show = !code_show\n",
    "} \n",
    "$( document ).ready(code_toggle);\n",
    "</script>\n",
    "The code for this Jupyter notebook is by default hidden for easier reading.\n",
    "To toggle on/off the code, click <a href=\"javascript:code_toggle()\">here</a>.''')"
   ]
  },
  {
   "cell_type": "code",
   "execution_count": 3,
   "metadata": {
    "collapsed": false
   },
   "outputs": [],
   "source": [
    "# Connect to the session\n",
    "cashost='sasserver.demo.sas.com'\n",
    "casport=5570\n",
    "casauth='~/.authinfo'\n",
    "\n",
    "s = CAS(cashost, casport, authinfo=casauth, caslib=\"casuser\")\n",
    "\n",
    "# Define directory and data file name\n",
    "indata_dir=\"/opt/sasinside/DemoData\"\n",
    "indata='movie_reviews'\n",
    "movie_info= 'movies_10k_desc'\n",
    "\n",
    "# Create a CAS library called DMLib pointing to the defined directory\n",
    "## Note, need to specify the srctype is path, otherwise it defaults to HDFS\n",
    "s.table.addCaslib(datasource={'srctype':'path'}, name='DMlib', path=indata_dir);\n",
    "\n",
    "# Push the relevant table In-Memory if it does not already exist\n",
    "## Note, this is a server side data load, not being loaded from the client\n",
    "s.loadTable(caslib='DMlib', path=indata+'.sas7bdat', casout={'name':indata});\n",
    "s.loadTable(caslib='DMlib', path=movie_info+'.sas7bdat', casout={'name':movie_info});\n",
    "\n",
    "# Load necessary actionsets\n",
    "actions = ['fedSQL', 'transpose','sampling','factmac','astore']\n",
    "[s.loadactionset(i) for i in actions]\n",
    "\n",
    "# Set variables for later use by models\n",
    "target          = 'rating'\n",
    "class_inputs    = ['usr_id', 'movie']\n",
    "all_inputs      = [target] + class_inputs\n",
    "\n",
    "#Pointer Shortcut\n",
    "def cas_p(table):\n",
    "    pointer = s.CASTable(table)\n",
    "    return pointer"
   ]
  },
  {
   "cell_type": "markdown",
   "metadata": {},
   "source": [
    "# Part I: Data Exploration\n",
    "### We have the following input datasets/explorations available:\n",
    "* Movie Dataset: Additional metadata, such as year, genre, and parental rating for movies\n",
    "* User Ratings: Movie Ratings available for each user\n",
    "* Overall Average: Average Rating across all users and movie\n",
    "<br>\n",
    "\n",
    "Our goal is to recommend two new movies for each user"
   ]
  },
  {
   "cell_type": "markdown",
   "metadata": {},
   "source": [
    "## Movie Dataset"
   ]
  },
  {
   "cell_type": "code",
   "execution_count": 4,
   "metadata": {
    "collapsed": false
   },
   "outputs": [
    {
     "name": "stdout",
     "output_type": "stream",
     "text": [
      "1226 Movies\n"
     ]
    },
    {
     "data": {
      "text/html": [
       "<div>\n",
       "<table border=\"1\" class=\"dataframe\"><caption>Selected Rows from Table MOVIES_10K_DESC</caption>\n",
       "  <thead>\n",
       "    <tr style=\"text-align: right;\">\n",
       "      <th title=\"\"></th>\n",
       "      <th title=\"movieId\">movieId</th>\n",
       "      <th title=\"title\">title</th>\n",
       "      <th title=\"year\">year</th>\n",
       "      <th title=\"genres\">genres</th>\n",
       "      <th title=\"parental_rating\">parental_rating</th>\n",
       "    </tr>\n",
       "  </thead>\n",
       "  <tbody>\n",
       "    <tr>\n",
       "      <th>0</th>\n",
       "      <td>1.0</td>\n",
       "      <td>Toy Story</td>\n",
       "      <td>1995.0</td>\n",
       "      <td>Adventure|Animation|Children|Comedy|Fantasy</td>\n",
       "      <td>G</td>\n",
       "    </tr>\n",
       "    <tr>\n",
       "      <th>1</th>\n",
       "      <td>2.0</td>\n",
       "      <td>Jumanji</td>\n",
       "      <td>1995.0</td>\n",
       "      <td>Adventure|Children|Fantasy</td>\n",
       "      <td>PG</td>\n",
       "    </tr>\n",
       "    <tr>\n",
       "      <th>2</th>\n",
       "      <td>3.0</td>\n",
       "      <td>Grumpier Old Men</td>\n",
       "      <td>1995.0</td>\n",
       "      <td>Comedy|Romance</td>\n",
       "      <td>PG-13</td>\n",
       "    </tr>\n",
       "    <tr>\n",
       "      <th>3</th>\n",
       "      <td>4.0</td>\n",
       "      <td>Waiting to Exhale</td>\n",
       "      <td>1995.0</td>\n",
       "      <td>Comedy|Drama|Romance</td>\n",
       "      <td>R</td>\n",
       "    </tr>\n",
       "    <tr>\n",
       "      <th>4</th>\n",
       "      <td>5.0</td>\n",
       "      <td>Father of the Bride Part II</td>\n",
       "      <td>1995.0</td>\n",
       "      <td>Comedy</td>\n",
       "      <td>PG</td>\n",
       "    </tr>\n",
       "  </tbody>\n",
       "</table>\n",
       "</div>"
      ],
      "text/plain": [
       "Selected Rows from Table MOVIES_10K_DESC\n",
       "\n",
       "   movieId                        title    year  \\\n",
       "0      1.0                    Toy Story  1995.0   \n",
       "1      2.0                      Jumanji  1995.0   \n",
       "2      3.0             Grumpier Old Men  1995.0   \n",
       "3      4.0            Waiting to Exhale  1995.0   \n",
       "4      5.0  Father of the Bride Part II  1995.0   \n",
       "\n",
       "                                        genres parental_rating  \n",
       "0  Adventure|Animation|Children|Comedy|Fantasy               G  \n",
       "1                   Adventure|Children|Fantasy              PG  \n",
       "2                               Comedy|Romance           PG-13  \n",
       "3                         Comedy|Drama|Romance               R  \n",
       "4                                       Comedy              PG  "
      ]
     },
     "execution_count": 4,
     "metadata": {},
     "output_type": "execute_result"
    }
   ],
   "source": [
    "print(len(cas_p(movie_info)), \"Movies\")\n",
    "cas_p(movie_info).head()"
   ]
  },
  {
   "cell_type": "markdown",
   "metadata": {},
   "source": [
    "## User Ratings"
   ]
  },
  {
   "cell_type": "code",
   "execution_count": 5,
   "metadata": {
    "collapsed": false
   },
   "outputs": [
    {
     "name": "stdout",
     "output_type": "stream",
     "text": [
      "10000 Ratings\n",
      "385 Users\n"
     ]
    },
    {
     "data": {
      "text/html": [
       "<div>\n",
       "<table border=\"1\" class=\"dataframe\"><caption>Selected Rows from Table MOVIE_REVIEWS</caption>\n",
       "  <thead>\n",
       "    <tr style=\"text-align: right;\">\n",
       "      <th title=\"\"></th>\n",
       "      <th title=\"usr_id\">usr_id</th>\n",
       "      <th title=\"movie\">movie</th>\n",
       "      <th title=\"rating\">rating</th>\n",
       "    </tr>\n",
       "  </thead>\n",
       "  <tbody>\n",
       "    <tr>\n",
       "      <th>0</th>\n",
       "      <td>196.0</td>\n",
       "      <td>242.0</td>\n",
       "      <td>3.0</td>\n",
       "    </tr>\n",
       "    <tr>\n",
       "      <th>1</th>\n",
       "      <td>186.0</td>\n",
       "      <td>302.0</td>\n",
       "      <td>3.0</td>\n",
       "    </tr>\n",
       "    <tr>\n",
       "      <th>2</th>\n",
       "      <td>22.0</td>\n",
       "      <td>377.0</td>\n",
       "      <td>1.0</td>\n",
       "    </tr>\n",
       "    <tr>\n",
       "      <th>3</th>\n",
       "      <td>244.0</td>\n",
       "      <td>51.0</td>\n",
       "      <td>2.0</td>\n",
       "    </tr>\n",
       "    <tr>\n",
       "      <th>4</th>\n",
       "      <td>166.0</td>\n",
       "      <td>346.0</td>\n",
       "      <td>1.0</td>\n",
       "    </tr>\n",
       "  </tbody>\n",
       "</table>\n",
       "</div>"
      ],
      "text/plain": [
       "Selected Rows from Table MOVIE_REVIEWS\n",
       "\n",
       "   usr_id  movie  rating\n",
       "0   196.0  242.0     3.0\n",
       "1   186.0  302.0     3.0\n",
       "2    22.0  377.0     1.0\n",
       "3   244.0   51.0     2.0\n",
       "4   166.0  346.0     1.0"
      ]
     },
     "execution_count": 5,
     "metadata": {},
     "output_type": "execute_result"
    }
   ],
   "source": [
    "print(len(cas_p(indata)), \"Ratings\")\n",
    "print(len(cas_p(indata)[class_inputs[0]].value_counts()), \"Users\")\n",
    "s.CASTable(indata).head()"
   ]
  },
  {
   "cell_type": "markdown",
   "metadata": {},
   "source": [
    "## Distribution of Overall Reviews"
   ]
  },
  {
   "cell_type": "code",
   "execution_count": 6,
   "metadata": {
    "collapsed": false
   },
   "outputs": [
    {
     "name": "stdout",
     "output_type": "stream",
     "text": [
      "3.5588 Average Review\n"
     ]
    },
    {
     "data": {
      "image/png": "[encoded data removed]",
      "text/plain": [
       "<matplotlib.figure.Figure at 0x7fe60373ea20>"
      ]
     },
     "metadata": {},
     "output_type": "display_data"
    }
   ],
   "source": [
    "freq_table = (s.fedSQL.execDirect('''\n",
    "    SELECT ''' + target + ''', count(*) as Frequency\n",
    "    FROM '''+ indata +'''\n",
    "    GROUP BY ''' + target + ''';\n",
    "''')['Result Set'].sort_values(target)).set_index(np.arange(1,6))\n",
    "\n",
    "plt.figure(figsize = (15, 10))\n",
    "plt.bar(np.arange(1,6),freq_table['FREQUENCY'], align='center')\n",
    "plt.xlabel('Actual Rating', size=20)\n",
    "plt.ylabel('# of Ratings (Frequency)', size=20)\n",
    "plt.title('Plot of Rating Frequency', size=25)\n",
    "plt.xlim([.5,5.5]);\n",
    "print(cas_p(indata)[target].mean(), \"Average Review\")"
   ]
  },
  {
   "cell_type": "markdown",
   "metadata": {},
   "source": [
    "# Part II: Recommendation Engine Considerations\n",
    "## Two Items to Consider:\n",
    "* Holdout Sample: For Validation of Model\n",
    "* Model Bias:\n",
    "    * Global Bias: Average rating for all users and movies\n",
    "    * User Bias: Average rating per user\n",
    "    * Movie Bias: Average rating per movie\n",
    "<br>\n",
    "\n",
    "\n"
   ]
  },
  {
   "cell_type": "markdown",
   "metadata": {},
   "source": [
    "## Holdout Sample\n",
    "Factorization machines need to be validated on users and movies that have been included in the training\n",
    "<br>\n",
    "To accomplish this, we will stratify on both user and movie\n",
    "<br>\n",
    "We will use a large training sample of ~90% of the data"
   ]
  },
  {
   "cell_type": "code",
   "execution_count": 7,
   "metadata": {
    "collapsed": false
   },
   "outputs": [
    {
     "data": {
      "text/html": [
       "<div>\n",
       "<table border=\"1\" class=\"dataframe\"><caption>Selected Rows from Table MOVIE_REVIEWS_PRT</caption>\n",
       "  <thead>\n",
       "    <tr style=\"text-align: right;\">\n",
       "      <th title=\"\"></th>\n",
       "      <th title=\"rating\">rating</th>\n",
       "      <th title=\"usr_id\">usr_id</th>\n",
       "      <th title=\"movie\">movie</th>\n",
       "    </tr>\n",
       "  </thead>\n",
       "  <tbody>\n",
       "    <tr>\n",
       "      <th>0</th>\n",
       "      <td>2.0</td>\n",
       "      <td>244.0</td>\n",
       "      <td>51.0</td>\n",
       "    </tr>\n",
       "    <tr>\n",
       "      <th>1</th>\n",
       "      <td>4.0</td>\n",
       "      <td>63.0</td>\n",
       "      <td>277.0</td>\n",
       "    </tr>\n",
       "    <tr>\n",
       "      <th>2</th>\n",
       "      <td>3.0</td>\n",
       "      <td>50.0</td>\n",
       "      <td>246.0</td>\n",
       "    </tr>\n",
       "    <tr>\n",
       "      <th>3</th>\n",
       "      <td>4.0</td>\n",
       "      <td>251.0</td>\n",
       "      <td>100.0</td>\n",
       "    </tr>\n",
       "    <tr>\n",
       "      <th>4</th>\n",
       "      <td>3.0</td>\n",
       "      <td>243.0</td>\n",
       "      <td>15.0</td>\n",
       "    </tr>\n",
       "  </tbody>\n",
       "</table>\n",
       "</div>"
      ],
      "text/plain": [
       "Selected Rows from Table MOVIE_REVIEWS_PRT\n",
       "\n",
       "   rating  usr_id  movie\n",
       "0     2.0   244.0   51.0\n",
       "1     4.0    63.0  277.0\n",
       "2     3.0    50.0  246.0\n",
       "3     4.0   251.0  100.0\n",
       "4     3.0   243.0   15.0"
      ]
     },
     "execution_count": 7,
     "metadata": {},
     "output_type": "execute_result"
    }
   ],
   "source": [
    "# Create a 70/30 stratified Split on Users\n",
    "s.sampling.stratified(\n",
    "    table   = dict(name = indata, groupby = class_inputs[0]),\n",
    "    output  = dict(casOut = dict(name = indata + '_prt_' + class_inputs[0], replace = True), copyVars = 'ALL'),\n",
    "    samppct = 70,\n",
    "    partind = True,\n",
    "    seed    = 123\n",
    ")\n",
    "\n",
    "# Create a 70/30 split for the movies\n",
    "s.sampling.stratified(\n",
    "    table   = dict(name = indata, groupby = class_inputs[1]),\n",
    "    output  = dict(casOut = dict(name = indata + '_prt_' + class_inputs[1], replace = True), copyVars = 'ALL'),\n",
    "    samppct = 70,\n",
    "    partind = True,\n",
    "    seed    = 123\n",
    ")\n",
    "\n",
    "# Combine the samples together into one dataset so that it's stratified by user and movie\n",
    "# Make the data 'blind' if it is part of the validation set so that it can be assessed\n",
    "s.fedSQL.execDirect('''\n",
    "    CREATE TABLE ''' + indata +'''_prt {options replace=true} AS\n",
    "    SELECT\n",
    "        a.''' + class_inputs[0] + ''',\n",
    "        a.''' + class_inputs[1] + ''',\n",
    "        a.''' + target + ''',\n",
    "        CASE WHEN a._PartInd_ + b._PartInd_ > 0 THEN 1 ELSE 0 END AS _PartInd_\n",
    "    FROM \n",
    "        ''' + indata + '_prt_' + class_inputs[0] + ''' a\n",
    "        INNER JOIN ''' + indata + '_prt_' + class_inputs[1] + ''' b \n",
    "            ON  a.''' + class_inputs[0] + ' = b.' + class_inputs[0] + '''\n",
    "            AND a.''' + class_inputs[1] + ' = b.' + class_inputs[1] + ''';\n",
    "''')\n",
    "cas_p(indata + '_prt')[all_inputs].query('_PartInd_=0').head()"
   ]
  },
  {
   "cell_type": "markdown",
   "metadata": {},
   "source": [
    "## Bias Tables\n",
    "\n",
    "Bias occurs because users unknowingly rate on different scales. Thus, a four star rating does not mean the same thing for two different users\n",
    "<br>\n",
    "\n",
    "The Factorization Machine accounts for this bias by assuming a predicted rating is the sum of:\n",
    "1. A global bias (the average rating over all users and movies)\n",
    "2. A per-user bias (the average of the ratings given by the user)\n",
    "3. A per-item bias (the average of the ratings given to that movie)\n",
    "4. And a pairwise interaction term between the user and that particular item\n",
    "\n",
    "<br>\n",
    "Factorization Machines account for these innate biases when making predictions, and are able to estimate the pairwise interactions between specific users and movies in sparse data."
   ]
  },
  {
   "cell_type": "markdown",
   "metadata": {},
   "source": [
    "### Overall Bias"
   ]
  },
  {
   "cell_type": "code",
   "execution_count": 8,
   "metadata": {
    "collapsed": false
   },
   "outputs": [
    {
     "data": {
      "text/plain": [
       "3.5588000000000002"
      ]
     },
     "execution_count": 8,
     "metadata": {},
     "output_type": "execute_result"
    }
   ],
   "source": [
    "cas_p(indata)[target].mean()"
   ]
  },
  {
   "cell_type": "markdown",
   "metadata": {},
   "source": [
    "### User Bias Table"
   ]
  },
  {
   "cell_type": "code",
   "execution_count": 9,
   "metadata": {
    "collapsed": false
   },
   "outputs": [
    {
     "data": {
      "text/html": [
       "\n",
       "    <style type=\"text/css\">\n",
       "    div.cas-results {\n",
       "        overflow-x: auto;\n",
       "    }\n",
       "    div.cas-results > * {\n",
       "        margin-left: auto !important;\n",
       "        margin-right: auto !important;\n",
       "    }\n",
       "    div.cas-results .sas-dataframe th[colspan],\n",
       "    div.cas-results .byline {\n",
       "        text-align: center;\n",
       "        font-size: 110%;\n",
       "    }\n",
       "    div.cas-results .sas-dataframe > tbody > tr:nth-child(even) {\n",
       "        background-color: #f8f8f8;\n",
       "    }\n",
       "    div.cas-results .sas-dataframe td,\n",
       "    div.cas-results .sas-dataframe th {\n",
       "        border: 1px solid #aaaaaa;\n",
       "        padding: 5px 10px;\n",
       "    }\n",
       "    div.cas-results .sas-dataframe th {\n",
       "        background-color: #f0f0f0;\n",
       "    }\n",
       "    div.cas-results .sas-dataframe .double,\n",
       "    div.cas-results .sas-dataframe .int32,\n",
       "    div.cas-results .sas-dataframe .int64,\n",
       "    div.cas-results .sas-dataframe .decsext,\n",
       "    div.cas-results .sas-dataframe .decquad {\n",
       "        text-align: right;\n",
       "    }\n",
       "    </style>\n",
       "<table class=\"sas-dataframe\">\n",
       "<colgroup><col class=\"double\" /><col class=\"double\" /><col class=\"double\" /><col class=\"double\" /></colgroup>\n",
       "<thead>\n",
       "<th class=\"double\">usr_id</th>\n",
       "<th class=\"double\">NUM_RATINGS</th>\n",
       "<th class=\"double\">AVG_RATING</th>\n",
       "<th class=\"double\">USER_BIAS</th>\n",
       "</thead>\n",
       "<tbody>\n",
       "<tr><td class=\"double\">1</td><td class=\"double\">85</td><td class=\"double\">3.6235294118</td><td class=\"double\">0.0735294118</td></tr>\n",
       "<tr><td class=\"double\">2</td><td class=\"double\">12</td><td class=\"double\">3.5</td><td class=\"double\">-0.05</td></tr>\n",
       "<tr><td class=\"double\">3</td><td class=\"double\">15</td><td class=\"double\">2.4</td><td class=\"double\">-1.15</td></tr>\n",
       "<tr><td class=\"double\">4</td><td class=\"double\">6</td><td class=\"double\">4</td><td class=\"double\">0.45</td></tr>\n",
       "<tr><td class=\"double\">5</td><td class=\"double\">48</td><td class=\"double\">2.9166666667</td><td class=\"double\">-0.633333333</td></tr>\n",
       "</tbody>\n",
       "</table>"
      ]
     },
     "metadata": {},
     "output_type": "display_data"
    }
   ],
   "source": [
    "# We can use SQL to find this, and further format using Python - sort_values() and head()\n",
    "render_html(\n",
    "s.fedSQL.execDirect('''\n",
    "    SELECT \n",
    "        ''' + class_inputs[0] + ''', \n",
    "        COUNT(''' + target + ''') AS num_ratings, \n",
    "        AVG(''' + target + ''') AS avg_rating,\n",
    "        AVG(''' + target + ''')-3.55 AS user_bias\n",
    "    FROM ''' + indata + '''\n",
    "    GROUP BY usr_id\n",
    "''')['Result Set'].sort_values(class_inputs[0]).head()\n",
    ")"
   ]
  },
  {
   "cell_type": "markdown",
   "metadata": {},
   "source": [
    "### Movie Bias Table"
   ]
  },
  {
   "cell_type": "code",
   "execution_count": 10,
   "metadata": {
    "collapsed": false
   },
   "outputs": [
    {
     "data": {
      "text/html": [
       "<div>\n",
       "<table border=\"1\" class=\"dataframe\"><caption>Descriptive Statistics for MOVIE_REVIEWS</caption>\n",
       "  <thead>\n",
       "    <tr style=\"text-align: right;\">\n",
       "      <th title=\"\"></th>\n",
       "      <th title=\"Analysis Variable\">Column</th>\n",
       "      <th title=\"N\">N</th>\n",
       "      <th title=\"Mean\">Mean</th>\n",
       "      <th title=\"Movie_Bias\">Movie_Bias</th>\n",
       "    </tr>\n",
       "    <tr>\n",
       "      <th title=\"movie\">movie</th>\n",
       "      <th title=\"\"></th>\n",
       "      <th title=\"\"></th>\n",
       "      <th title=\"\"></th>\n",
       "      <th title=\"\"></th>\n",
       "    </tr>\n",
       "  </thead>\n",
       "  <tbody>\n",
       "    <tr>\n",
       "      <th>1</th>\n",
       "      <td>rating</td>\n",
       "      <td>35.0</td>\n",
       "      <td>3.771429</td>\n",
       "      <td>0.221429</td>\n",
       "    </tr>\n",
       "    <tr>\n",
       "      <th>2</th>\n",
       "      <td>rating</td>\n",
       "      <td>13.0</td>\n",
       "      <td>3.153846</td>\n",
       "      <td>-0.396154</td>\n",
       "    </tr>\n",
       "    <tr>\n",
       "      <th>3</th>\n",
       "      <td>rating</td>\n",
       "      <td>7.0</td>\n",
       "      <td>3.428571</td>\n",
       "      <td>-0.121429</td>\n",
       "    </tr>\n",
       "    <tr>\n",
       "      <th>4</th>\n",
       "      <td>rating</td>\n",
       "      <td>21.0</td>\n",
       "      <td>3.619048</td>\n",
       "      <td>0.069048</td>\n",
       "    </tr>\n",
       "    <tr>\n",
       "      <th>5</th>\n",
       "      <td>rating</td>\n",
       "      <td>4.0</td>\n",
       "      <td>3.250000</td>\n",
       "      <td>-0.300000</td>\n",
       "    </tr>\n",
       "  </tbody>\n",
       "</table>\n",
       "</div>"
      ],
      "text/plain": [
       "Descriptive Statistics for MOVIE_REVIEWS\n",
       "\n",
       "       Column     N      Mean  Movie_Bias\n",
       "movie                                    \n",
       "1      rating  35.0  3.771429    0.221429\n",
       "2      rating  13.0  3.153846   -0.396154\n",
       "3      rating   7.0  3.428571   -0.121429\n",
       "4      rating  21.0  3.619048    0.069048\n",
       "5      rating   4.0  3.250000   -0.300000"
      ]
     },
     "execution_count": 10,
     "metadata": {},
     "output_type": "execute_result"
    }
   ],
   "source": [
    "# I could use SQL to find this as well, but decided to use Python built-in functionality - groupby()\n",
    "movie_bias = s.CASTable(indata).groupby(class_inputs[1])[target].summary(subset=['N','Mean']).concat_bygroups().Summary\n",
    "movie_bias['Movie_Bias'] = movie_bias['Mean'] - 3.55\n",
    "movie_bias.head()"
   ]
  },
  {
   "cell_type": "markdown",
   "metadata": {},
   "source": [
    "# Part III: Train the Recommendation Engine\n",
    "* Factorization Machine Training\n",
    "* Assess Model on holdout Sample\n",
    "* See Actual Rating vs Predicted"
   ]
  },
  {
   "cell_type": "code",
   "execution_count": 11,
   "metadata": {
    "collapsed": false
   },
   "outputs": [],
   "source": [
    "# Transpose the data using the completely redesigned transpose CAS action - this is running multi-threaded\n",
    "test=s.transpose(\n",
    "    table  = dict(name = indata, groupBy = class_inputs[0], vars = target),\n",
    "    id     = class_inputs[1],\n",
    "    casOut = dict(name = indata + '_transposed', replace = True)\n",
    ")"
   ]
  },
  {
   "cell_type": "markdown",
   "metadata": {},
   "source": [
    "## Factorization Machine Training\n",
    "The algorithm runs 5 iterations until converging <br>\n",
    "\n",
    "Note: We use Mean Squared Error(MSE) and Root Mean Squared Error(RMSE) to meausure the accuracy of our training. <br>"
   ]
  },
  {
   "cell_type": "code",
   "execution_count": 12,
   "metadata": {
    "collapsed": false
   },
   "outputs": [
    {
     "data": {
      "text/html": [
       "<div>\n",
       "<table border=\"1\" class=\"dataframe\"><caption>Final Exact Loss</caption>\n",
       "  <thead>\n",
       "    <tr style=\"text-align: right;\">\n",
       "      <th title=\"\"></th>\n",
       "      <th title=\"Criterion\">Criterion</th>\n",
       "      <th title=\"Value\">Value</th>\n",
       "    </tr>\n",
       "  </thead>\n",
       "  <tbody>\n",
       "    <tr>\n",
       "      <th>0</th>\n",
       "      <td>MSE</td>\n",
       "      <td>0.662292</td>\n",
       "    </tr>\n",
       "    <tr>\n",
       "      <th>1</th>\n",
       "      <td>RMSE</td>\n",
       "      <td>0.813813</td>\n",
       "    </tr>\n",
       "  </tbody>\n",
       "</table>\n",
       "</div>"
      ],
      "text/plain": [
       "Final Exact Loss\n",
       "\n",
       "  Criterion     Value\n",
       "0       MSE  0.662292\n",
       "1      RMSE  0.813813"
      ]
     },
     "execution_count": 12,
     "metadata": {},
     "output_type": "execute_result"
    }
   ],
   "source": [
    "# Build the factorization machine\n",
    "r = s.factmac.factmac(\n",
    "  table     = dict(name = indata + '_prt', where = '_PartInd_ = 1'),\n",
    "  inputs    = class_inputs,\n",
    "  nominals  = class_inputs,\n",
    "  target    = target,\n",
    "  maxIter   = 5,\n",
    "  nFactors  = 2,\n",
    "  learnStep = 0.1,\n",
    "  seed      = 12345,\n",
    "  savestate = dict(name = 'fm_model', replace = True)\n",
    ")\n",
    "\n",
    "r['FinalLoss']"
   ]
  },
  {
   "cell_type": "markdown",
   "metadata": {},
   "source": [
    "## Assess Model Holdout Sample\n",
    "We want to calculate these fit statistics on the holdout sample to get an unbiased estimate of model performance on new data. We want to ensure that ourengines makes robust predicitons on new data and does not overfit\n",
    "<br>\n",
    "\n",
    "Note: A RMSE of 1 means that on average we miss the actual rating by 1 star"
   ]
  },
  {
   "cell_type": "code",
   "execution_count": 13,
   "metadata": {
    "collapsed": false
   },
   "outputs": [
    {
     "data": {
      "text/html": [
       "<div class=\"cas-results-key\"><b>&#167; Result Set</b></div>\n",
       "<div class=\"cas-results-body\">\n",
       "<div>\n",
       "<table border=\"1\" class=\"dataframe\">\n",
       "  <thead>\n",
       "    <tr style=\"text-align: right;\">\n",
       "      <th title=\"\"></th>\n",
       "      <th title=\"MSE\">MSE</th>\n",
       "      <th title=\"RMSE\">RMSE</th>\n",
       "    </tr>\n",
       "  </thead>\n",
       "  <tbody>\n",
       "    <tr>\n",
       "      <th>0</th>\n",
       "      <td>1.360944</td>\n",
       "      <td>1.166595</td>\n",
       "    </tr>\n",
       "  </tbody>\n",
       "</table>\n",
       "</div>\n",
       "</div>\n",
       "<div class=\"cas-output-area\"></div>\n",
       "<p class=\"cas-results-performance\"><small><span class=\"cas-elapsed\">elapsed 0.00443s</span> &#183; <span class=\"cas-user\">user 0.004s</span> &#183; <span class=\"cas-memory\">mem 3.06MB</span></small></p>"
      ],
      "text/plain": [
       "[Result Set]\n",
       "\n",
       "         MSE      RMSE\n",
       " 0  1.360944  1.166595\n",
       "\n",
       "+ Elapsed: 0.00443s, user: 0.004s, mem: 3.06mb"
      ]
     },
     "execution_count": 13,
     "metadata": {},
     "output_type": "execute_result"
    }
   ],
   "source": [
    "# Score the factorization machine\n",
    "s.CASTable(indata + '_prt').astore.score(\n",
    "  rstore   = dict(name = 'fm_model'),\n",
    "  out      = dict(name = indata + '_scored', replace = True),\n",
    "  copyVars = all_inputs + ['_PartInd_']\n",
    ")\n",
    "\n",
    "# Find the (predicted - actual) error rate on the validation set\n",
    "s.fedSQL.execDirect('''\n",
    "    CREATE TABLE eval {options replace=true} AS\n",
    "    SELECT \n",
    "        a.*, \n",
    "        a.P_''' + target + ' - a.' + target + ''' AS error\n",
    "    FROM\n",
    "        ''' + indata + '''_scored a\n",
    "    WHERE a._PartInd_= 0\n",
    "''')\n",
    "\n",
    "# Compute the Mean Squared Error and Root Mean Squared Error\n",
    "s.fedSQL.execDirect('''\n",
    "    SELECT \n",
    "        AVG(error**2) AS MSE,\n",
    "        SQRT(AVG(error**2)) AS RMSE\n",
    "    FROM eval\n",
    "''')"
   ]
  },
  {
   "cell_type": "markdown",
   "metadata": {},
   "source": [
    "## See Actual Rating vs Average Predicted Rating\n",
    "What we are hoping to see is that the average prediction has a positive correlation with the actual rating."
   ]
  },
  {
   "cell_type": "code",
   "execution_count": 14,
   "metadata": {
    "collapsed": false
   },
   "outputs": [
    {
     "data": {
      "text/html": [
       "<div>\n",
       "<table border=\"1\" class=\"dataframe\">\n",
       "  <thead>\n",
       "    <tr style=\"text-align: right;\">\n",
       "      <th title=\"\"></th>\n",
       "      <th title=\"rating\">rating</th>\n",
       "      <th title=\"FREQNENCY\">FREQNENCY</th>\n",
       "      <th title=\"AVG_PREDICTION\">AVG_PREDICTION</th>\n",
       "    </tr>\n",
       "  </thead>\n",
       "  <tbody>\n",
       "    <tr>\n",
       "      <th>1</th>\n",
       "      <td>1.0</td>\n",
       "      <td>49.0</td>\n",
       "      <td>2.398545</td>\n",
       "    </tr>\n",
       "    <tr>\n",
       "      <th>2</th>\n",
       "      <td>2.0</td>\n",
       "      <td>94.0</td>\n",
       "      <td>3.128448</td>\n",
       "    </tr>\n",
       "    <tr>\n",
       "      <th>3</th>\n",
       "      <td>3.0</td>\n",
       "      <td>235.0</td>\n",
       "      <td>3.339986</td>\n",
       "    </tr>\n",
       "    <tr>\n",
       "      <th>4</th>\n",
       "      <td>4.0</td>\n",
       "      <td>315.0</td>\n",
       "      <td>3.687406</td>\n",
       "    </tr>\n",
       "    <tr>\n",
       "      <th>5</th>\n",
       "      <td>5.0</td>\n",
       "      <td>189.0</td>\n",
       "      <td>4.045055</td>\n",
       "    </tr>\n",
       "  </tbody>\n",
       "</table>\n",
       "</div>"
      ],
      "text/plain": [
       "   rating  FREQNENCY  AVG_PREDICTION\n",
       "1     1.0       49.0        2.398545\n",
       "2     2.0       94.0        3.128448\n",
       "3     3.0      235.0        3.339986\n",
       "4     4.0      315.0        3.687406\n",
       "5     5.0      189.0        4.045055"
      ]
     },
     "execution_count": 14,
     "metadata": {},
     "output_type": "execute_result"
    }
   ],
   "source": [
    "rating = (s.fedSQL.execDirect('''\n",
    "    SELECT ''' + target + ''', \n",
    "            count(*) AS freqnency,\n",
    "            AVG(P_''' + target + ''') AS avg_prediction\n",
    "    FROM eval\n",
    "    GROUP BY ''' + target + ''';\n",
    "''')['Result Set'].sort_values(target)).set_index(np.arange(1,6))\n",
    "\n",
    "rating"
   ]
  },
  {
   "cell_type": "markdown",
   "metadata": {},
   "source": [
    "## Let's plot this table using Matplotlib\n",
    "* Bars Represent Actual Rating\n",
    "* Line Represents the Average Predicted Rating for each rating level (1-5 stars)\n",
    "\n",
    "* The Relationship is linear, although we have room for improvement on lower end (1 star) or upper end (5 star)"
   ]
  },
  {
   "cell_type": "code",
   "execution_count": 15,
   "metadata": {
    "collapsed": false
   },
   "outputs": [
    {
     "data": {
      "image/png": "[encoded data removed]",
      "text/plain": [
       "<matplotlib.figure.Figure at 0x7fe603e251d0>"
      ]
     },
     "metadata": {},
     "output_type": "display_data"
    }
   ],
   "source": [
    "plt.figure(figsize = (12, 8))\n",
    "plt.bar(np.arange(1,6),rating['rating'], color='#eeefff', align='center')\n",
    "plt.plot(rating['rating'], rating['AVG_PREDICTION'], linewidth=3, label='Average Prediction')\n",
    "plt.xlabel('Actual Rating', size=20)\n",
    "plt.ylabel('Average Predicted Rating', size=20)\n",
    "plt.title('Plot of Average Predicted vs Actual Ratings', size=25)\n",
    "#plt.legend(loc='upper right', shadow=True)\n",
    "plt.ylim([0,6])\n",
    "plt.xlim([.5,5.5]);"
   ]
  },
  {
   "cell_type": "markdown",
   "metadata": {},
   "source": [
    "# Part IV: Make Recommendations for Users\n",
    "Here, we display the top two rated movies for ten users in our dataset\n",
    "* The recommendations have the highest predicted ratings for that specific user\n",
    "* Algorithm only recommends movies the user has not seen"
   ]
  },
  {
   "cell_type": "code",
   "execution_count": 16,
   "metadata": {
    "collapsed": false
   },
   "outputs": [],
   "source": [
    "# Find the movies the users have not watched and predict their potential rating\n",
    "s.transpose(\n",
    "    table = dict(name = indata + '_transposed', groupBy = class_inputs[0]),\n",
    "    casOut = dict(name = indata + '_long', replace = True)\n",
    ")\n",
    "s.dataStep.runcode('''\n",
    "data ''' + indata + '''_long;\n",
    "    set ''' + indata + '''_long;\n",
    "    ''' + class_inputs[1] + ''' = 1.0*_NAME_;\n",
    "    drop _NAME_;\n",
    "''')\n",
    "astore = s.CASTable(indata + '_long')[all_inputs].query(target + ' is null').astore.score(\n",
    "  rstore   = dict(name = 'fm_model'),\n",
    "  out      = dict(name = indata + '_scored_new', replace = True),\n",
    "  copyVars = class_inputs\n",
    ")"
   ]
  },
  {
   "cell_type": "code",
   "execution_count": 17,
   "metadata": {
    "collapsed": false
   },
   "outputs": [
    {
     "data": {
      "text/html": [
       "<div>\n",
       "<table border=\"1\" class=\"dataframe\"><caption>Selected Rows from Table SCORED_METADATA</caption>\n",
       "  <thead>\n",
       "    <tr style=\"text-align: right;\">\n",
       "      <th title=\"\"></th>\n",
       "      <th title=\"Predicted: rating\">P_rating</th>\n",
       "      <th title=\"movie\">movie</th>\n",
       "      <th title=\"title\">title</th>\n",
       "      <th title=\"year\">year</th>\n",
       "      <th title=\"genres\">genres</th>\n",
       "      <th title=\"parental_rating\">parental_rating</th>\n",
       "    </tr>\n",
       "    <tr>\n",
       "      <th title=\"usr_id\">usr_id</th>\n",
       "      <th title=\"\"></th>\n",
       "      <th title=\"\"></th>\n",
       "      <th title=\"\"></th>\n",
       "      <th title=\"\"></th>\n",
       "      <th title=\"\"></th>\n",
       "      <th title=\"\"></th>\n",
       "    </tr>\n",
       "  </thead>\n",
       "  <tbody>\n",
       "    <tr>\n",
       "      <th>1.0</th>\n",
       "      <td>6.397084</td>\n",
       "      <td>621.0</td>\n",
       "      <td>My Favorite Season</td>\n",
       "      <td>1993.0</td>\n",
       "      <td>Drama</td>\n",
       "      <td>N/A</td>\n",
       "    </tr>\n",
       "    <tr>\n",
       "      <th>1.0</th>\n",
       "      <td>5.956857</td>\n",
       "      <td>1203.0</td>\n",
       "      <td>12 Angry Men</td>\n",
       "      <td>1957.0</td>\n",
       "      <td>Drama</td>\n",
       "      <td>APPROVED</td>\n",
       "    </tr>\n",
       "    <tr>\n",
       "      <th>2.0</th>\n",
       "      <td>5.749650</td>\n",
       "      <td>990.0</td>\n",
       "      <td>Maximum Risk</td>\n",
       "      <td>1996.0</td>\n",
       "      <td>Action|Adventure|Thriller</td>\n",
       "      <td>R</td>\n",
       "    </tr>\n",
       "    <tr>\n",
       "      <th>2.0</th>\n",
       "      <td>5.585193</td>\n",
       "      <td>611.0</td>\n",
       "      <td>Hellraiser: Bloodline</td>\n",
       "      <td>1996.0</td>\n",
       "      <td>Action|Horror|Sci-Fi</td>\n",
       "      <td>R</td>\n",
       "    </tr>\n",
       "    <tr>\n",
       "      <th>3.0</th>\n",
       "      <td>4.136953</td>\n",
       "      <td>621.0</td>\n",
       "      <td>My Favorite Season</td>\n",
       "      <td>1993.0</td>\n",
       "      <td>Drama</td>\n",
       "      <td>N/A</td>\n",
       "    </tr>\n",
       "    <tr>\n",
       "      <th>3.0</th>\n",
       "      <td>4.123876</td>\n",
       "      <td>1463.0</td>\n",
       "      <td>That Old Feeling</td>\n",
       "      <td>1997.0</td>\n",
       "      <td>Comedy|Romance</td>\n",
       "      <td>PG-13</td>\n",
       "    </tr>\n",
       "    <tr>\n",
       "      <th>4.0</th>\n",
       "      <td>6.928676</td>\n",
       "      <td>1045.0</td>\n",
       "      <td>Love Is All There Is</td>\n",
       "      <td>1996.0</td>\n",
       "      <td>Comedy|Drama</td>\n",
       "      <td>R</td>\n",
       "    </tr>\n",
       "    <tr>\n",
       "      <th>4.0</th>\n",
       "      <td>6.747455</td>\n",
       "      <td>641.0</td>\n",
       "      <td>Little Indian, Big City</td>\n",
       "      <td>1994.0</td>\n",
       "      <td>Adventure|Children|Comedy</td>\n",
       "      <td>PG</td>\n",
       "    </tr>\n",
       "    <tr>\n",
       "      <th>5.0</th>\n",
       "      <td>5.416161</td>\n",
       "      <td>1242.0</td>\n",
       "      <td>Glory</td>\n",
       "      <td>1989.0</td>\n",
       "      <td>Drama|War</td>\n",
       "      <td>R</td>\n",
       "    </tr>\n",
       "    <tr>\n",
       "      <th>5.0</th>\n",
       "      <td>5.265200</td>\n",
       "      <td>1500.0</td>\n",
       "      <td>Grosse Pointe Blank</td>\n",
       "      <td>1997.0</td>\n",
       "      <td>Comedy|Crime|Romance</td>\n",
       "      <td>R</td>\n",
       "    </tr>\n",
       "    <tr>\n",
       "      <th>6.0</th>\n",
       "      <td>5.399554</td>\n",
       "      <td>990.0</td>\n",
       "      <td>Maximum Risk</td>\n",
       "      <td>1996.0</td>\n",
       "      <td>Action|Adventure|Thriller</td>\n",
       "      <td>R</td>\n",
       "    </tr>\n",
       "    <tr>\n",
       "      <th>6.0</th>\n",
       "      <td>5.396049</td>\n",
       "      <td>1152.0</td>\n",
       "      <td>He Walked by Night</td>\n",
       "      <td>1948.0</td>\n",
       "      <td>Crime|Film-Noir|Thriller</td>\n",
       "      <td>APPROVED</td>\n",
       "    </tr>\n",
       "    <tr>\n",
       "      <th>7.0</th>\n",
       "      <td>5.810506</td>\n",
       "      <td>990.0</td>\n",
       "      <td>Maximum Risk</td>\n",
       "      <td>1996.0</td>\n",
       "      <td>Action|Adventure|Thriller</td>\n",
       "      <td>R</td>\n",
       "    </tr>\n",
       "    <tr>\n",
       "      <th>7.0</th>\n",
       "      <td>5.801524</td>\n",
       "      <td>1114.0</td>\n",
       "      <td>Funeral</td>\n",
       "      <td>1996.0</td>\n",
       "      <td>Crime|Drama</td>\n",
       "      <td>R</td>\n",
       "    </tr>\n",
       "  </tbody>\n",
       "</table>\n",
       "</div>"
      ],
      "text/plain": [
       "Selected Rows from Table SCORED_METADATA\n",
       "\n",
       "        P_rating   movie                    title    year  \\\n",
       "usr_id                                                      \n",
       "1.0     6.397084   621.0       My Favorite Season  1993.0   \n",
       "1.0     5.956857  1203.0             12 Angry Men  1957.0   \n",
       "2.0     5.749650   990.0             Maximum Risk  1996.0   \n",
       "2.0     5.585193   611.0    Hellraiser: Bloodline  1996.0   \n",
       "3.0     4.136953   621.0       My Favorite Season  1993.0   \n",
       "3.0     4.123876  1463.0         That Old Feeling  1997.0   \n",
       "4.0     6.928676  1045.0     Love Is All There Is  1996.0   \n",
       "4.0     6.747455   641.0  Little Indian, Big City  1994.0   \n",
       "5.0     5.416161  1242.0                    Glory  1989.0   \n",
       "5.0     5.265200  1500.0      Grosse Pointe Blank  1997.0   \n",
       "6.0     5.399554   990.0             Maximum Risk  1996.0   \n",
       "6.0     5.396049  1152.0       He Walked by Night  1948.0   \n",
       "7.0     5.810506   990.0             Maximum Risk  1996.0   \n",
       "7.0     5.801524  1114.0                  Funeral  1996.0   \n",
       "\n",
       "                           genres parental_rating  \n",
       "usr_id                                             \n",
       "1.0                         Drama             N/A  \n",
       "1.0                         Drama        APPROVED  \n",
       "2.0     Action|Adventure|Thriller               R  \n",
       "2.0          Action|Horror|Sci-Fi               R  \n",
       "3.0                         Drama             N/A  \n",
       "3.0                Comedy|Romance           PG-13  \n",
       "4.0                  Comedy|Drama               R  \n",
       "4.0     Adventure|Children|Comedy              PG  \n",
       "5.0                     Drama|War               R  \n",
       "5.0          Comedy|Crime|Romance               R  \n",
       "6.0     Action|Adventure|Thriller               R  \n",
       "6.0      Crime|Film-Noir|Thriller        APPROVED  \n",
       "7.0     Action|Adventure|Thriller               R  \n",
       "7.0                   Crime|Drama               R  "
      ]
     },
     "execution_count": 17,
     "metadata": {},
     "output_type": "execute_result"
    }
   ],
   "source": [
    "s.fedSQL.execDirect('''\n",
    "CREATE TABLE scored_metadata AS\n",
    "    SELECT \n",
    "        a.*,\n",
    "        b.title,\n",
    "        b.year,\n",
    "        b.genres,\n",
    "        b.Parental_Rating\n",
    "    FROM \n",
    "         movie_reviews_scored_new a\n",
    "        INNER JOIN '''+ movie_info +''' b\n",
    "    ON\n",
    "        a.'''+ class_inputs[1] +''' = b.movieId\n",
    "''')\n",
    "\n",
    "s.CASTable('scored_metadata') \\\n",
    "    .groupby(class_inputs[0]) \\\n",
    "    .sort_values([class_inputs[0], 'P_' + target], ascending = [True, False]) \\\n",
    "    .query(\"parental_rating ^= 'NA'\") \\\n",
    "    .head(2) \\\n",
    "    .head(14)"
   ]
  },
  {
   "cell_type": "code",
   "execution_count": 18,
   "metadata": {
    "collapsed": false
   },
   "outputs": [],
   "source": [
    "s.close() #close the session"
   ]
  }
 ],
 "metadata": {
  "anaconda-cloud": {},
  "kernelspec": {
   "display_name": "Python 3",
   "language": "python",
   "name": "python3"
  },
  "language_info": {
   "codemirror_mode": {
    "name": "ipython",
    "version": 3
   },
   "file_extension": ".py",
   "mimetype": "text/x-python",
   "name": "python",
   "nbconvert_exporter": "python",
   "pygments_lexer": "ipython3",
   "version": "3.5.2"
  }
 },
 "nbformat": 4,
 "nbformat_minor": 0
}
