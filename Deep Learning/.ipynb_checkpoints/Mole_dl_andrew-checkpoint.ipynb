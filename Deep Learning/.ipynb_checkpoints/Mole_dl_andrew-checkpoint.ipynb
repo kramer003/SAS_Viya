{
 "cells": [
  {
   "cell_type": "markdown",
   "metadata": {},
   "source": [
    "# Image Analysis Workbook\n",
    "The W47 release of Viya contains new image analysis capabilities. In Viya, an image is just simply a new data type (think character, char, varchar).  With previous releases, Viya contained actionsets that allowed us to prepare the images for analysis (think scale, resize, etc). With the Deep Learning capabilities, we can now use Neural Networks to analyze images\n",
    "\n",
    "In this demo, we will be analyizing different pictures of moles. The idea is to use a new image to predict if a mole is cancerous or not \n",
    "\n",
    "<br>\n",
    "This notebook has Five parts:\n",
    "1. Setup Server Connection\n",
    "2. Load Images\n",
    "3. Prepare Images for Analysis\n",
    "4. Train Recommendation Engine\n",
    "5. Make Recommendations"
   ]
  },
  {
   "cell_type": "markdown",
   "metadata": {},
   "source": [
    "## Part I: Setup Server Connection"
   ]
  },
  {
   "cell_type": "code",
   "execution_count": 8,
   "metadata": {
    "collapsed": true
   },
   "outputs": [],
   "source": [
    "import swat\n",
    "from pprint import pprint\n",
    "%matplotlib inline\n",
    "import matplotlib\n",
    "import numpy as np\n",
    "import matplotlib.pyplot as plt\n",
    "from mpl_toolkits.axes_grid1 import ImageGrid\n",
    "#import cv2\n",
    "import pandas as pd\n",
    "import swat.datamsghandlers as dmh"
   ]
  },
  {
   "cell_type": "code",
   "execution_count": 9,
   "metadata": {},
   "outputs": [
    {
     "name": "stdout",
     "output_type": "stream",
     "text": [
      "NOTE: Added action set 'sampling'.\n",
      "NOTE: Added action set 'image'.\n",
      "NOTE: Added action set 'deepLearn'.\n"
     ]
    },
    {
     "data": {
      "text/html": [
       "<div class=\"cas-results-key\"><b>&#167; actionset</b></div>\n",
       "<div class=\"cas-results-body\">\n",
       "<div>deepLearn</div>\n",
       "</div>\n",
       "<div class=\"cas-output-area\"></div>\n",
       "<p class=\"cas-results-performance\"><small><span class=\"cas-elapsed\">elapsed 0.0134s</span> &#183; <span class=\"cas-user\">user 0.007s</span> &#183; <span class=\"cas-sys\">sys 0.013s</span> &#183; <span class=\"cas-memory\">mem 0.784MB</span></small></p>"
      ],
      "text/plain": [
       "[actionset]\n",
       "\n",
       " 'deepLearn'\n",
       "\n",
       "+ Elapsed: 0.0134s, user: 0.007s, sys: 0.013s, mem: 0.784mb"
      ]
     },
     "execution_count": 9,
     "metadata": {},
     "output_type": "execute_result"
    }
   ],
   "source": [
    "s = swat.CAS('gtpviyaea22.unx.sas.com', 5570, authinfo=\"C:/users/ankram/.authinfo\")\n",
    "\n",
    "s.loadActionset('sampling')\n",
    "s.loadActionset('image')\n",
    "s.loadActionset('deepLearn')"
   ]
  },
  {
   "cell_type": "markdown",
   "metadata": {},
   "source": [
    "## Part II: Load Images"
   ]
  },
  {
   "cell_type": "code",
   "execution_count": 10,
   "metadata": {},
   "outputs": [
    {
     "name": "stdout",
     "output_type": "stream",
     "text": [
      "NOTE: Loaded 13752 images from /viyafiles/ankram/data/isic_images into Cloud Analytic Services table _images_.\n"
     ]
    },
    {
     "data": {
      "text/html": [
       "<div class=\"cas-output-area\"></div>\n",
       "<p class=\"cas-results-performance\"><small><span class=\"cas-elapsed\">elapsed 350s</span> &#183; <span class=\"cas-user\">user 76.6s</span> &#183; <span class=\"cas-sys\">sys 366s</span> &#183; <span class=\"cas-memory\">mem 765MB</span></small></p>"
      ],
      "text/plain": [
       "+ Elapsed: 350s, user: 76.6s, sys: 366s, mem: 765mb"
      ]
     },
     "execution_count": 10,
     "metadata": {},
     "output_type": "execute_result"
    }
   ],
   "source": [
    "s.image.loadImages(\n",
    "    casout=dict(name='_images_', replace=True),\n",
    "    path='/viyafiles/ankram/data/isic_images',\n",
    "    labellevels=1,\n",
    "    distribution=dict(seed=12345,type='RANDOM'),\n",
    "    recurse=True\n",
    ")\n",
    "#/viyafiles/ankram/data/test"
   ]
  },
  {
   "cell_type": "code",
   "execution_count": 11,
   "metadata": {},
   "outputs": [
    {
     "data": {
      "text/html": [
       "<div>\n",
       "<table border=\"1\" class=\"dataframe\"><caption>Selected Rows from Table _IMAGES_</caption>\n",
       "  <thead>\n",
       "    <tr style=\"text-align: right;\">\n",
       "      <th title=\"\"></th>\n",
       "      <th title=\"_image_\">_image_</th>\n",
       "      <th title=\"_size_\">_size_</th>\n",
       "      <th title=\"_path_\">_path_</th>\n",
       "      <th title=\"_label_\">_label_</th>\n",
       "      <th title=\"_type_\">_type_</th>\n",
       "      <th title=\"_id_\">_id_</th>\n",
       "    </tr>\n",
       "  </thead>\n",
       "  <tbody>\n",
       "    <tr>\n",
       "      <th>0</th>\n",
       "      <td>b'\\xff\\xd8\\xff\\xe0\\x00\\x10JFIF\\x00\\x01\\x01\\x01...</td>\n",
       "      <td>2694961</td>\n",
       "      <td>/viyafiles/ankram/data/isic_images/benign/ISIC...</td>\n",
       "      <td>benign</td>\n",
       "      <td>jpg</td>\n",
       "      <td>1</td>\n",
       "    </tr>\n",
       "    <tr>\n",
       "      <th>1</th>\n",
       "      <td>b'\\xff\\xd8\\xff\\xe0\\x00\\x10JFIF\\x00\\x01\\x01\\x01...</td>\n",
       "      <td>2893644</td>\n",
       "      <td>/viyafiles/ankram/data/isic_images/benign/ISIC...</td>\n",
       "      <td>benign</td>\n",
       "      <td>jpg</td>\n",
       "      <td>3</td>\n",
       "    </tr>\n",
       "    <tr>\n",
       "      <th>2</th>\n",
       "      <td>b'\\xff\\xd8\\xff\\xe0\\x00\\x10JFIF\\x00\\x01\\x01\\x01...</td>\n",
       "      <td>2753498</td>\n",
       "      <td>/viyafiles/ankram/data/isic_images/benign/ISIC...</td>\n",
       "      <td>benign</td>\n",
       "      <td>jpg</td>\n",
       "      <td>15</td>\n",
       "    </tr>\n",
       "    <tr>\n",
       "      <th>3</th>\n",
       "      <td>b'\\xff\\xd8\\xff\\xe0\\x00\\x10JFIF\\x00\\x01\\x01\\x01...</td>\n",
       "      <td>3752067</td>\n",
       "      <td>/viyafiles/ankram/data/isic_images/benign/ISIC...</td>\n",
       "      <td>benign</td>\n",
       "      <td>jpg</td>\n",
       "      <td>18</td>\n",
       "    </tr>\n",
       "    <tr>\n",
       "      <th>4</th>\n",
       "      <td>b'\\xff\\xd8\\xff\\xe1\\xff\\xfeExif\\x00\\x00MM\\x00*\\...</td>\n",
       "      <td>4620153</td>\n",
       "      <td>/viyafiles/ankram/data/isic_images/benign/ISIC...</td>\n",
       "      <td>benign</td>\n",
       "      <td>jpg</td>\n",
       "      <td>20</td>\n",
       "    </tr>\n",
       "  </tbody>\n",
       "</table>\n",
       "</div>"
      ],
      "text/plain": [
       "Selected Rows from Table _IMAGES_\n",
       "\n",
       "                                             _image_   _size_  \\\n",
       "0  b'\\xff\\xd8\\xff\\xe0\\x00\\x10JFIF\\x00\\x01\\x01\\x01...  2694961   \n",
       "1  b'\\xff\\xd8\\xff\\xe0\\x00\\x10JFIF\\x00\\x01\\x01\\x01...  2893644   \n",
       "2  b'\\xff\\xd8\\xff\\xe0\\x00\\x10JFIF\\x00\\x01\\x01\\x01...  2753498   \n",
       "3  b'\\xff\\xd8\\xff\\xe0\\x00\\x10JFIF\\x00\\x01\\x01\\x01...  3752067   \n",
       "4  b'\\xff\\xd8\\xff\\xe1\\xff\\xfeExif\\x00\\x00MM\\x00*\\...  4620153   \n",
       "\n",
       "                                              _path_ _label_ _type_  _id_  \n",
       "0  /viyafiles/ankram/data/isic_images/benign/ISIC...  benign    jpg     1  \n",
       "1  /viyafiles/ankram/data/isic_images/benign/ISIC...  benign    jpg     3  \n",
       "2  /viyafiles/ankram/data/isic_images/benign/ISIC...  benign    jpg    15  \n",
       "3  /viyafiles/ankram/data/isic_images/benign/ISIC...  benign    jpg    18  \n",
       "4  /viyafiles/ankram/data/isic_images/benign/ISIC...  benign    jpg    20  "
      ]
     },
     "execution_count": 11,
     "metadata": {},
     "output_type": "execute_result"
    }
   ],
   "source": [
    "originalImages = s.CASTable('_images_')\n",
    "originalImages.head()"
   ]
  },
  {
   "cell_type": "code",
   "execution_count": 12,
   "metadata": {},
   "outputs": [
    {
     "data": {
      "text/plain": [
       "benign       12668\n",
       "malignant     1084\n",
       "dtype: int64"
      ]
     },
     "execution_count": 12,
     "metadata": {},
     "output_type": "execute_result"
    }
   ],
   "source": [
    "originalImages['_label_'].value_counts()"
   ]
  },
  {
   "cell_type": "code",
   "execution_count": null,
   "metadata": {
    "collapsed": true
   },
   "outputs": [],
   "source": [
    "r = s.image.fetchImages(table = originalImages, image='_image_')\n",
    "r.Images.Image[0]"
   ]
  },
  {
   "cell_type": "markdown",
   "metadata": {},
   "source": [
    "### Prepare Images for Analysis:"
   ]
  },
  {
   "cell_type": "code",
   "execution_count": 22,
   "metadata": {},
   "outputs": [
    {
     "name": "stdout",
     "output_type": "stream",
     "text": [
      "NOTE: Table _IMAGES_ contains compressed images.\n",
      "NOTE: 13752 out of 13752 images were processed successfully and saved as compressed images to the Cloud Analytic Services table _image_processed.\n"
     ]
    }
   ],
   "source": [
    "#Resize image\n",
    "s.image.processImages(\n",
    "    casout=dict(name='_image_processed',replace=True),\n",
    "    imagetable='_images_',\n",
    "    imagefunctions=[\n",
    "        dict(options=dict(w=32,h=32,functiontype='RESIZE')) #256, 256\n",
    "    ]\n",
    ")\n",
    "\n",
    "MoleImage = s.CASTable('_image_processed')"
   ]
  },
  {
   "cell_type": "code",
   "execution_count": 38,
   "metadata": {},
   "outputs": [
    {
     "name": "stdout",
     "output_type": "stream",
     "text": [
      "NOTE: Table _IMAGE_PROCESSED contains compressed images.\n"
     ]
    },
    {
     "data": {
      "image/png": "[encoded data removed]",
      "text/plain": [
       "<PIL.JpegImagePlugin.JpegImageFile image mode=RGB size=32x32 at 0xCB6EF98>"
      ]
     },
     "execution_count": 38,
     "metadata": {},
     "output_type": "execute_result"
    }
   ],
   "source": [
    "r = s.image.fetchImages(table = dict(name=MoleImage, caslib='casuserhdfs'), image='_image_')\n",
    "r.Images.Image[0]"
   ]
  },
  {
   "cell_type": "code",
   "execution_count": 43,
   "metadata": {},
   "outputs": [
    {
     "data": {
      "image/png": "[encoded data removed]",
      "text/plain": [
       "<PIL.JpegImagePlugin.JpegImageFile image mode=RGB size=32x32 at 0xCB72048>"
      ]
     },
     "execution_count": 43,
     "metadata": {},
     "output_type": "execute_result"
    }
   ],
   "source": [
    "r.Images.Image[1]"
   ]
  },
  {
   "cell_type": "markdown",
   "metadata": {},
   "source": [
    "## Partitioning"
   ]
  },
  {
   "cell_type": "code",
   "execution_count": 23,
   "metadata": {},
   "outputs": [
    {
     "name": "stdout",
     "output_type": "stream",
     "text": [
      "NOTE: Using SEED=493663517 for sampling.\n"
     ]
    },
    {
     "data": {
      "text/html": [
       "<div class=\"cas-results-key\"><b>&#167; outputSize</b></div>\n",
       "<div class=\"cas-results-body\">\n",
       "<div>{'outputNVars': 7, 'outputNObs': 13752.0}</div>\n",
       "</div>\n",
       "<div class=\"cas-results-key\"><hr/><b>&#167; STRAFreq</b></div>\n",
       "<div class=\"cas-results-body\">\n",
       "<div>\n",
       "<table border=\"1\" class=\"dataframe\"><caption>Frequencies</caption>\n",
       "  <thead>\n",
       "    <tr style=\"text-align: right;\">\n",
       "      <th title=\"\"></th>\n",
       "      <th title=\"Index\">ByGrpID</th>\n",
       "      <th title=\"_label_\">_label_</th>\n",
       "      <th title=\"Number of Obs\">NObs</th>\n",
       "      <th title=\"Number of Samples\">NSamp</th>\n",
       "    </tr>\n",
       "  </thead>\n",
       "  <tbody>\n",
       "    <tr>\n",
       "      <th>0</th>\n",
       "      <td>0</td>\n",
       "      <td>benign</td>\n",
       "      <td>12668</td>\n",
       "      <td>10768</td>\n",
       "    </tr>\n",
       "    <tr>\n",
       "      <th>1</th>\n",
       "      <td>1</td>\n",
       "      <td>malignant</td>\n",
       "      <td>1084</td>\n",
       "      <td>921</td>\n",
       "    </tr>\n",
       "  </tbody>\n",
       "</table>\n",
       "</div>\n",
       "</div>\n",
       "<div class=\"cas-results-key\"><hr/><b>&#167; OutputCasTables</b></div>\n",
       "<div class=\"cas-results-body\">\n",
       "<div>\n",
       "<table border=\"1\" class=\"dataframe\">\n",
       "  <thead>\n",
       "    <tr style=\"text-align: right;\">\n",
       "      <th title=\"\"></th>\n",
       "      <th title=\"CAS Library\">casLib</th>\n",
       "      <th title=\"Name\">Name</th>\n",
       "      <th title=\"Label\">Label</th>\n",
       "      <th title=\"Number of Rows\">Rows</th>\n",
       "      <th title=\"Number of Columns\">Columns</th>\n",
       "      <th title=\"Table\">casTable</th>\n",
       "    </tr>\n",
       "  </thead>\n",
       "  <tbody>\n",
       "    <tr>\n",
       "      <th>0</th>\n",
       "      <td>CASUSERHDFS(ankram)</td>\n",
       "      <td>_image_proc_strat</td>\n",
       "      <td></td>\n",
       "      <td>13752</td>\n",
       "      <td>7</td>\n",
       "      <td>CASTable('_image_proc_strat', caslib='CASUSERH...</td>\n",
       "    </tr>\n",
       "  </tbody>\n",
       "</table>\n",
       "</div>\n",
       "</div>\n",
       "<div class=\"cas-output-area\"></div>\n",
       "<p class=\"cas-results-performance\"><small><span class=\"cas-elapsed\">elapsed 0.681s</span> &#183; <span class=\"cas-user\">user 0.355s</span> &#183; <span class=\"cas-sys\">sys 0.176s</span> &#183; <span class=\"cas-memory\">mem 290MB</span></small></p>"
      ],
      "text/plain": [
       "[outputSize]\n",
       "\n",
       " {'outputNObs': 13752.0, 'outputNVars': 7}\n",
       "\n",
       "[STRAFreq]\n",
       "\n",
       " Frequencies\n",
       " \n",
       "    ByGrpID    _label_   NObs  NSamp\n",
       " 0        0     benign  12668  10768\n",
       " 1        1  malignant   1084    921\n",
       "\n",
       "[OutputCasTables]\n",
       "\n",
       "                 casLib               Name Label   Rows  Columns  \\\n",
       " 0  CASUSERHDFS(ankram)  _image_proc_strat        13752        7   \n",
       " \n",
       "                                             casTable  \n",
       " 0  CASTable('_image_proc_strat', caslib='CASUSERH...  \n",
       "\n",
       "+ Elapsed: 0.681s, user: 0.355s, sys: 0.176s, mem: 290mb"
      ]
     },
     "execution_count": 23,
     "metadata": {},
     "output_type": "execute_result"
    }
   ],
   "source": [
    "s.sampling.stratified(\n",
    "  table=dict(name = MoleImage, groupBy = \"_label_\"),\n",
    "  output=dict(casOut = dict(name = \"_image_proc_strat\", replace = True), copyVars = \"ALL\"),\n",
    "  samppct=85,\n",
    "  partind=True\n",
    ")"
   ]
  },
  {
   "cell_type": "code",
   "execution_count": 25,
   "metadata": {},
   "outputs": [
    {
     "data": {
      "text/html": [
       "<div>\n",
       "<table border=\"1\" class=\"dataframe\"><caption>Selected Rows from Table _IMAGE_PROC_STRAT</caption>\n",
       "  <thead>\n",
       "    <tr style=\"text-align: right;\">\n",
       "      <th title=\"\"></th>\n",
       "      <th title=\"_image_\">_image_</th>\n",
       "      <th title=\"_size_\">_size_</th>\n",
       "      <th title=\"_path_\">_path_</th>\n",
       "      <th title=\"_type_\">_type_</th>\n",
       "      <th title=\"_id_\">_id_</th>\n",
       "      <th title=\"_label_\">_label_</th>\n",
       "      <th title=\"Partition Indicator\">_PartInd_</th>\n",
       "    </tr>\n",
       "  </thead>\n",
       "  <tbody>\n",
       "    <tr>\n",
       "      <th>0</th>\n",
       "      <td>b'\\xff\\xd8\\xff\\xe0\\x00\\x10JFIF\\x00\\x01\\x01\\x00...</td>\n",
       "      <td>1270</td>\n",
       "      <td>/viyafiles/ankram/data/isic_images/benign/ISIC...</td>\n",
       "      <td>jpg</td>\n",
       "      <td>1</td>\n",
       "      <td>benign</td>\n",
       "      <td>1.0</td>\n",
       "    </tr>\n",
       "    <tr>\n",
       "      <th>1</th>\n",
       "      <td>b'\\xff\\xd8\\xff\\xe0\\x00\\x10JFIF\\x00\\x01\\x01\\x00...</td>\n",
       "      <td>1125</td>\n",
       "      <td>/viyafiles/ankram/data/isic_images/benign/ISIC...</td>\n",
       "      <td>jpg</td>\n",
       "      <td>3</td>\n",
       "      <td>benign</td>\n",
       "      <td>1.0</td>\n",
       "    </tr>\n",
       "    <tr>\n",
       "      <th>2</th>\n",
       "      <td>b'\\xff\\xd8\\xff\\xe0\\x00\\x10JFIF\\x00\\x01\\x01\\x00...</td>\n",
       "      <td>1148</td>\n",
       "      <td>/viyafiles/ankram/data/isic_images/benign/ISIC...</td>\n",
       "      <td>jpg</td>\n",
       "      <td>15</td>\n",
       "      <td>benign</td>\n",
       "      <td>0.0</td>\n",
       "    </tr>\n",
       "    <tr>\n",
       "      <th>3</th>\n",
       "      <td>b'\\xff\\xd8\\xff\\xe0\\x00\\x10JFIF\\x00\\x01\\x01\\x00...</td>\n",
       "      <td>1069</td>\n",
       "      <td>/viyafiles/ankram/data/isic_images/benign/ISIC...</td>\n",
       "      <td>jpg</td>\n",
       "      <td>18</td>\n",
       "      <td>benign</td>\n",
       "      <td>1.0</td>\n",
       "    </tr>\n",
       "    <tr>\n",
       "      <th>4</th>\n",
       "      <td>b'\\xff\\xd8\\xff\\xe0\\x00\\x10JFIF\\x00\\x01\\x01\\x00...</td>\n",
       "      <td>1219</td>\n",
       "      <td>/viyafiles/ankram/data/isic_images/benign/ISIC...</td>\n",
       "      <td>jpg</td>\n",
       "      <td>20</td>\n",
       "      <td>benign</td>\n",
       "      <td>1.0</td>\n",
       "    </tr>\n",
       "  </tbody>\n",
       "</table>\n",
       "</div>"
      ],
      "text/plain": [
       "Selected Rows from Table _IMAGE_PROC_STRAT\n",
       "\n",
       "                                             _image_  _size_  \\\n",
       "0  b'\\xff\\xd8\\xff\\xe0\\x00\\x10JFIF\\x00\\x01\\x01\\x00...    1270   \n",
       "1  b'\\xff\\xd8\\xff\\xe0\\x00\\x10JFIF\\x00\\x01\\x01\\x00...    1125   \n",
       "2  b'\\xff\\xd8\\xff\\xe0\\x00\\x10JFIF\\x00\\x01\\x01\\x00...    1148   \n",
       "3  b'\\xff\\xd8\\xff\\xe0\\x00\\x10JFIF\\x00\\x01\\x01\\x00...    1069   \n",
       "4  b'\\xff\\xd8\\xff\\xe0\\x00\\x10JFIF\\x00\\x01\\x01\\x00...    1219   \n",
       "\n",
       "                                              _path_ _type_  _id_ _label_  \\\n",
       "0  /viyafiles/ankram/data/isic_images/benign/ISIC...    jpg     1  benign   \n",
       "1  /viyafiles/ankram/data/isic_images/benign/ISIC...    jpg     3  benign   \n",
       "2  /viyafiles/ankram/data/isic_images/benign/ISIC...    jpg    15  benign   \n",
       "3  /viyafiles/ankram/data/isic_images/benign/ISIC...    jpg    18  benign   \n",
       "4  /viyafiles/ankram/data/isic_images/benign/ISIC...    jpg    20  benign   \n",
       "\n",
       "   _PartInd_  \n",
       "0        1.0  \n",
       "1        1.0  \n",
       "2        0.0  \n",
       "3        1.0  \n",
       "4        1.0  "
      ]
     },
     "execution_count": 25,
     "metadata": {},
     "output_type": "execute_result"
    }
   ],
   "source": [
    "s.CASTable('_image_proc_strat').head()"
   ]
  },
  {
   "cell_type": "markdown",
   "metadata": {},
   "source": [
    "## Save Data"
   ]
  },
  {
   "cell_type": "code",
   "execution_count": 31,
   "metadata": {},
   "outputs": [
    {
     "name": "stdout",
     "output_type": "stream",
     "text": [
      "NOTE: Cloud Analytic Services saved the file mole_analysis_resized.sashdat in caslib DMlib.\n"
     ]
    },
    {
     "data": {
      "text/html": [
       "<div class=\"cas-results-key\"><b>&#167; caslib</b></div>\n",
       "<div class=\"cas-results-body\">\n",
       "<div>DMlib</div>\n",
       "</div>\n",
       "<div class=\"cas-results-key\"><hr/><b>&#167; name</b></div>\n",
       "<div class=\"cas-results-body\">\n",
       "<div>mole_analysis_resized.sashdat</div>\n",
       "</div>\n",
       "<div class=\"cas-output-area\"></div>\n",
       "<p class=\"cas-results-performance\"><small><span class=\"cas-elapsed\">elapsed 0.343s</span> &#183; <span class=\"cas-user\">user 0.031s</span> &#183; <span class=\"cas-sys\">sys 0.068s</span> &#183; <span class=\"cas-memory\">mem 62.9MB</span></small></p>"
      ],
      "text/plain": [
       "[caslib]\n",
       "\n",
       " 'DMlib'\n",
       "\n",
       "[name]\n",
       "\n",
       " 'mole_analysis_resized.sashdat'\n",
       "\n",
       "+ Elapsed: 0.343s, user: 0.031s, sys: 0.068s, mem: 62.9mb"
      ]
     },
     "execution_count": 31,
     "metadata": {},
     "output_type": "execute_result"
    }
   ],
   "source": [
    "#s.table.addCaslib(datasource={'srctype':'path'}, name='DMlib', path='/viyafiles/ankram/data');\n",
    "#s.table.save(name='mole_analysis_resized', table=dict(name='_image_proc_strat', caslib='casuserhdfs'))"
   ]
  },
  {
   "cell_type": "markdown",
   "metadata": {},
   "source": [
    "## Part IV: Build Models"
   ]
  },
  {
   "cell_type": "code",
   "execution_count": 7,
   "metadata": {},
   "outputs": [
    {
     "data": {
      "text/html": [
       "<div class=\"cas-results-key\"><b>&#167; OutputCasTables</b></div>\n",
       "<div class=\"cas-results-body\">\n",
       "<div>\n",
       "<table border=\"1\" class=\"dataframe\">\n",
       "  <thead>\n",
       "    <tr style=\"text-align: right;\">\n",
       "      <th title=\"\"></th>\n",
       "      <th title=\"CAS Library\">casLib</th>\n",
       "      <th title=\"Name\">Name</th>\n",
       "      <th title=\"Number of Rows\">Rows</th>\n",
       "      <th title=\"Number of Columns\">Columns</th>\n",
       "      <th title=\"Table\">casTable</th>\n",
       "    </tr>\n",
       "  </thead>\n",
       "  <tbody>\n",
       "    <tr>\n",
       "      <th>0</th>\n",
       "      <td>CASUSERHDFS(ankram)</td>\n",
       "      <td>model</td>\n",
       "      <td>74</td>\n",
       "      <td>5</td>\n",
       "      <td>CASTable('model', caslib='CASUSERHDFS(ankram)')</td>\n",
       "    </tr>\n",
       "  </tbody>\n",
       "</table>\n",
       "</div>\n",
       "</div>\n",
       "<div class=\"cas-output-area\"></div>\n",
       "<p class=\"cas-results-performance\"><small><span class=\"cas-elapsed\">elapsed 0.106s</span> &#183; <span class=\"cas-user\">user 1.48s</span> &#183; <span class=\"cas-sys\">sys 0.038s</span> &#183; <span class=\"cas-memory\">mem 13.7MB</span></small></p>"
      ],
      "text/plain": [
       "[OutputCasTables]\n",
       "\n",
       "                 casLib   Name  Rows  Columns  \\\n",
       " 0  CASUSERHDFS(ankram)  model    74        5   \n",
       " \n",
       "                                           casTable  \n",
       " 0  CASTable('model', caslib='CASUSERHDFS(ankram)')  \n",
       "\n",
       "+ Elapsed: 0.106s, user: 1.48s, sys: 0.038s, mem: 13.7mb"
      ]
     },
     "execution_count": 7,
     "metadata": {},
     "output_type": "execute_result"
    }
   ],
   "source": [
    "modelname='model'\n",
    "modelweights='model_weights'\n",
    "\n",
    "#Define CNN MOdels\n",
    "s.buildModel(model=dict(name=modelname,replace=True),type='CNN')\n",
    "\n",
    "#Layers\n",
    "s.addLayer(model=modelname, name='data', layer = dict(type='input', \n",
    "           nchannels=3, width=32, height=32))\n",
    "\n",
    "s.addLayer(model=modelname, name='conv1', layer = dict(type='convolution',\n",
    "           nFilters=16, width=3, height=3, stride=1), srcLayers=['data'])\n",
    "\n",
    "s.addLayer(model=modelname, name='conv2', layer = dict(type='convolution',\n",
    "           nFilters=32, width=3, height=3, stride=1), srcLayers=['conv1'])\n",
    "\n",
    "s.addLayer(model=modelname, name='pool1', layer = dict(type='pooling', \n",
    "           width=2, height=2, stride=2, pool='max'), srcLayers=['conv2'])\n",
    "\n",
    "#fc 64\n",
    "s.addLayer(model=modelname, name='fc1', layer = dict(type='fullconnect', n=32,act='relu',init='msra'), srcLayers=['pool1'])\n",
    "\n",
    "#output softmax\n",
    "s.addLayer(model=modelname, name='outlayer', layer = dict(type='output', act='softmax'), srcLayers=['fc1'])"
   ]
  },
  {
   "cell_type": "markdown",
   "metadata": {},
   "source": [
    "## Run Model"
   ]
  },
  {
   "cell_type": "code",
   "execution_count": 9,
   "metadata": {},
   "outputs": [
    {
     "name": "stdout",
     "output_type": "stream",
     "text": [
      "WARNING:  The learningOpts parameter is obsolete. Please use the optimizer options.\n",
      "NOTE:  Synchronous SGD is starting.\n",
      "NOTE:  The total number of parameters is 267330.\n",
      "NOTE:  The approximate memory cost is 74.00 MB.\n",
      "NOTE:  Initializing each layer cost       0.10 (s).\n",
      "NOTE:  The total number of workers is 3.\n",
      "NOTE:  The total number of threads on each worker is 32.\n",
      "NOTE:  The total number of minibatch size per thread on each worker is 1.\n",
      "NOTE:  The maximum number of minibatch size across all workers for the synchronous mode is 96.\n",
      "NOTE:  Target variable: _label_\n",
      "NOTE:  Number of levels for the target variable:      2\n",
      "NOTE:  Levels for the target variable:\n",
      "NOTE:  Level      0: malignant\n",
      "NOTE:  Level      1: benign   \n",
      "NOTE:  Number of input variables:     1\n",
      "NOTE:  Number of numeric input variables:      1\n",
      "NOTE:  Epoch           Learning Rate     Loss    Fit Error      Time (s)\n",
      "NOTE:          0           0.001       1.4543     0.1214         5.06\n",
      "NOTE:          1           0.001         0.55     0.0891         4.60\n",
      "NOTE:          2           0.001       0.9768     0.1058         4.40\n",
      "NOTE:          3           0.001       0.6253     0.0866         4.44\n",
      "NOTE:          4           0.001       0.6523     0.0915         4.30\n",
      "NOTE:          5          0.0001       2.5016     0.1699         4.37\n",
      "NOTE:          6          0.0001        0.526      0.145         4.47\n",
      "NOTE:          7          0.0001       0.3445     0.3517         4.80\n",
      "NOTE:          8          0.0001       0.3359     0.3648         4.36\n",
      "NOTE:          9          0.0001       0.3136      0.332         4.30\n",
      "NOTE:  The optimization reached the maximum number of epochs.\n",
      "NOTE:  The total time is      45.10 (s).\n"
     ]
    },
    {
     "data": {
      "text/plain": [
       "<matplotlib.axes._subplots.AxesSubplot at 0xe156e48>"
      ]
     },
     "execution_count": 9,
     "metadata": {},
     "output_type": "execute_result"
    },
    {
     "data": {
      "image/png": "[encoded data removed]",
      "text/plain": [
       "<matplotlib.figure.Figure at 0xf4b8828>"
      ]
     },
     "metadata": {},
     "output_type": "display_data"
    }
   ],
   "source": [
    "nloOpts= dict(miniBatchSize=1, learningRate=0.001, \n",
    "              maxEpochs=10, \n",
    "              algo='adam', \n",
    "              logLevel=2,\n",
    "              lrpolicy='step',\n",
    "              stepsize=5,\n",
    "              gamma=0.1,\n",
    "              clipgradmin=-100,\n",
    "              clipgradmax=100)\n",
    "\n",
    "r = s.dltrain(model=modelname,table=dict(name = \"_image_proc_strat\", where = '_partind_ = 1'), \n",
    "              seed=51321, inputs = ['_image_'], target='_label_',\n",
    "              modelWeights=dict(name=modelweights, replace=True), \n",
    "              nThreads = 32,\n",
    "              learningOpts=nloOpts)\n",
    "\n",
    "r.OptIterHistory[['Loss','FitError']].plot(figsize=(12,5))"
   ]
  },
  {
   "cell_type": "markdown",
   "metadata": {},
   "source": [
    "### Test Validation Sample"
   ]
  },
  {
   "cell_type": "code",
   "execution_count": 10,
   "metadata": {},
   "outputs": [
    {
     "data": {
      "text/html": [
       "<div class=\"cas-results-key\"><b>&#167; ScoreInfo</b></div>\n",
       "<div class=\"cas-results-body\">\n",
       "<div>\n",
       "<table border=\"1\" class=\"dataframe\">\n",
       "  <thead>\n",
       "    <tr style=\"text-align: right;\">\n",
       "      <th title=\"\"></th>\n",
       "      <th title=\"Descr\">Descr</th>\n",
       "      <th title=\"Value\">Value</th>\n",
       "    </tr>\n",
       "  </thead>\n",
       "  <tbody>\n",
       "    <tr>\n",
       "      <th>0</th>\n",
       "      <td>Number of Observations Read</td>\n",
       "      <td>2063</td>\n",
       "    </tr>\n",
       "    <tr>\n",
       "      <th>1</th>\n",
       "      <td>Number of Observations Used</td>\n",
       "      <td>2063</td>\n",
       "    </tr>\n",
       "    <tr>\n",
       "      <th>2</th>\n",
       "      <td>Misclassification Error (%)</td>\n",
       "      <td>31.41057</td>\n",
       "    </tr>\n",
       "    <tr>\n",
       "      <th>3</th>\n",
       "      <td>Loss Error</td>\n",
       "      <td>0.325699</td>\n",
       "    </tr>\n",
       "  </tbody>\n",
       "</table>\n",
       "</div>\n",
       "</div>\n",
       "<div class=\"cas-output-area\"></div>\n",
       "<p class=\"cas-results-performance\"><small><span class=\"cas-elapsed\">elapsed 0.259s</span> &#183; <span class=\"cas-user\">user 3.89s</span> &#183; <span class=\"cas-sys\">sys 0.371s</span> &#183; <span class=\"cas-memory\">mem 315MB</span></small></p>"
      ],
      "text/plain": [
       "[ScoreInfo]\n",
       "\n",
       "                          Descr         Value\n",
       " 0  Number of Observations Read          2063\n",
       " 1  Number of Observations Used          2063\n",
       " 2  Misclassification Error (%)      31.41057\n",
       " 3                   Loss Error      0.325699\n",
       "\n",
       "+ Elapsed: 0.259s, user: 3.89s, sys: 0.371s, mem: 315mb"
      ]
     },
     "execution_count": 10,
     "metadata": {},
     "output_type": "execute_result"
    }
   ],
   "source": [
    "s.dlscore(table=dict(name = \"_image_proc_strat\", where = '_partind_ = 0'), modelTable=modelname, initWeights=modelweights)"
   ]
  },
  {
   "cell_type": "markdown",
   "metadata": {},
   "source": [
    "## Lets try some different options to better our results \n",
    "Quick example of summarize actionset"
   ]
  },
  {
   "cell_type": "code",
   "execution_count": 11,
   "metadata": {},
   "outputs": [
    {
     "name": "stdout",
     "output_type": "stream",
     "text": [
      "NOTE: Table _IMAGES_ contains compressed images.\n",
      "NOTE: 13752 out of 13752 images were scanned and results were saved to the summary table.\n"
     ]
    },
    {
     "data": {
      "text/html": [
       "<div class=\"cas-results-key\"><b>&#167; Summary</b></div>\n",
       "<div class=\"cas-results-body\">\n",
       "<div>\n",
       "<table border=\"1\" class=\"dataframe\">\n",
       "  <thead>\n",
       "    <tr style=\"text-align: right;\">\n",
       "      <th title=\"\"></th>\n",
       "      <th title=\"Image column\">Column</th>\n",
       "      <th title=\"JPG images count\">jpg</th>\n",
       "      <th title=\"Minimum width\">minWidth</th>\n",
       "      <th title=\"Maximum width\">maxWidth</th>\n",
       "      <th title=\"Minimum height\">minHeight</th>\n",
       "      <th title=\"Maximum height\">maxHeight</th>\n",
       "      <th title=\"Average width\">meanWidth</th>\n",
       "      <th title=\"Average height\">meanHeight</th>\n",
       "      <th title=\"Average intensity of B\">mean1stChannel</th>\n",
       "      <th title=\"Minimum intensity of B\">min1stChannel</th>\n",
       "      <th title=\"Maximum intensity of B\">max1stChannel</th>\n",
       "      <th title=\"Average intensity of G\">mean2ndChannel</th>\n",
       "      <th title=\"Minimum intensity of G\">min2ndChannel</th>\n",
       "      <th title=\"Maximum intensity of G\">max2ndChannel</th>\n",
       "      <th title=\"Average intensity of R\">mean3rdChannel</th>\n",
       "      <th title=\"Minimum intensity of R\">min3rdChannel</th>\n",
       "      <th title=\"Maximum intensity of R\">max3rdChannel</th>\n",
       "    </tr>\n",
       "  </thead>\n",
       "  <tbody>\n",
       "    <tr>\n",
       "      <th>0</th>\n",
       "      <td>_image_</td>\n",
       "      <td>13752.0</td>\n",
       "      <td>576.0</td>\n",
       "      <td>6780.0</td>\n",
       "      <td>540.0</td>\n",
       "      <td>6688.0</td>\n",
       "      <td>3220.16623</td>\n",
       "      <td>2162.841696</td>\n",
       "      <td>129.020223</td>\n",
       "      <td>0.0</td>\n",
       "      <td>255.0</td>\n",
       "      <td>147.349786</td>\n",
       "      <td>0.0</td>\n",
       "      <td>255.0</td>\n",
       "      <td>175.632886</td>\n",
       "      <td>0.0</td>\n",
       "      <td>255.0</td>\n",
       "    </tr>\n",
       "  </tbody>\n",
       "</table>\n",
       "</div>\n",
       "</div>\n",
       "<div class=\"cas-output-area\"></div>\n",
       "<p class=\"cas-results-performance\"><small><span class=\"cas-elapsed\">elapsed 76s</span> &#183; <span class=\"cas-user\">user 3.94e+03s</span> &#183; <span class=\"cas-sys\">sys 132s</span> &#183; <span class=\"cas-memory\">mem 6.09MB</span></small></p>"
      ],
      "text/plain": [
       "[Summary]\n",
       "\n",
       "     Column      jpg  minWidth  maxWidth  minHeight  maxHeight   meanWidth  \\\n",
       " 0  _image_  13752.0     576.0    6780.0      540.0     6688.0  3220.16623   \n",
       " \n",
       "     meanHeight  mean1stChannel  min1stChannel  max1stChannel  mean2ndChannel  \\\n",
       " 0  2162.841696      129.020223            0.0          255.0      147.349786   \n",
       " \n",
       "    min2ndChannel  max2ndChannel  mean3rdChannel  min3rdChannel  max3rdChannel  \n",
       " 0            0.0          255.0      175.632886            0.0          255.0  \n",
       "\n",
       "+ Elapsed: 76s, user: 3.94e+03s, sys: 132s, mem: 6.09mb"
      ]
     },
     "execution_count": 11,
     "metadata": {},
     "output_type": "execute_result"
    }
   ],
   "source": [
    "s.image.summarizeImages(imageTable=originalImages)"
   ]
  },
  {
   "cell_type": "markdown",
   "metadata": {},
   "source": [
    "### Global Contrast Normalization"
   ]
  },
  {
   "cell_type": "code",
   "execution_count": 12,
   "metadata": {},
   "outputs": [
    {
     "name": "stdout",
     "output_type": "stream",
     "text": [
      "NOTE: The ADD_CONSTANT function applies saturation to the images whose depth is 8-bit in the case of overflow.\n",
      "NOTE: Table _IMAGE_PROCESSED contains compressed images.\n",
      "NOTE: 13752 out of 13752 images were processed successfully and saved as decompressed images to the Cloud Analytic Services table _image_processed_2.\n",
      "NOTE: Using SEED=2081569086 for sampling.\n"
     ]
    },
    {
     "data": {
      "text/html": [
       "<div class=\"cas-results-key\"><b>&#167; outputSize</b></div>\n",
       "<div class=\"cas-results-body\">\n",
       "<div>{'outputNObs': 13752.0, 'outputNVars': 10}</div>\n",
       "</div>\n",
       "<div class=\"cas-results-key\"><hr/><b>&#167; STRAFreq</b></div>\n",
       "<div class=\"cas-results-body\">\n",
       "<div>\n",
       "<table border=\"1\" class=\"dataframe\"><caption>Frequencies</caption>\n",
       "  <thead>\n",
       "    <tr style=\"text-align: right;\">\n",
       "      <th title=\"\"></th>\n",
       "      <th title=\"Index\">ByGrpID</th>\n",
       "      <th title=\"_label_\">_label_</th>\n",
       "      <th title=\"Number of Obs\">NObs</th>\n",
       "      <th title=\"Number of Samples\">NSamp</th>\n",
       "    </tr>\n",
       "  </thead>\n",
       "  <tbody>\n",
       "    <tr>\n",
       "      <th>0</th>\n",
       "      <td>0</td>\n",
       "      <td>benign</td>\n",
       "      <td>12668</td>\n",
       "      <td>10768</td>\n",
       "    </tr>\n",
       "    <tr>\n",
       "      <th>1</th>\n",
       "      <td>1</td>\n",
       "      <td>malignant</td>\n",
       "      <td>1084</td>\n",
       "      <td>921</td>\n",
       "    </tr>\n",
       "  </tbody>\n",
       "</table>\n",
       "</div>\n",
       "</div>\n",
       "<div class=\"cas-results-key\"><hr/><b>&#167; OutputCasTables</b></div>\n",
       "<div class=\"cas-results-body\">\n",
       "<div>\n",
       "<table border=\"1\" class=\"dataframe\">\n",
       "  <thead>\n",
       "    <tr style=\"text-align: right;\">\n",
       "      <th title=\"\"></th>\n",
       "      <th title=\"CAS Library\">casLib</th>\n",
       "      <th title=\"Name\">Name</th>\n",
       "      <th title=\"Label\">Label</th>\n",
       "      <th title=\"Number of Rows\">Rows</th>\n",
       "      <th title=\"Number of Columns\">Columns</th>\n",
       "      <th title=\"Table\">casTable</th>\n",
       "    </tr>\n",
       "  </thead>\n",
       "  <tbody>\n",
       "    <tr>\n",
       "      <th>0</th>\n",
       "      <td>CASUSERHDFS(ankram)</td>\n",
       "      <td>_image_processed_2</td>\n",
       "      <td></td>\n",
       "      <td>13752</td>\n",
       "      <td>10</td>\n",
       "      <td>CASTable('_image_processed_2', caslib='CASUSER...</td>\n",
       "    </tr>\n",
       "  </tbody>\n",
       "</table>\n",
       "</div>\n",
       "</div>\n",
       "<div class=\"cas-output-area\"></div>\n",
       "<p class=\"cas-results-performance\"><small><span class=\"cas-elapsed\">elapsed 0.594s</span> &#183; <span class=\"cas-user\">user 0.398s</span> &#183; <span class=\"cas-sys\">sys 1.61s</span> &#183; <span class=\"cas-memory\">mem 644MB</span></small></p>"
      ],
      "text/plain": [
       "[outputSize]\n",
       "\n",
       " {'outputNObs': 13752.0, 'outputNVars': 10}\n",
       "\n",
       "[STRAFreq]\n",
       "\n",
       " Frequencies\n",
       " \n",
       "    ByGrpID    _label_   NObs  NSamp\n",
       " 0        0     benign  12668  10768\n",
       " 1        1  malignant   1084    921\n",
       "\n",
       "[OutputCasTables]\n",
       "\n",
       "                 casLib                Name Label   Rows  Columns  \\\n",
       " 0  CASUSERHDFS(ankram)  _image_processed_2        13752       10   \n",
       " \n",
       "                                             casTable  \n",
       " 0  CASTable('_image_processed_2', caslib='CASUSER...  \n",
       "\n",
       "+ Elapsed: 0.594s, user: 0.398s, sys: 1.61s, mem: 644mb"
      ]
     },
     "execution_count": 12,
     "metadata": {},
     "output_type": "execute_result"
    }
   ],
   "source": [
    "s.image.processImages(\n",
    "    casout={'name':'_image_processed_2','replace':True},\n",
    "    imagetable={'name':'_image_processed'},\n",
    "    imagefunctions=[\n",
    "        {'options':{'type':'TO_64F','alpha':1,'beta':0, 'functiontype':'RESCALE'}},\n",
    "        {'options':{'b':-128.389479,'g':-130.999648,'r':-121.254779,'functiontype':'ADD_CONSTANT'}}\n",
    "    ], decode=True\n",
    ")\n",
    "\n",
    "s.sampling.stratified(\n",
    "  table=dict(name = \"_image_processed_2\", groupBy = \"_label_\"),\n",
    "  output=dict(casOut = dict(name = \"_image_processed_2\", replace = True), copyVars = \"ALL\"),\n",
    "  samppct=85,\n",
    "  partind=True\n",
    ")"
   ]
  },
  {
   "cell_type": "code",
   "execution_count": 13,
   "metadata": {
    "collapsed": true
   },
   "outputs": [],
   "source": [
    "image_resized = s.CASTable('_image_processed_2')"
   ]
  },
  {
   "cell_type": "code",
   "execution_count": 14,
   "metadata": {},
   "outputs": [
    {
     "name": "stdout",
     "output_type": "stream",
     "text": [
      "WARNING:  The learningOpts parameter is obsolete. Please use the optimizer options.\n",
      "NOTE:  Synchronous SGD is starting.\n",
      "NOTE:  The total number of parameters is 267330.\n",
      "NOTE:  The approximate memory cost is 74.00 MB.\n",
      "NOTE:  Loading weights cost       0.00 (s).\n",
      "NOTE:  Initializing each layer cost       0.12 (s).\n",
      "NOTE:  The total number of workers is 3.\n",
      "NOTE:  The total number of threads on each worker is 32.\n",
      "NOTE:  The total number of minibatch size per thread on each worker is 1.\n",
      "NOTE:  The maximum number of minibatch size across all workers for the synchronous mode is 96.\n",
      "NOTE:  Target variable: _label_\n",
      "NOTE:  Number of levels for the target variable:      2\n",
      "NOTE:  Levels for the target variable:\n",
      "NOTE:  Level      0: malignant\n",
      "NOTE:  Level      1: benign   \n",
      "NOTE:  Number of input variables:     1\n",
      "NOTE:  Number of numeric input variables:      1\n",
      "NOTE:  Epoch           Learning Rate     Loss    Fit Error      Time (s)\n",
      "NOTE:          0           0.001       0.9743     0.1111         4.21\n",
      "NOTE:          1           0.001       0.2514     0.0788         4.22\n",
      "NOTE:          2           0.001       0.2167     0.0788         4.23\n",
      "NOTE:          3           0.001       0.1956     0.0788         4.70\n",
      "NOTE:          4           0.001       0.1864     0.0788         4.25\n",
      "NOTE:          5          0.0001       0.1765     0.0788         4.27\n",
      "NOTE:          6          0.0001        0.173     0.0788         4.34\n",
      "NOTE:          7          0.0001       0.1702     0.0788         4.25\n",
      "NOTE:          8          0.0001       0.1679     0.0788         4.30\n",
      "NOTE:          9          0.0001       0.1658     0.0788         4.27\n",
      "NOTE:  The optimization reached the maximum number of epochs.\n",
      "NOTE:  The total time is      43.04 (s).\n"
     ]
    },
    {
     "data": {
      "text/plain": [
       "<matplotlib.axes._subplots.AxesSubplot at 0xe6901d0>"
      ]
     },
     "execution_count": 14,
     "metadata": {},
     "output_type": "execute_result"
    },
    {
     "data": {
      "image/png": "[encoded data removed]",
      "text/plain": [
       "<matplotlib.figure.Figure at 0xf4b8a20>"
      ]
     },
     "metadata": {},
     "output_type": "display_data"
    }
   ],
   "source": [
    "nloOpts= dict(miniBatchSize=1, learningRate=0.001, \n",
    "              maxEpochs=10, \n",
    "              algo='adam', \n",
    "              logLevel=2,\n",
    "              lrpolicy='step',\n",
    "              stepsize=5,\n",
    "              gamma=0.1,\n",
    "              clipgradmin=-100,\n",
    "              clipgradmax=100)\n",
    "\n",
    "modelweights2='weights2'\n",
    "r = s.dltrain(model=modelname,table=dict(name=image_resized, where ='_partind_ = 1'), seed=51321, \n",
    "              inputs = ['_image_'], target='_label_',\n",
    "              modelWeights=dict(name=modelweights2, replace=True), \n",
    "              nThreads = 32,\n",
    "              learningOpts=nloOpts)\n",
    "r.OptIterHistory[['Loss','FitError']].plot(figsize=(12,5))"
   ]
  },
  {
   "cell_type": "code",
   "execution_count": 15,
   "metadata": {},
   "outputs": [
    {
     "data": {
      "text/html": [
       "<div class=\"cas-results-key\"><b>&#167; ScoreInfo</b></div>\n",
       "<div class=\"cas-results-body\">\n",
       "<div>\n",
       "<table border=\"1\" class=\"dataframe\">\n",
       "  <thead>\n",
       "    <tr style=\"text-align: right;\">\n",
       "      <th title=\"\"></th>\n",
       "      <th title=\"Descr\">Descr</th>\n",
       "      <th title=\"Value\">Value</th>\n",
       "    </tr>\n",
       "  </thead>\n",
       "  <tbody>\n",
       "    <tr>\n",
       "      <th>0</th>\n",
       "      <td>Number of Observations Read</td>\n",
       "      <td>2063</td>\n",
       "    </tr>\n",
       "    <tr>\n",
       "      <th>1</th>\n",
       "      <td>Number of Observations Used</td>\n",
       "      <td>2063</td>\n",
       "    </tr>\n",
       "    <tr>\n",
       "      <th>2</th>\n",
       "      <td>Misclassification Error (%)</td>\n",
       "      <td>7.901115</td>\n",
       "    </tr>\n",
       "    <tr>\n",
       "      <th>3</th>\n",
       "      <td>Loss Error</td>\n",
       "      <td>0.204938</td>\n",
       "    </tr>\n",
       "  </tbody>\n",
       "</table>\n",
       "</div>\n",
       "</div>\n",
       "<div class=\"cas-output-area\"></div>\n",
       "<p class=\"cas-results-performance\"><small><span class=\"cas-elapsed\">elapsed 0.246s</span> &#183; <span class=\"cas-user\">user 2.85s</span> &#183; <span class=\"cas-sys\">sys 0.379s</span> &#183; <span class=\"cas-memory\">mem 315MB</span></small></p>"
      ],
      "text/plain": [
       "[ScoreInfo]\n",
       "\n",
       "                          Descr         Value\n",
       " 0  Number of Observations Read          2063\n",
       " 1  Number of Observations Used          2063\n",
       " 2  Misclassification Error (%)      7.901115\n",
       " 3                   Loss Error      0.204938\n",
       "\n",
       "+ Elapsed: 0.246s, user: 2.85s, sys: 0.379s, mem: 315mb"
      ]
     },
     "execution_count": 15,
     "metadata": {},
     "output_type": "execute_result"
    }
   ],
   "source": [
    "s.dlscore(model=modelname, initWeights=modelweights2, table=dict(name=image_resized, where ='_partind_ = 0'))"
   ]
  },
  {
   "cell_type": "code",
   "execution_count": 44,
   "metadata": {
    "collapsed": true
   },
   "outputs": [],
   "source": [
    "s.close()"
   ]
  }
 ],
 "metadata": {
  "kernelspec": {
   "display_name": "Python 3",
   "language": "python",
   "name": "python3"
  },
  "language_info": {
   "codemirror_mode": {
    "name": "ipython",
    "version": 3
   },
   "file_extension": ".py",
   "mimetype": "text/x-python",
   "name": "python",
   "nbconvert_exporter": "python",
   "pygments_lexer": "ipython3",
   "version": "3.5.2"
  }
 },
 "nbformat": 4,
 "nbformat_minor": 1
}
