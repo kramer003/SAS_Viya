{
 "cells": [
  {
   "cell_type": "markdown",
   "metadata": {},
   "source": [
    "# Fine Foods - Data Overview & Text Analysis\n",
    "We will be using food reviews from Amazon to build a recommendation engine using Factorization Machine in SAS VIYA\n",
    "\n",
    "Factorization Machine (FM) is one of the newest algorithms in the Machine Learning space, and has been developed in SAS. FM is a general prediction algorithm, similar to Support Vector Machines, that can model very sparce data, an area where traditional Machine Learning techniques fail. \n",
    "\n",
    "Since FM is a general prediction algorithm, it can accept any sized real vector as inputs. Because of this, we will use SAS Viya text analytics capabilities to represent text as numeric vectors, that we can use as inputs to our FM model.\n",
    "\n",
    "\n",
    "this notebook has **three** parts:\n",
    "1. Load Data\n",
    "2. Data overview & Prepare for text analytics\n",
    "3. Perform Text Analytics\n",
    "4. Promote dataset to public memory \n",
    "\n",
    "We will use the dataset promoted to public memory to train our FM model in SAS Studio"
   ]
  },
  {
   "cell_type": "markdown",
   "metadata": {
    "collapsed": false
   },
   "source": [
    "## 1. Load Data\n",
    "In this step, we will make a connection to our CAS server, and will load the revelant table that we prepared in Python into memory\n"
   ]
  },
  {
   "cell_type": "code",
   "execution_count": 3,
   "metadata": {
    "collapsed": false
   },
   "outputs": [
    {
     "name": "stdout",
     "output_type": "stream",
     "text": [
      "NOTE: Cloud Analytic Services made the file foods_prepped.csv available as table FOODS_PREPPED in caslib CASUSER(sasdemo).\n",
      "NOTE: Added action set 'fedSQL'.\n",
      "NOTE: Added action set 'autoTune'.\n",
      "NOTE: Added action set 'factMac'.\n",
      "NOTE: Added action set 'textMining'.\n"
     ]
    }
   ],
   "source": [
    "from swat import *\n",
    "#swat.options.cas.print_messages = False\n",
    "\n",
    "# Connect to the session\n",
    "cashost='racesx12013.demo.sas.com'\n",
    "casport=5570\n",
    "casauth='U:\\.authinfo_w12_race'\n",
    "\n",
    "s = CAS(cashost, casport, authinfo=casauth, caslib=\"casuser\")\n",
    "\n",
    "#Load Data\n",
    "f='foods_prepped'\n",
    "s.loadTable(caslib='DemoData', path=f+'.csv', casout=f);\n",
    "\n",
    "#Load actionsets\n",
    "actionsets=['fedSQL', 'autoTune', 'factMac', 'textMining']\n",
    "[s.builtins.loadactionset(i) for i in actionsets];\n",
    "\n",
    "\n",
    "#Create shortcuts\n",
    "food = s.CASTable(f)\n",
    "target = 'score'\n",
    "class_inputs = ['helpfulness','productid','time','userid']"
   ]
  },
  {
   "cell_type": "markdown",
   "metadata": {},
   "source": [
    "## 2. Overview Data & Prepare for text analytics\n",
    "In this step, we will adda column representing the row count. This will be necessary during our text analytics.  We will also look at the data to make sure everything looks right"
   ]
  },
  {
   "cell_type": "code",
   "execution_count": 2,
   "metadata": {
    "collapsed": false
   },
   "outputs": [
    {
     "name": "stdout",
     "output_type": "stream",
     "text": [
      "568454 Reviews\n"
     ]
    },
    {
     "data": {
      "text/html": [
       "<div>\n",
       "<table border=\"1\" class=\"dataframe\"><caption>Selected Rows from Table FOODS_PREPPED</caption>\n",
       "  <thead>\n",
       "    <tr style=\"text-align: right;\">\n",
       "      <th title=\"\"></th>\n",
       "      <th title=\"helpfulness\">helpfulness</th>\n",
       "      <th title=\"productId\">productId</th>\n",
       "      <th title=\"score\">score</th>\n",
       "      <th title=\"summary\">summary</th>\n",
       "      <th title=\"text\">text</th>\n",
       "      <th title=\"time\">time</th>\n",
       "      <th title=\"userId\">userId</th>\n",
       "      <th title=\"key\">key</th>\n",
       "    </tr>\n",
       "  </thead>\n",
       "  <tbody>\n",
       "    <tr>\n",
       "      <th>0</th>\n",
       "      <td>2/2</td>\n",
       "      <td>B000HEA964</td>\n",
       "      <td>5.0</td>\n",
       "      <td>Dog's Favorite Snack</td>\n",
       "      <td>These chicken chips are devored daily by my 2 ...</td>\n",
       "      <td>1.212883e+09</td>\n",
       "      <td>A2E61OQYIVB55P</td>\n",
       "      <td>67425.0</td>\n",
       "    </tr>\n",
       "    <tr>\n",
       "      <th>1</th>\n",
       "      <td>2/2</td>\n",
       "      <td>B000HEA964</td>\n",
       "      <td>5.0</td>\n",
       "      <td>Better Than \"Cookies\"</td>\n",
       "      <td>These crunchy treats are irresistable to my Co...</td>\n",
       "      <td>1.208304e+09</td>\n",
       "      <td>A2UCGE4EQZ0P4A</td>\n",
       "      <td>67426.0</td>\n",
       "    </tr>\n",
       "    <tr>\n",
       "      <th>2</th>\n",
       "      <td>2/2</td>\n",
       "      <td>B000HEA964</td>\n",
       "      <td>4.0</td>\n",
       "      <td>Good for small dogs.</td>\n",
       "      <td>I have two American Eskimo dogs, and so these ...</td>\n",
       "      <td>1.204157e+09</td>\n",
       "      <td>A304WL23L6EDML</td>\n",
       "      <td>67427.0</td>\n",
       "    </tr>\n",
       "    <tr>\n",
       "      <th>3</th>\n",
       "      <td>2/2</td>\n",
       "      <td>B000HEA964</td>\n",
       "      <td>5.0</td>\n",
       "      <td>great</td>\n",
       "      <td>My little dog loved these. Were first sent to ...</td>\n",
       "      <td>1.176163e+09</td>\n",
       "      <td>A287Z78FJTTT27</td>\n",
       "      <td>67428.0</td>\n",
       "    </tr>\n",
       "    <tr>\n",
       "      <th>4</th>\n",
       "      <td>1/1</td>\n",
       "      <td>B000HEA964</td>\n",
       "      <td>5.0</td>\n",
       "      <td>Cost more than steak, but my dogs love them!</td>\n",
       "      <td>My two Havanese really love these!  They are v...</td>\n",
       "      <td>1.285114e+09</td>\n",
       "      <td>A18UVHCREY2RE2</td>\n",
       "      <td>67429.0</td>\n",
       "    </tr>\n",
       "  </tbody>\n",
       "</table>\n",
       "</div>"
      ],
      "text/plain": [
       "Selected Rows from Table FOODS_PREPPED\n",
       "\n",
       "  helpfulness   productId  score  \\\n",
       "0         2/2  B000HEA964    5.0   \n",
       "1         2/2  B000HEA964    5.0   \n",
       "2         2/2  B000HEA964    4.0   \n",
       "3         2/2  B000HEA964    5.0   \n",
       "4         1/1  B000HEA964    5.0   \n",
       "\n",
       "                                        summary  \\\n",
       "0                          Dog's Favorite Snack   \n",
       "1                         Better Than \"Cookies\"   \n",
       "2                          Good for small dogs.   \n",
       "3                                         great   \n",
       "4  Cost more than steak, but my dogs love them!   \n",
       "\n",
       "                                                text          time  \\\n",
       "0  These chicken chips are devored daily by my 2 ...  1.212883e+09   \n",
       "1  These crunchy treats are irresistable to my Co...  1.208304e+09   \n",
       "2  I have two American Eskimo dogs, and so these ...  1.204157e+09   \n",
       "3  My little dog loved these. Were first sent to ...  1.176163e+09   \n",
       "4  My two Havanese really love these!  They are v...  1.285114e+09   \n",
       "\n",
       "           userId      key  \n",
       "0  A2E61OQYIVB55P  67425.0  \n",
       "1  A2UCGE4EQZ0P4A  67426.0  \n",
       "2  A304WL23L6EDML  67427.0  \n",
       "3  A287Z78FJTTT27  67428.0  \n",
       "4  A18UVHCREY2RE2  67429.0  "
      ]
     },
     "execution_count": 2,
     "metadata": {},
     "output_type": "execute_result"
    }
   ],
   "source": [
    "#Add a column Identifier in-memory\n",
    "s.dataStep.runCode('''data ''' + f + '''; \n",
    "                      set '''  + f + ''';\n",
    "                      key = _n_; run;''')\n",
    "\n",
    "#Print Number of reviews\n",
    "print(len(food), \"Reviews\")\n",
    "\n",
    "#Validate first few rows\n",
    "food.head()"
   ]
  },
  {
   "cell_type": "markdown",
   "metadata": {},
   "source": [
    "## 3. Perform text analysis\n",
    "The code below performs many different types of text analytics, including:\n",
    "1. Creating Document term matrix\n",
    "2. Creating parent-child relationshipos\n",
    "3. Text Topics and important terms per topic\n",
    "4. Creating structured representation of the text data\n",
    "\n",
    "For this FM model, we will look to reduce the document term matrix into three structured representations, that describe latent differences amoung the text data. We will use these numeric vectors, in additional to our original inputs, in our FM model"
   ]
  },
  {
   "cell_type": "code",
   "execution_count": 4,
   "metadata": {
    "collapsed": false
   },
   "outputs": [
    {
     "data": {
      "text/html": [
       "<div class=\"cas-results-key\"><b>&#167; OutputCasTablesFull</b></div>\n",
       "<div class=\"cas-results-body\">\n",
       "<div>\n",
       "<table border=\"1\" class=\"dataframe\">\n",
       "  <thead>\n",
       "    <tr style=\"text-align: right;\">\n",
       "      <th title=\"\"></th>\n",
       "      <th title=\"CAS Library\">casLib</th>\n",
       "      <th title=\"Name\">Name</th>\n",
       "      <th title=\"Label\">Label</th>\n",
       "      <th title=\"Number of Rows\">Rows</th>\n",
       "      <th title=\"Number of Columns\">Columns</th>\n",
       "      <th title=\"Table\">casTable</th>\n",
       "    </tr>\n",
       "  </thead>\n",
       "  <tbody>\n",
       "    <tr>\n",
       "      <th>0</th>\n",
       "      <td>CASUSER(sasdemo)</td>\n",
       "      <td>config</td>\n",
       "      <td></td>\n",
       "      <td>1</td>\n",
       "      <td>11</td>\n",
       "      <td>CASTable('config', caslib='CASUSER(sasdemo)')</td>\n",
       "    </tr>\n",
       "    <tr>\n",
       "      <th>1</th>\n",
       "      <td>CASUSER(sasdemo)</td>\n",
       "      <td>terms</td>\n",
       "      <td></td>\n",
       "      <td>141740</td>\n",
       "      <td>11</td>\n",
       "      <td>CASTable('terms', caslib='CASUSER(sasdemo)')</td>\n",
       "    </tr>\n",
       "    <tr>\n",
       "      <th>2</th>\n",
       "      <td>CASUSER(sasdemo)</td>\n",
       "      <td>parent</td>\n",
       "      <td></td>\n",
       "      <td>15670231</td>\n",
       "      <td>3</td>\n",
       "      <td>CASTable('parent', caslib='CASUSER(sasdemo)')</td>\n",
       "    </tr>\n",
       "    <tr>\n",
       "      <th>3</th>\n",
       "      <td>CASUSER(sasdemo)</td>\n",
       "      <td>child</td>\n",
       "      <td></td>\n",
       "      <td>16503075</td>\n",
       "      <td>3</td>\n",
       "      <td>CASTable('child', caslib='CASUSER(sasdemo)')</td>\n",
       "    </tr>\n",
       "    <tr>\n",
       "      <th>4</th>\n",
       "      <td>CASUSER(sasdemo)</td>\n",
       "      <td>svdu</td>\n",
       "      <td></td>\n",
       "      <td>72708</td>\n",
       "      <td>4</td>\n",
       "      <td>CASTable('svdu', caslib='CASUSER(sasdemo)')</td>\n",
       "    </tr>\n",
       "    <tr>\n",
       "      <th>5</th>\n",
       "      <td>CASUSER(sasdemo)</td>\n",
       "      <td>docpro</td>\n",
       "      <td></td>\n",
       "      <td>568454</td>\n",
       "      <td>9</td>\n",
       "      <td>CASTable('docpro', caslib='CASUSER(sasdemo)')</td>\n",
       "    </tr>\n",
       "    <tr>\n",
       "      <th>6</th>\n",
       "      <td>CASUSER(sasdemo)</td>\n",
       "      <td>topics</td>\n",
       "      <td></td>\n",
       "      <td>3</td>\n",
       "      <td>3</td>\n",
       "      <td>CASTable('topics', caslib='CASUSER(sasdemo)')</td>\n",
       "    </tr>\n",
       "  </tbody>\n",
       "</table>\n",
       "</div>\n",
       "</div>\n",
       "<div class=\"cas-output-area\"></div>\n",
       "<p class=\"cas-results-performance\"><small><span class=\"cas-elapsed\">elapsed 1.65e+03s</span> &#183; <span class=\"cas-user\">user 3.55e+03s</span> &#183; <span class=\"cas-sys\">sys 77.4s</span> &#183; <span class=\"cas-memory\">mem 42.5MB</span></small></p>"
      ],
      "text/plain": [
       "[OutputCasTablesFull]\n",
       "\n",
       "              casLib    Name Label      Rows  Columns  \\\n",
       " 0  CASUSER(sasdemo)  config               1       11   \n",
       " 1  CASUSER(sasdemo)   terms          141740       11   \n",
       " 2  CASUSER(sasdemo)  parent        15670231        3   \n",
       " 3  CASUSER(sasdemo)   child        16503075        3   \n",
       " 4  CASUSER(sasdemo)    svdu           72708        4   \n",
       " 5  CASUSER(sasdemo)  docpro          568454        9   \n",
       " 6  CASUSER(sasdemo)  topics               3        3   \n",
       " \n",
       "                                         casTable  \n",
       " 0  CASTable('config', caslib='CASUSER(sasdemo)')  \n",
       " 1   CASTable('terms', caslib='CASUSER(sasdemo)')  \n",
       " 2  CASTable('parent', caslib='CASUSER(sasdemo)')  \n",
       " 3   CASTable('child', caslib='CASUSER(sasdemo)')  \n",
       " 4    CASTable('svdu', caslib='CASUSER(sasdemo)')  \n",
       " 5  CASTable('docpro', caslib='CASUSER(sasdemo)')  \n",
       " 6  CASTable('topics', caslib='CASUSER(sasdemo)')  \n",
       "\n",
       "+ Elapsed: 1.65e+03s, user: 3.55e+03s, sys: 77.4s, mem: 42.5mb"
      ]
     },
     "execution_count": 4,
     "metadata": {},
     "output_type": "execute_result"
    }
   ],
   "source": [
    "#Load stop list into memory\n",
    "s.loadTable(caslib='DemoData', path='engstop'+'.sas7bdat', casout='engstop');\n",
    "\n",
    "#Helper function to aid with text mining\n",
    "def c_dict(name):\n",
    "    training_options = dict(name      = name,\n",
    "                            replace   = True)                           \n",
    "    return training_options\n",
    "\n",
    "#Perform Text mining\n",
    "    #* = optional\n",
    "s.textMining.tmMine(\n",
    "  documents=f,\n",
    "  stopList=\"engstop\",\n",
    "  docId=\"key\",\n",
    "  copyVars=class_inputs + [target],\n",
    "  text='text',\n",
    "  reduce=10,\n",
    "  entities=\"STD\",\n",
    "  k=3,\n",
    "  norm=\"DOC\",\n",
    "  u=c_dict(\"svdu\"),\n",
    "  terms=c_dict(\"terms\"), #*\n",
    "  parent=c_dict(\"parent\"), #*\n",
    "  child=c_dict(\"child\"), #*\n",
    "  parseConfig=c_dict(\"config\"), #*\n",
    "  docPro=c_dict(\"docpro\"), \n",
    "  topics=c_dict(\"topics\"), #*\n",
    ")"
   ]
  },
  {
   "cell_type": "markdown",
   "metadata": {},
   "source": [
    "## 4. Promote Text Analytics Dataset into public memory\n",
    "We will first take a look at the dataset ouput from our text analytics. We can see 3 columns have been added, _Col1_, _Col2_, _Col3_. These columns are the numerical summaries of how each text review is related to each of the 3 latent text topics\n",
    "<br>\n",
    "\n",
    "We will then promote this dataset into public memory, where we will use it to build a FM model in SAS Studio. Alternatively, you could save the file to the server as a sashdat file, and load it into memory in SAS Studio"
   ]
  },
  {
   "cell_type": "code",
   "execution_count": 5,
   "metadata": {
    "collapsed": false
   },
   "outputs": [
    {
     "data": {
      "text/html": [
       "<div class=\"cas-results-key\"><b>&#167; Fetch</b></div>\n",
       "<div class=\"cas-results-body\">\n",
       "<div>\n",
       "<table border=\"1\" class=\"dataframe\"><caption>Selected Rows from Table DOCPRO</caption>\n",
       "  <thead>\n",
       "    <tr style=\"text-align: right;\">\n",
       "      <th title=\"\"></th>\n",
       "      <th title=\"key\">key</th>\n",
       "      <th title=\"_Col1_\">_Col1_</th>\n",
       "      <th title=\"_Col2_\">_Col2_</th>\n",
       "      <th title=\"_Col3_\">_Col3_</th>\n",
       "      <th title=\"helpfulness\">helpfulness</th>\n",
       "      <th title=\"productId\">productId</th>\n",
       "      <th title=\"time\">time</th>\n",
       "      <th title=\"userId\">userId</th>\n",
       "      <th title=\"score\">score</th>\n",
       "    </tr>\n",
       "  </thead>\n",
       "  <tbody>\n",
       "    <tr>\n",
       "      <th>0</th>\n",
       "      <td>8408.0</td>\n",
       "      <td>0.793594</td>\n",
       "      <td>0.302304</td>\n",
       "      <td>0.528035</td>\n",
       "      <td>0/0</td>\n",
       "      <td>B00146K7MU</td>\n",
       "      <td>1.288829e+09</td>\n",
       "      <td>AYYACIDP5I4V6</td>\n",
       "      <td>5.0</td>\n",
       "    </tr>\n",
       "    <tr>\n",
       "      <th>1</th>\n",
       "      <td>8409.0</td>\n",
       "      <td>0.774742</td>\n",
       "      <td>0.256919</td>\n",
       "      <td>0.577726</td>\n",
       "      <td>4/4</td>\n",
       "      <td>B001ESKSPY</td>\n",
       "      <td>1.294618e+09</td>\n",
       "      <td>A3SQJCRXHOQ8GF</td>\n",
       "      <td>5.0</td>\n",
       "    </tr>\n",
       "    <tr>\n",
       "      <th>2</th>\n",
       "      <td>8410.0</td>\n",
       "      <td>0.835524</td>\n",
       "      <td>0.256906</td>\n",
       "      <td>0.485694</td>\n",
       "      <td>2/2</td>\n",
       "      <td>B001ESKSPY</td>\n",
       "      <td>1.308269e+09</td>\n",
       "      <td>A1XUX4HFY8F7YW</td>\n",
       "      <td>5.0</td>\n",
       "    </tr>\n",
       "    <tr>\n",
       "      <th>3</th>\n",
       "      <td>8411.0</td>\n",
       "      <td>0.836214</td>\n",
       "      <td>0.289241</td>\n",
       "      <td>0.465924</td>\n",
       "      <td>6/6</td>\n",
       "      <td>B004749DY4</td>\n",
       "      <td>1.327018e+09</td>\n",
       "      <td>A216NSW58Q3SCJ</td>\n",
       "      <td>4.0</td>\n",
       "    </tr>\n",
       "    <tr>\n",
       "      <th>4</th>\n",
       "      <td>8412.0</td>\n",
       "      <td>0.795012</td>\n",
       "      <td>0.366726</td>\n",
       "      <td>0.483184</td>\n",
       "      <td>6/7</td>\n",
       "      <td>B004749DY4</td>\n",
       "      <td>1.324426e+09</td>\n",
       "      <td>ACJT8MUC0LRF0</td>\n",
       "      <td>4.0</td>\n",
       "    </tr>\n",
       "  </tbody>\n",
       "</table>\n",
       "</div>\n",
       "</div>\n",
       "<div class=\"cas-output-area\"></div>\n",
       "<p class=\"cas-results-performance\"><small><span class=\"cas-elapsed\">elapsed 0.00323s</span> &#183; <span class=\"cas-user\">user 0.002s</span> &#183; <span class=\"cas-sys\">sys 0.001s</span> &#183; <span class=\"cas-memory\">mem 0.564MB</span></small></p>"
      ],
      "text/plain": [
       "[Fetch]\n",
       "\n",
       " Selected Rows from Table DOCPRO\n",
       " \n",
       "       key    _Col1_    _Col2_    _Col3_ helpfulness   productId          time  \\\n",
       " 0  8408.0  0.793594  0.302304  0.528035         0/0  B00146K7MU  1.288829e+09   \n",
       " 1  8409.0  0.774742  0.256919  0.577726         4/4  B001ESKSPY  1.294618e+09   \n",
       " 2  8410.0  0.835524  0.256906  0.485694         2/2  B001ESKSPY  1.308269e+09   \n",
       " 3  8411.0  0.836214  0.289241  0.465924         6/6  B004749DY4  1.327018e+09   \n",
       " 4  8412.0  0.795012  0.366726  0.483184         6/7  B004749DY4  1.324426e+09   \n",
       " \n",
       "            userId  score  \n",
       " 0   AYYACIDP5I4V6    5.0  \n",
       " 1  A3SQJCRXHOQ8GF    5.0  \n",
       " 2  A1XUX4HFY8F7YW    5.0  \n",
       " 3  A216NSW58Q3SCJ    4.0  \n",
       " 4   ACJT8MUC0LRF0    4.0  \n",
       "\n",
       "+ Elapsed: 0.00323s, user: 0.002s, sys: 0.001s, mem: 0.564mb"
      ]
     },
     "execution_count": 5,
     "metadata": {},
     "output_type": "execute_result"
    }
   ],
   "source": [
    "s.CASTable(\"docpro\").fetch(to=5)"
   ]
  },
  {
   "cell_type": "code",
   "execution_count": 7,
   "metadata": {
    "collapsed": false
   },
   "outputs": [
    {
     "name": "stdout",
     "output_type": "stream",
     "text": [
      "NOTE: Cloud Analytic Services made the file Foods_prep_text.sashdat available as table DOCPRO in caslib CASUSER(sasdemo).\n"
     ]
    },
    {
     "data": {
      "text/html": [
       "<div class=\"cas-results-key\"><b>&#167; caslib</b></div>\n",
       "<div class=\"cas-results-body\">\n",
       "<div>CASUSER(sasdemo)</div>\n",
       "</div>\n",
       "<div class=\"cas-results-key\"><hr/><b>&#167; tableName</b></div>\n",
       "<div class=\"cas-results-body\">\n",
       "<div>DOCPRO</div>\n",
       "</div>\n",
       "<div class=\"cas-results-key\"><hr/><b>&#167; casTable</b></div>\n",
       "<div class=\"cas-results-body\">\n",
       "<div>CASTable('DOCPRO', caslib='CASUSER(sasdemo)')</div>\n",
       "</div>\n",
       "<div class=\"cas-output-area\"></div>\n",
       "<p class=\"cas-results-performance\"><small><span class=\"cas-elapsed\">elapsed 0.542s</span> &#183; <span class=\"cas-user\">user 0.003s</span> &#183; <span class=\"cas-sys\">sys 0.017s</span> &#183; <span class=\"cas-memory\">mem 0.14MB</span></small></p>"
      ],
      "text/plain": [
       "[caslib]\n",
       "\n",
       " 'CASUSER(sasdemo)'\n",
       "\n",
       "[tableName]\n",
       "\n",
       " 'DOCPRO'\n",
       "\n",
       "[casTable]\n",
       "\n",
       " CASTable('DOCPRO', caslib='CASUSER(sasdemo)')\n",
       "\n",
       "+ Elapsed: 0.542s, user: 0.003s, sys: 0.017s, mem: 0.14mb"
      ]
     },
     "execution_count": 7,
     "metadata": {},
     "output_type": "execute_result"
    }
   ],
   "source": [
    "#Load data into Public memory\n",
    "s.loadTable(caslib='DemoData',  path='Foods_prep_text'+'.sashdat', casout='docpro')"
   ]
  },
  {
   "cell_type": "code",
   "execution_count": 15,
   "metadata": {
    "collapsed": false
   },
   "outputs": [
    {
     "name": "stdout",
     "output_type": "stream",
     "text": [
      "NOTE: Cloud Analytic Services saved the file Foods_prep_text.sashdat in caslib DemoData.\n"
     ]
    },
    {
     "data": {
      "text/html": [
       "<div class=\"cas-results-key\"><b>&#167; caslib</b></div>\n",
       "<div class=\"cas-results-body\">\n",
       "<div>DemoData</div>\n",
       "</div>\n",
       "<div class=\"cas-results-key\"><hr/><b>&#167; name</b></div>\n",
       "<div class=\"cas-results-body\">\n",
       "<div>Foods_prep_text.sashdat</div>\n",
       "</div>\n",
       "<div class=\"cas-output-area\"></div>\n",
       "<p class=\"cas-results-performance\"><small><span class=\"cas-elapsed\">elapsed 0.426s</span> &#183; <span class=\"cas-user\">user 0.026s</span> &#183; <span class=\"cas-sys\">sys 0.089s</span> &#183; <span class=\"cas-memory\">mem 16.1MB</span></small></p>"
      ],
      "text/plain": [
       "[caslib]\n",
       "\n",
       " 'DemoData'\n",
       "\n",
       "[name]\n",
       "\n",
       " 'Foods_prep_text.sashdat'\n",
       "\n",
       "+ Elapsed: 0.426s, user: 0.026s, sys: 0.089s, mem: 16.1mb"
      ]
     },
     "execution_count": 15,
     "metadata": {},
     "output_type": "execute_result"
    }
   ],
   "source": [
    "#Load data into Public memory\n",
    "s.table.promote(table='docpro')\n",
    "\n",
    "#Save file to Server\n",
    "s.table.save(caslib='DemoData', name='Foods_prep_text.sashdat', table=\"docpro\")"
   ]
  }
 ],
 "metadata": {
  "kernelspec": {
   "display_name": "Python 3",
   "language": "python",
   "name": "python3"
  },
  "language_info": {
   "codemirror_mode": {
    "name": "ipython",
    "version": 3
   },
   "file_extension": ".py",
   "mimetype": "text/x-python",
   "name": "python",
   "nbconvert_exporter": "python",
   "pygments_lexer": "ipython3",
   "version": "3.5.2"
  }
 },
 "nbformat": 4,
 "nbformat_minor": 0
}
